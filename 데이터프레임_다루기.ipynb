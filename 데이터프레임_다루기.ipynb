{
  "nbformat": 4,
  "nbformat_minor": 0,
  "metadata": {
    "colab": {
      "name": "데이터프레임 다루기.ipynb",
      "provenance": [],
      "authorship_tag": "ABX9TyORfF9XTiXfvyVT2BhAc0QE",
      "include_colab_link": true
    },
    "kernelspec": {
      "name": "ir",
      "display_name": "R"
    }
  },
  "cells": [
    {
      "cell_type": "markdown",
      "metadata": {
        "id": "view-in-github",
        "colab_type": "text"
      },
      "source": [
        "<a href=\"https://colab.research.google.com/github/Jungsan005/R_statstics/blob/master/%EB%8D%B0%EC%9D%B4%ED%84%B0%ED%94%84%EB%A0%88%EC%9E%84_%EB%8B%A4%EB%A3%A8%EA%B8%B0.ipynb\" target=\"_parent\"><img src=\"https://colab.research.google.com/assets/colab-badge.svg\" alt=\"Open In Colab\"/></a>"
      ]
    },
    {
      "cell_type": "code",
      "metadata": {
        "id": "12C9cVUBa3O2",
        "colab_type": "code",
        "colab": {}
      },
      "source": [
        "# 매니저 평점 분석\n",
        "Manager <- c(\"1\",\"2\",\"3\",\"4\",\"5\")\n",
        "Date <- c(\"2014-10-24\", \"2014-10-28\", \"2014-10-01\", \"2014-10/12\",\"2014-05-01\")\n",
        "Country <- c(\"US\",\"US\", \"UK\",  \"UK\", \"UK\")\n",
        "Gender <- c(\"M\",\"F\",\"F\",\"M\",\"F\")\n",
        "Age <- c(32,45,25,39,99)\n",
        "q1 <- c(5,3,3,3,2)\n",
        "q2 <- c(4,5,5,3,2)\n",
        "q3 <- c(5,2,5,4,1)\n",
        "q4 <- c(5,5,5,NA,2)\n",
        "q5 <- c(5,5,2,NA,1)\n",
        "\n",
        "\n",
        "managers <- data.frame(Manager,Date, Country, Gender, Age, q1, q2, q3, q4, q5)"
      ],
      "execution_count": null,
      "outputs": []
    },
    {
      "cell_type": "code",
      "metadata": {
        "id": "3kqZNQIhedDP",
        "colab_type": "code",
        "colab": {
          "base_uri": "https://localhost:8080/",
          "height": 183
        },
        "outputId": "4f99585e-ae3a-4765-8709-db1624fc4b0f"
      },
      "source": [
        "managers"
      ],
      "execution_count": null,
      "outputs": [
        {
          "output_type": "display_data",
          "data": {
            "text/plain": [
              "  Manager Date       Country Gender Age q1 q2 q3 q4 q5 ages\n",
              "1 1       2014-10-24 US      M      32  5  4  5   5  5 중년\n",
              "2 2       2014-10-28 US      F      45  3  5  2   5  5 중년\n",
              "3 3       2014-10-01 UK      F      25  3  5  5   5  2 청년\n",
              "4 4       2014-10/12 UK      M      39  3  3  4  NA NA 중년\n",
              "5 5       2014-05-01 UK      F      99  2  2  1   2  1 노년"
            ],
            "text/latex": "A data.frame: 5 × 11\n\\begin{tabular}{lllllllllll}\n Manager & Date & Country & Gender & Age & q1 & q2 & q3 & q4 & q5 & ages\\\\\n <fct> & <fct> & <fct> & <fct> & <dbl> & <dbl> & <dbl> & <dbl> & <dbl> & <dbl> & <chr>\\\\\n\\hline\n\t 1 & 2014-10-24 & US & M & 32 & 5 & 4 & 5 &  5 &  5 & 중년\\\\\n\t 2 & 2014-10-28 & US & F & 45 & 3 & 5 & 2 &  5 &  5 & 중년\\\\\n\t 3 & 2014-10-01 & UK & F & 25 & 3 & 5 & 5 &  5 &  2 & 청년\\\\\n\t 4 & 2014-10/12 & UK & M & 39 & 3 & 3 & 4 & NA & NA & 중년\\\\\n\t 5 & 2014-05-01 & UK & F & 99 & 2 & 2 & 1 &  2 &  1 & 노년\\\\\n\\end{tabular}\n",
            "text/markdown": "\nA data.frame: 5 × 11\n\n| Manager &lt;fct&gt; | Date &lt;fct&gt; | Country &lt;fct&gt; | Gender &lt;fct&gt; | Age &lt;dbl&gt; | q1 &lt;dbl&gt; | q2 &lt;dbl&gt; | q3 &lt;dbl&gt; | q4 &lt;dbl&gt; | q5 &lt;dbl&gt; | ages &lt;chr&gt; |\n|---|---|---|---|---|---|---|---|---|---|---|\n| 1 | 2014-10-24 | US | M | 32 | 5 | 4 | 5 |  5 |  5 | 중년 |\n| 2 | 2014-10-28 | US | F | 45 | 3 | 5 | 2 |  5 |  5 | 중년 |\n| 3 | 2014-10-01 | UK | F | 25 | 3 | 5 | 5 |  5 |  2 | 청년 |\n| 4 | 2014-10/12 | UK | M | 39 | 3 | 3 | 4 | NA | NA | 중년 |\n| 5 | 2014-05-01 | UK | F | 99 | 2 | 2 | 1 |  2 |  1 | 노년 |\n\n",
            "text/html": [
              "<table>\n",
              "<caption>A data.frame: 5 × 11</caption>\n",
              "<thead>\n",
              "\t<tr><th scope=col>Manager</th><th scope=col>Date</th><th scope=col>Country</th><th scope=col>Gender</th><th scope=col>Age</th><th scope=col>q1</th><th scope=col>q2</th><th scope=col>q3</th><th scope=col>q4</th><th scope=col>q5</th><th scope=col>ages</th></tr>\n",
              "\t<tr><th scope=col>&lt;fct&gt;</th><th scope=col>&lt;fct&gt;</th><th scope=col>&lt;fct&gt;</th><th scope=col>&lt;fct&gt;</th><th scope=col>&lt;dbl&gt;</th><th scope=col>&lt;dbl&gt;</th><th scope=col>&lt;dbl&gt;</th><th scope=col>&lt;dbl&gt;</th><th scope=col>&lt;dbl&gt;</th><th scope=col>&lt;dbl&gt;</th><th scope=col>&lt;chr&gt;</th></tr>\n",
              "</thead>\n",
              "<tbody>\n",
              "\t<tr><td>1</td><td>2014-10-24</td><td>US</td><td>M</td><td>32</td><td>5</td><td>4</td><td>5</td><td> 5</td><td> 5</td><td>중년</td></tr>\n",
              "\t<tr><td>2</td><td>2014-10-28</td><td>US</td><td>F</td><td>45</td><td>3</td><td>5</td><td>2</td><td> 5</td><td> 5</td><td>중년</td></tr>\n",
              "\t<tr><td>3</td><td>2014-10-01</td><td>UK</td><td>F</td><td>25</td><td>3</td><td>5</td><td>5</td><td> 5</td><td> 2</td><td>청년</td></tr>\n",
              "\t<tr><td>4</td><td>2014-10/12</td><td>UK</td><td>M</td><td>39</td><td>3</td><td>3</td><td>4</td><td>NA</td><td>NA</td><td>중년</td></tr>\n",
              "\t<tr><td>5</td><td>2014-05-01</td><td>UK</td><td>F</td><td>99</td><td>2</td><td>2</td><td>1</td><td> 2</td><td> 1</td><td>노년</td></tr>\n",
              "</tbody>\n",
              "</table>\n"
            ]
          },
          "metadata": {
            "tags": []
          }
        }
      ]
    },
    {
      "cell_type": "code",
      "metadata": {
        "id": "XjdDnlujbmCZ",
        "colab_type": "code",
        "colab": {
          "base_uri": "https://localhost:8080/",
          "height": 533
        },
        "outputId": "b90666e7-902e-46ca-ca43-74e211d5cce0"
      },
      "source": [
        "# 나이라는 컬럼을 기준으로 age3s라는 새로운 컬러 생성\n",
        "\n",
        "# age: 연속형 => ages: 범주형\n",
        "# 나이 20 ~ 30: 청년\n",
        "# 나이 31 ~ 45: 중년\n",
        "# 나이 46 ~ 65: 장년\n",
        "# 나이 66 ~   : 노년\n",
        "\n",
        "# managers$새로운 컬럼 명 <- 값\n",
        "# 데이터프레임에 존재하지 않는 컴럼을 명시하면 그 이름으로 새롭게 추가됨\n",
        "\n",
        "managers$ages <- c(0,0,0,0,0) # 나이대 컬럼\n",
        "\n",
        "# 데이터프레임 요소 접근하기\n",
        "# 2차원배영릐 일종이므로 배열요소 접근방식 사용\n",
        "# 데이터프레임[행, 열]\n",
        "\n",
        "managers[1,1] # 매니저 번호 중 1번 출력\n",
        "managers[1,'Country'] # 1번 매니저 국적\n",
        "managers[1,c('Country','Gender')] \n",
        "managers[1,c(3,4)] \n",
        "managers[c(2,4), c(3,4)]\n",
        "managers[3,1:10]\n",
        "managers[3,]\n",
        "managers[,5]"
      ],
      "execution_count": null,
      "outputs": [
        {
          "output_type": "display_data",
          "data": {
            "text/plain": [
              "[1] 1\n",
              "Levels: 1 2 3 4 5"
            ],
            "text/latex": "1\n\\emph{Levels}: \\begin{enumerate*}\n\\item '1'\n\\item '2'\n\\item '3'\n\\item '4'\n\\item '5'\n\\end{enumerate*}\n",
            "text/markdown": "1\n**Levels**: 1. '1'\n2. '2'\n3. '3'\n4. '4'\n5. '5'\n\n\n",
            "text/html": [
              "1\n",
              "<details>\n",
              "\t<summary style=display:list-item;cursor:pointer>\n",
              "\t\t<strong>Levels</strong>:\n",
              "\t</summary>\n",
              "\t<style>\n",
              "\t.list-inline {list-style: none; margin:0; padding: 0}\n",
              "\t.list-inline>li {display: inline-block}\n",
              "\t.list-inline>li:not(:last-child)::after {content: \"\\00b7\"; padding: 0 .5ex}\n",
              "\t</style>\n",
              "\t<ol class=list-inline><li>'1'</li><li>'2'</li><li>'3'</li><li>'4'</li><li>'5'</li></ol>\n",
              "</details>"
            ]
          },
          "metadata": {
            "tags": []
          }
        },
        {
          "output_type": "display_data",
          "data": {
            "text/plain": [
              "[1] US\n",
              "Levels: UK US"
            ],
            "text/latex": "US\n\\emph{Levels}: \\begin{enumerate*}\n\\item 'UK'\n\\item 'US'\n\\end{enumerate*}\n",
            "text/markdown": "US\n**Levels**: 1. 'UK'\n2. 'US'\n\n\n",
            "text/html": [
              "US\n",
              "<details>\n",
              "\t<summary style=display:list-item;cursor:pointer>\n",
              "\t\t<strong>Levels</strong>:\n",
              "\t</summary>\n",
              "\t<style>\n",
              "\t.list-inline {list-style: none; margin:0; padding: 0}\n",
              "\t.list-inline>li {display: inline-block}\n",
              "\t.list-inline>li:not(:last-child)::after {content: \"\\00b7\"; padding: 0 .5ex}\n",
              "\t</style>\n",
              "\t<ol class=list-inline><li>'UK'</li><li>'US'</li></ol>\n",
              "</details>"
            ]
          },
          "metadata": {
            "tags": []
          }
        },
        {
          "output_type": "display_data",
          "data": {
            "text/plain": [
              "  Country Gender\n",
              "1 US      M     "
            ],
            "text/latex": "A data.frame: 1 × 2\n\\begin{tabular}{r|ll}\n  & Country & Gender\\\\\n  & <fct> & <fct>\\\\\n\\hline\n\t1 & US & M\\\\\n\\end{tabular}\n",
            "text/markdown": "\nA data.frame: 1 × 2\n\n| <!--/--> | Country &lt;fct&gt; | Gender &lt;fct&gt; |\n|---|---|---|\n| 1 | US | M |\n\n",
            "text/html": [
              "<table>\n",
              "<caption>A data.frame: 1 × 2</caption>\n",
              "<thead>\n",
              "\t<tr><th></th><th scope=col>Country</th><th scope=col>Gender</th></tr>\n",
              "\t<tr><th></th><th scope=col>&lt;fct&gt;</th><th scope=col>&lt;fct&gt;</th></tr>\n",
              "</thead>\n",
              "<tbody>\n",
              "\t<tr><th scope=row>1</th><td>US</td><td>M</td></tr>\n",
              "</tbody>\n",
              "</table>\n"
            ]
          },
          "metadata": {
            "tags": []
          }
        },
        {
          "output_type": "display_data",
          "data": {
            "text/plain": [
              "  Country Gender\n",
              "1 US      M     "
            ],
            "text/latex": "A data.frame: 1 × 2\n\\begin{tabular}{r|ll}\n  & Country & Gender\\\\\n  & <fct> & <fct>\\\\\n\\hline\n\t1 & US & M\\\\\n\\end{tabular}\n",
            "text/markdown": "\nA data.frame: 1 × 2\n\n| <!--/--> | Country &lt;fct&gt; | Gender &lt;fct&gt; |\n|---|---|---|\n| 1 | US | M |\n\n",
            "text/html": [
              "<table>\n",
              "<caption>A data.frame: 1 × 2</caption>\n",
              "<thead>\n",
              "\t<tr><th></th><th scope=col>Country</th><th scope=col>Gender</th></tr>\n",
              "\t<tr><th></th><th scope=col>&lt;fct&gt;</th><th scope=col>&lt;fct&gt;</th></tr>\n",
              "</thead>\n",
              "<tbody>\n",
              "\t<tr><th scope=row>1</th><td>US</td><td>M</td></tr>\n",
              "</tbody>\n",
              "</table>\n"
            ]
          },
          "metadata": {
            "tags": []
          }
        },
        {
          "output_type": "display_data",
          "data": {
            "text/plain": [
              "  Country Gender\n",
              "2 US      F     \n",
              "4 UK      M     "
            ],
            "text/latex": "A data.frame: 2 × 2\n\\begin{tabular}{r|ll}\n  & Country & Gender\\\\\n  & <fct> & <fct>\\\\\n\\hline\n\t2 & US & F\\\\\n\t4 & UK & M\\\\\n\\end{tabular}\n",
            "text/markdown": "\nA data.frame: 2 × 2\n\n| <!--/--> | Country &lt;fct&gt; | Gender &lt;fct&gt; |\n|---|---|---|\n| 2 | US | F |\n| 4 | UK | M |\n\n",
            "text/html": [
              "<table>\n",
              "<caption>A data.frame: 2 × 2</caption>\n",
              "<thead>\n",
              "\t<tr><th></th><th scope=col>Country</th><th scope=col>Gender</th></tr>\n",
              "\t<tr><th></th><th scope=col>&lt;fct&gt;</th><th scope=col>&lt;fct&gt;</th></tr>\n",
              "</thead>\n",
              "<tbody>\n",
              "\t<tr><th scope=row>2</th><td>US</td><td>F</td></tr>\n",
              "\t<tr><th scope=row>4</th><td>UK</td><td>M</td></tr>\n",
              "</tbody>\n",
              "</table>\n"
            ]
          },
          "metadata": {
            "tags": []
          }
        },
        {
          "output_type": "display_data",
          "data": {
            "text/plain": [
              "  Manager Date       Country Gender Age q1 q2 q3 q4 q5\n",
              "3 3       2014-10-01 UK      F      25  3  5  5  5  2 "
            ],
            "text/latex": "A data.frame: 1 × 10\n\\begin{tabular}{r|llllllllll}\n  & Manager & Date & Country & Gender & Age & q1 & q2 & q3 & q4 & q5\\\\\n  & <fct> & <fct> & <fct> & <fct> & <dbl> & <dbl> & <dbl> & <dbl> & <dbl> & <dbl>\\\\\n\\hline\n\t3 & 3 & 2014-10-01 & UK & F & 25 & 3 & 5 & 5 & 5 & 2\\\\\n\\end{tabular}\n",
            "text/markdown": "\nA data.frame: 1 × 10\n\n| <!--/--> | Manager &lt;fct&gt; | Date &lt;fct&gt; | Country &lt;fct&gt; | Gender &lt;fct&gt; | Age &lt;dbl&gt; | q1 &lt;dbl&gt; | q2 &lt;dbl&gt; | q3 &lt;dbl&gt; | q4 &lt;dbl&gt; | q5 &lt;dbl&gt; |\n|---|---|---|---|---|---|---|---|---|---|---|\n| 3 | 3 | 2014-10-01 | UK | F | 25 | 3 | 5 | 5 | 5 | 2 |\n\n",
            "text/html": [
              "<table>\n",
              "<caption>A data.frame: 1 × 10</caption>\n",
              "<thead>\n",
              "\t<tr><th></th><th scope=col>Manager</th><th scope=col>Date</th><th scope=col>Country</th><th scope=col>Gender</th><th scope=col>Age</th><th scope=col>q1</th><th scope=col>q2</th><th scope=col>q3</th><th scope=col>q4</th><th scope=col>q5</th></tr>\n",
              "\t<tr><th></th><th scope=col>&lt;fct&gt;</th><th scope=col>&lt;fct&gt;</th><th scope=col>&lt;fct&gt;</th><th scope=col>&lt;fct&gt;</th><th scope=col>&lt;dbl&gt;</th><th scope=col>&lt;dbl&gt;</th><th scope=col>&lt;dbl&gt;</th><th scope=col>&lt;dbl&gt;</th><th scope=col>&lt;dbl&gt;</th><th scope=col>&lt;dbl&gt;</th></tr>\n",
              "</thead>\n",
              "<tbody>\n",
              "\t<tr><th scope=row>3</th><td>3</td><td>2014-10-01</td><td>UK</td><td>F</td><td>25</td><td>3</td><td>5</td><td>5</td><td>5</td><td>2</td></tr>\n",
              "</tbody>\n",
              "</table>\n"
            ]
          },
          "metadata": {
            "tags": []
          }
        },
        {
          "output_type": "display_data",
          "data": {
            "text/plain": [
              "  Manager Date       Country Gender Age q1 q2 q3 q4 q5 ages\n",
              "3 3       2014-10-01 UK      F      25  3  5  5  5  2  0   "
            ],
            "text/latex": "A data.frame: 1 × 11\n\\begin{tabular}{r|lllllllllll}\n  & Manager & Date & Country & Gender & Age & q1 & q2 & q3 & q4 & q5 & ages\\\\\n  & <fct> & <fct> & <fct> & <fct> & <dbl> & <dbl> & <dbl> & <dbl> & <dbl> & <dbl> & <dbl>\\\\\n\\hline\n\t3 & 3 & 2014-10-01 & UK & F & 25 & 3 & 5 & 5 & 5 & 2 & 0\\\\\n\\end{tabular}\n",
            "text/markdown": "\nA data.frame: 1 × 11\n\n| <!--/--> | Manager &lt;fct&gt; | Date &lt;fct&gt; | Country &lt;fct&gt; | Gender &lt;fct&gt; | Age &lt;dbl&gt; | q1 &lt;dbl&gt; | q2 &lt;dbl&gt; | q3 &lt;dbl&gt; | q4 &lt;dbl&gt; | q5 &lt;dbl&gt; | ages &lt;dbl&gt; |\n|---|---|---|---|---|---|---|---|---|---|---|---|\n| 3 | 3 | 2014-10-01 | UK | F | 25 | 3 | 5 | 5 | 5 | 2 | 0 |\n\n",
            "text/html": [
              "<table>\n",
              "<caption>A data.frame: 1 × 11</caption>\n",
              "<thead>\n",
              "\t<tr><th></th><th scope=col>Manager</th><th scope=col>Date</th><th scope=col>Country</th><th scope=col>Gender</th><th scope=col>Age</th><th scope=col>q1</th><th scope=col>q2</th><th scope=col>q3</th><th scope=col>q4</th><th scope=col>q5</th><th scope=col>ages</th></tr>\n",
              "\t<tr><th></th><th scope=col>&lt;fct&gt;</th><th scope=col>&lt;fct&gt;</th><th scope=col>&lt;fct&gt;</th><th scope=col>&lt;fct&gt;</th><th scope=col>&lt;dbl&gt;</th><th scope=col>&lt;dbl&gt;</th><th scope=col>&lt;dbl&gt;</th><th scope=col>&lt;dbl&gt;</th><th scope=col>&lt;dbl&gt;</th><th scope=col>&lt;dbl&gt;</th><th scope=col>&lt;dbl&gt;</th></tr>\n",
              "</thead>\n",
              "<tbody>\n",
              "\t<tr><th scope=row>3</th><td>3</td><td>2014-10-01</td><td>UK</td><td>F</td><td>25</td><td>3</td><td>5</td><td>5</td><td>5</td><td>2</td><td>0</td></tr>\n",
              "</tbody>\n",
              "</table>\n"
            ]
          },
          "metadata": {
            "tags": []
          }
        },
        {
          "output_type": "display_data",
          "data": {
            "text/plain": [
              "[1] 32 45 25 39 99"
            ],
            "text/latex": "\\begin{enumerate*}\n\\item 32\n\\item 45\n\\item 25\n\\item 39\n\\item 99\n\\end{enumerate*}\n",
            "text/markdown": "1. 32\n2. 45\n3. 25\n4. 39\n5. 99\n\n\n",
            "text/html": [
              "<style>\n",
              ".list-inline {list-style: none; margin:0; padding: 0}\n",
              ".list-inline>li {display: inline-block}\n",
              ".list-inline>li:not(:last-child)::after {content: \"\\00b7\"; padding: 0 .5ex}\n",
              "</style>\n",
              "<ol class=list-inline><li>32</li><li>45</li><li>25</li><li>39</li><li>99</li></ol>\n"
            ]
          },
          "metadata": {
            "tags": []
          }
        }
      ]
    },
    {
      "cell_type": "code",
      "metadata": {
        "id": "fZ_uVQ8Qftmt",
        "colab_type": "code",
        "colab": {
          "base_uri": "https://localhost:8080/",
          "height": 137
        },
        "outputId": "1105ce8a-4d3b-4e0a-a96e-7e7b02376c84"
      },
      "source": [
        "# 불리언(boolean) 인덱싱\n",
        "# 특정 조건을 만족하는 데이터를 찾을 수 있음\n",
        "# 데이터프레임[조건식]\n",
        "\n",
        "managers$Gender == \"M\"\n",
        "\n",
        "managers[managers$Gender==\"M\",]"
      ],
      "execution_count": null,
      "outputs": [
        {
          "output_type": "display_data",
          "data": {
            "text/plain": [
              "[1]  TRUE FALSE FALSE  TRUE FALSE"
            ],
            "text/latex": "\\begin{enumerate*}\n\\item TRUE\n\\item FALSE\n\\item FALSE\n\\item TRUE\n\\item FALSE\n\\end{enumerate*}\n",
            "text/markdown": "1. TRUE\n2. FALSE\n3. FALSE\n4. TRUE\n5. FALSE\n\n\n",
            "text/html": [
              "<style>\n",
              ".list-inline {list-style: none; margin:0; padding: 0}\n",
              ".list-inline>li {display: inline-block}\n",
              ".list-inline>li:not(:last-child)::after {content: \"\\00b7\"; padding: 0 .5ex}\n",
              "</style>\n",
              "<ol class=list-inline><li>TRUE</li><li>FALSE</li><li>FALSE</li><li>TRUE</li><li>FALSE</li></ol>\n"
            ]
          },
          "metadata": {
            "tags": []
          }
        },
        {
          "output_type": "display_data",
          "data": {
            "text/plain": [
              "  Manager Date       Country Gender Age q1 q2 q3 q4 q5\n",
              "1 1       2014-10-24 US      M      32  5  4  5   5  5\n",
              "4 4       2014-10/12 UK      M      39  3  3  4  NA NA"
            ],
            "text/latex": "A data.frame: 2 × 10\n\\begin{tabular}{r|llllllllll}\n  & Manager & Date & Country & Gender & Age & q1 & q2 & q3 & q4 & q5\\\\\n  & <fct> & <fct> & <fct> & <fct> & <dbl> & <dbl> & <dbl> & <dbl> & <dbl> & <dbl>\\\\\n\\hline\n\t1 & 1 & 2014-10-24 & US & M & 32 & 5 & 4 & 5 &  5 &  5\\\\\n\t4 & 4 & 2014-10/12 & UK & M & 39 & 3 & 3 & 4 & NA & NA\\\\\n\\end{tabular}\n",
            "text/markdown": "\nA data.frame: 2 × 10\n\n| <!--/--> | Manager &lt;fct&gt; | Date &lt;fct&gt; | Country &lt;fct&gt; | Gender &lt;fct&gt; | Age &lt;dbl&gt; | q1 &lt;dbl&gt; | q2 &lt;dbl&gt; | q3 &lt;dbl&gt; | q4 &lt;dbl&gt; | q5 &lt;dbl&gt; |\n|---|---|---|---|---|---|---|---|---|---|---|\n| 1 | 1 | 2014-10-24 | US | M | 32 | 5 | 4 | 5 |  5 |  5 |\n| 4 | 4 | 2014-10/12 | UK | M | 39 | 3 | 3 | 4 | NA | NA |\n\n",
            "text/html": [
              "<table>\n",
              "<caption>A data.frame: 2 × 10</caption>\n",
              "<thead>\n",
              "\t<tr><th></th><th scope=col>Manager</th><th scope=col>Date</th><th scope=col>Country</th><th scope=col>Gender</th><th scope=col>Age</th><th scope=col>q1</th><th scope=col>q2</th><th scope=col>q3</th><th scope=col>q4</th><th scope=col>q5</th></tr>\n",
              "\t<tr><th></th><th scope=col>&lt;fct&gt;</th><th scope=col>&lt;fct&gt;</th><th scope=col>&lt;fct&gt;</th><th scope=col>&lt;fct&gt;</th><th scope=col>&lt;dbl&gt;</th><th scope=col>&lt;dbl&gt;</th><th scope=col>&lt;dbl&gt;</th><th scope=col>&lt;dbl&gt;</th><th scope=col>&lt;dbl&gt;</th><th scope=col>&lt;dbl&gt;</th></tr>\n",
              "</thead>\n",
              "<tbody>\n",
              "\t<tr><th scope=row>1</th><td>1</td><td>2014-10-24</td><td>US</td><td>M</td><td>32</td><td>5</td><td>4</td><td>5</td><td> 5</td><td> 5</td></tr>\n",
              "\t<tr><th scope=row>4</th><td>4</td><td>2014-10/12</td><td>UK</td><td>M</td><td>39</td><td>3</td><td>3</td><td>4</td><td>NA</td><td>NA</td></tr>\n",
              "</tbody>\n",
              "</table>\n"
            ]
          },
          "metadata": {
            "tags": []
          }
        }
      ]
    },
    {
      "cell_type": "code",
      "metadata": {
        "id": "yFJokip5hme6",
        "colab_type": "code",
        "colab": {
          "base_uri": "https://localhost:8080/",
          "height": 120
        },
        "outputId": "eccbf3d2-f21c-4c54-eccd-2f24842ef9aa"
      },
      "source": [
        "managers[managers$Age > 40,]"
      ],
      "execution_count": null,
      "outputs": [
        {
          "output_type": "display_data",
          "data": {
            "text/plain": [
              "  Manager Date       Country Gender Age q1 q2 q3 q4 q5\n",
              "2 2       2014-10-28 US      F      45  3  5  2  5  5 \n",
              "5 5       2014-05-01 UK      F      99  2  2  1  2  1 "
            ],
            "text/latex": "A data.frame: 2 × 10\n\\begin{tabular}{r|llllllllll}\n  & Manager & Date & Country & Gender & Age & q1 & q2 & q3 & q4 & q5\\\\\n  & <fct> & <fct> & <fct> & <fct> & <dbl> & <dbl> & <dbl> & <dbl> & <dbl> & <dbl>\\\\\n\\hline\n\t2 & 2 & 2014-10-28 & US & F & 45 & 3 & 5 & 2 & 5 & 5\\\\\n\t5 & 5 & 2014-05-01 & UK & F & 99 & 2 & 2 & 1 & 2 & 1\\\\\n\\end{tabular}\n",
            "text/markdown": "\nA data.frame: 2 × 10\n\n| <!--/--> | Manager &lt;fct&gt; | Date &lt;fct&gt; | Country &lt;fct&gt; | Gender &lt;fct&gt; | Age &lt;dbl&gt; | q1 &lt;dbl&gt; | q2 &lt;dbl&gt; | q3 &lt;dbl&gt; | q4 &lt;dbl&gt; | q5 &lt;dbl&gt; |\n|---|---|---|---|---|---|---|---|---|---|---|\n| 2 | 2 | 2014-10-28 | US | F | 45 | 3 | 5 | 2 | 5 | 5 |\n| 5 | 5 | 2014-05-01 | UK | F | 99 | 2 | 2 | 1 | 2 | 1 |\n\n",
            "text/html": [
              "<table>\n",
              "<caption>A data.frame: 2 × 10</caption>\n",
              "<thead>\n",
              "\t<tr><th></th><th scope=col>Manager</th><th scope=col>Date</th><th scope=col>Country</th><th scope=col>Gender</th><th scope=col>Age</th><th scope=col>q1</th><th scope=col>q2</th><th scope=col>q3</th><th scope=col>q4</th><th scope=col>q5</th></tr>\n",
              "\t<tr><th></th><th scope=col>&lt;fct&gt;</th><th scope=col>&lt;fct&gt;</th><th scope=col>&lt;fct&gt;</th><th scope=col>&lt;fct&gt;</th><th scope=col>&lt;dbl&gt;</th><th scope=col>&lt;dbl&gt;</th><th scope=col>&lt;dbl&gt;</th><th scope=col>&lt;dbl&gt;</th><th scope=col>&lt;dbl&gt;</th><th scope=col>&lt;dbl&gt;</th></tr>\n",
              "</thead>\n",
              "<tbody>\n",
              "\t<tr><th scope=row>2</th><td>2</td><td>2014-10-28</td><td>US</td><td>F</td><td>45</td><td>3</td><td>5</td><td>2</td><td>5</td><td>5</td></tr>\n",
              "\t<tr><th scope=row>5</th><td>5</td><td>2014-05-01</td><td>UK</td><td>F</td><td>99</td><td>2</td><td>2</td><td>1</td><td>2</td><td>1</td></tr>\n",
              "</tbody>\n",
              "</table>\n"
            ]
          },
          "metadata": {
            "tags": []
          }
        }
      ]
    },
    {
      "cell_type": "code",
      "metadata": {
        "id": "hi-5R0Aag8pB",
        "colab_type": "code",
        "colab": {
          "base_uri": "https://localhost:8080/",
          "height": 51
        },
        "outputId": "0d67532b-6037-4fa1-a04e-615a79e01141"
      },
      "source": [
        "managers[managers$Age < 30 & managers$Gender == 'F', 'Country']"
      ],
      "execution_count": null,
      "outputs": [
        {
          "output_type": "display_data",
          "data": {
            "text/plain": [
              "[1] UK\n",
              "Levels: UK US"
            ],
            "text/latex": "UK\n\\emph{Levels}: \\begin{enumerate*}\n\\item 'UK'\n\\item 'US'\n\\end{enumerate*}\n",
            "text/markdown": "UK\n**Levels**: 1. 'UK'\n2. 'US'\n\n\n",
            "text/html": [
              "UK\n",
              "<details>\n",
              "\t<summary style=display:list-item;cursor:pointer>\n",
              "\t\t<strong>Levels</strong>:\n",
              "\t</summary>\n",
              "\t<style>\n",
              "\t.list-inline {list-style: none; margin:0; padding: 0}\n",
              "\t.list-inline>li {display: inline-block}\n",
              "\t.list-inline>li:not(:last-child)::after {content: \"\\00b7\"; padding: 0 .5ex}\n",
              "\t</style>\n",
              "\t<ol class=list-inline><li>'UK'</li><li>'US'</li></ol>\n",
              "</details>"
            ]
          },
          "metadata": {
            "tags": []
          }
        }
      ]
    },
    {
      "cell_type": "code",
      "metadata": {
        "id": "f5hupaIbij6J",
        "colab_type": "code",
        "colab": {
          "base_uri": "https://localhost:8080/",
          "height": 51
        },
        "outputId": "41671878-9bff-44d0-f771-c403301c39ad"
      },
      "source": [
        "cnd <- managers$Age < 30 & managers$Gender == 'F'\n",
        "managers[cnd, 'Country']"
      ],
      "execution_count": null,
      "outputs": [
        {
          "output_type": "display_data",
          "data": {
            "text/plain": [
              "[1] UK\n",
              "Levels: UK US"
            ],
            "text/latex": "UK\n\\emph{Levels}: \\begin{enumerate*}\n\\item 'UK'\n\\item 'US'\n\\end{enumerate*}\n",
            "text/markdown": "UK\n**Levels**: 1. 'UK'\n2. 'US'\n\n\n",
            "text/html": [
              "UK\n",
              "<details>\n",
              "\t<summary style=display:list-item;cursor:pointer>\n",
              "\t\t<strong>Levels</strong>:\n",
              "\t</summary>\n",
              "\t<style>\n",
              "\t.list-inline {list-style: none; margin:0; padding: 0}\n",
              "\t.list-inline>li {display: inline-block}\n",
              "\t.list-inline>li:not(:last-child)::after {content: \"\\00b7\"; padding: 0 .5ex}\n",
              "\t</style>\n",
              "\t<ol class=list-inline><li>'UK'</li><li>'US'</li></ol>\n",
              "</details>"
            ]
          },
          "metadata": {
            "tags": []
          }
        }
      ]
    },
    {
      "cell_type": "code",
      "metadata": {
        "id": "0M-lhuwbmuPN",
        "colab_type": "code",
        "colab": {}
      },
      "source": [
        "# 청년\n",
        "cnd <- managers$Age > 20 & managers$Age <= 30\n",
        "managers$ages[cnd] <- '청년'"
      ],
      "execution_count": null,
      "outputs": []
    },
    {
      "cell_type": "code",
      "metadata": {
        "id": "d3CsKfdTnQwe",
        "colab_type": "code",
        "colab": {}
      },
      "source": [
        "# 중년\n",
        "cnd <- managers$Age > 31 & managers$Age <= 45\n",
        "managers$ages[cnd] <- '중년'"
      ],
      "execution_count": null,
      "outputs": []
    },
    {
      "cell_type": "code",
      "metadata": {
        "id": "04Ysv4pNnfKd",
        "colab_type": "code",
        "colab": {}
      },
      "source": [
        "# 장년\n",
        "cnd <- managers$Age > 46 & managers$Age <= 65\n",
        "managers$ages[cnd] <- '장년'"
      ],
      "execution_count": null,
      "outputs": []
    },
    {
      "cell_type": "code",
      "metadata": {
        "id": "PloJ2hlcnnOt",
        "colab_type": "code",
        "colab": {}
      },
      "source": [
        "# 노년\n",
        "cnd <- managers$Age > 66\n",
        "managers$ages[cnd] <- '노년'"
      ],
      "execution_count": null,
      "outputs": []
    },
    {
      "cell_type": "code",
      "metadata": {
        "id": "p--RMbKIbmer",
        "colab_type": "code",
        "colab": {
          "base_uri": "https://localhost:8080/",
          "height": 183
        },
        "outputId": "f39eb196-fbbb-4dde-c54f-5cffb3e736de"
      },
      "source": [
        "managers"
      ],
      "execution_count": null,
      "outputs": [
        {
          "output_type": "display_data",
          "data": {
            "text/plain": [
              "  Manager Date       Country Gender Age q1 q2 q3 q4 q5 ages \n",
              "1 1       2014-10-24 US      M      32  5  4  5   5  5 중년 \n",
              "2 2       2014-10-28 US      F      45  3  5  2   5  5 중년 \n",
              "3 3       2014-10-01 UK      F      25  3  5  5   5  2 청년 \n",
              "4 4       2014-10/12 UK      M      39  3  3  4  NA NA 중년 \n",
              "5 5       2014-05-01 UK      F      99  2  2  1   2  1 노년b"
            ],
            "text/latex": "A data.frame: 5 × 11\n\\begin{tabular}{lllllllllll}\n Manager & Date & Country & Gender & Age & q1 & q2 & q3 & q4 & q5 & ages\\\\\n <fct> & <fct> & <fct> & <fct> & <dbl> & <dbl> & <dbl> & <dbl> & <dbl> & <dbl> & <chr>\\\\\n\\hline\n\t 1 & 2014-10-24 & US & M & 32 & 5 & 4 & 5 &  5 &  5 & 중년 \\\\\n\t 2 & 2014-10-28 & US & F & 45 & 3 & 5 & 2 &  5 &  5 & 중년 \\\\\n\t 3 & 2014-10-01 & UK & F & 25 & 3 & 5 & 5 &  5 &  2 & 청년 \\\\\n\t 4 & 2014-10/12 & UK & M & 39 & 3 & 3 & 4 & NA & NA & 중년 \\\\\n\t 5 & 2014-05-01 & UK & F & 99 & 2 & 2 & 1 &  2 &  1 & 노년b\\\\\n\\end{tabular}\n",
            "text/markdown": "\nA data.frame: 5 × 11\n\n| Manager &lt;fct&gt; | Date &lt;fct&gt; | Country &lt;fct&gt; | Gender &lt;fct&gt; | Age &lt;dbl&gt; | q1 &lt;dbl&gt; | q2 &lt;dbl&gt; | q3 &lt;dbl&gt; | q4 &lt;dbl&gt; | q5 &lt;dbl&gt; | ages &lt;chr&gt; |\n|---|---|---|---|---|---|---|---|---|---|---|\n| 1 | 2014-10-24 | US | M | 32 | 5 | 4 | 5 |  5 |  5 | 중년  |\n| 2 | 2014-10-28 | US | F | 45 | 3 | 5 | 2 |  5 |  5 | 중년  |\n| 3 | 2014-10-01 | UK | F | 25 | 3 | 5 | 5 |  5 |  2 | 청년  |\n| 4 | 2014-10/12 | UK | M | 39 | 3 | 3 | 4 | NA | NA | 중년  |\n| 5 | 2014-05-01 | UK | F | 99 | 2 | 2 | 1 |  2 |  1 | 노년b |\n\n",
            "text/html": [
              "<table>\n",
              "<caption>A data.frame: 5 × 11</caption>\n",
              "<thead>\n",
              "\t<tr><th scope=col>Manager</th><th scope=col>Date</th><th scope=col>Country</th><th scope=col>Gender</th><th scope=col>Age</th><th scope=col>q1</th><th scope=col>q2</th><th scope=col>q3</th><th scope=col>q4</th><th scope=col>q5</th><th scope=col>ages</th></tr>\n",
              "\t<tr><th scope=col>&lt;fct&gt;</th><th scope=col>&lt;fct&gt;</th><th scope=col>&lt;fct&gt;</th><th scope=col>&lt;fct&gt;</th><th scope=col>&lt;dbl&gt;</th><th scope=col>&lt;dbl&gt;</th><th scope=col>&lt;dbl&gt;</th><th scope=col>&lt;dbl&gt;</th><th scope=col>&lt;dbl&gt;</th><th scope=col>&lt;dbl&gt;</th><th scope=col>&lt;chr&gt;</th></tr>\n",
              "</thead>\n",
              "<tbody>\n",
              "\t<tr><td>1</td><td>2014-10-24</td><td>US</td><td>M</td><td>32</td><td>5</td><td>4</td><td>5</td><td> 5</td><td> 5</td><td>중년 </td></tr>\n",
              "\t<tr><td>2</td><td>2014-10-28</td><td>US</td><td>F</td><td>45</td><td>3</td><td>5</td><td>2</td><td> 5</td><td> 5</td><td>중년 </td></tr>\n",
              "\t<tr><td>3</td><td>2014-10-01</td><td>UK</td><td>F</td><td>25</td><td>3</td><td>5</td><td>5</td><td> 5</td><td> 2</td><td>청년 </td></tr>\n",
              "\t<tr><td>4</td><td>2014-10/12</td><td>UK</td><td>M</td><td>39</td><td>3</td><td>3</td><td>4</td><td>NA</td><td>NA</td><td>중년 </td></tr>\n",
              "\t<tr><td>5</td><td>2014-05-01</td><td>UK</td><td>F</td><td>99</td><td>2</td><td>2</td><td>1</td><td> 2</td><td> 1</td><td>노년b</td></tr>\n",
              "</tbody>\n",
              "</table>\n"
            ]
          },
          "metadata": {
            "tags": []
          }
        }
      ]
    },
    {
      "cell_type": "code",
      "metadata": {
        "id": "IRqCwu15bmtj",
        "colab_type": "code",
        "colab": {}
      },
      "source": [
        "# 조건식이 둘 이상인 경우 쓸데없이 코드가 길어지고\n",
        "# 가독성도 떨어짐 -> attach, with, within"
      ],
      "execution_count": null,
      "outputs": []
    },
    {
      "cell_type": "code",
      "metadata": {
        "id": "KqLlAD4Ubm3j",
        "colab_type": "code",
        "colab": {
          "base_uri": "https://localhost:8080/",
          "height": 183
        },
        "outputId": "aaa4b3e5-eaf6-4463-bbec-abb2537c7eec"
      },
      "source": [
        "with(managers, ages[Age > 66] <- '노년a')\n",
        "# 특정컬럼 수정 불가\n",
        "managers"
      ],
      "execution_count": null,
      "outputs": [
        {
          "output_type": "display_data",
          "data": {
            "text/plain": [
              "  Manager Date       Country Gender Age q1 q2 q3 q4 q5 ages\n",
              "1 1       2014-10-24 US      M      32  5  4  5   5  5 중년\n",
              "2 2       2014-10-28 US      F      45  3  5  2   5  5 중년\n",
              "3 3       2014-10-01 UK      F      25  3  5  5   5  2 청년\n",
              "4 4       2014-10/12 UK      M      39  3  3  4  NA NA 중년\n",
              "5 5       2014-05-01 UK      F      99  2  2  1   2  1 노년"
            ],
            "text/latex": "A data.frame: 5 × 11\n\\begin{tabular}{lllllllllll}\n Manager & Date & Country & Gender & Age & q1 & q2 & q3 & q4 & q5 & ages\\\\\n <fct> & <fct> & <fct> & <fct> & <dbl> & <dbl> & <dbl> & <dbl> & <dbl> & <dbl> & <chr>\\\\\n\\hline\n\t 1 & 2014-10-24 & US & M & 32 & 5 & 4 & 5 &  5 &  5 & 중년\\\\\n\t 2 & 2014-10-28 & US & F & 45 & 3 & 5 & 2 &  5 &  5 & 중년\\\\\n\t 3 & 2014-10-01 & UK & F & 25 & 3 & 5 & 5 &  5 &  2 & 청년\\\\\n\t 4 & 2014-10/12 & UK & M & 39 & 3 & 3 & 4 & NA & NA & 중년\\\\\n\t 5 & 2014-05-01 & UK & F & 99 & 2 & 2 & 1 &  2 &  1 & 노년\\\\\n\\end{tabular}\n",
            "text/markdown": "\nA data.frame: 5 × 11\n\n| Manager &lt;fct&gt; | Date &lt;fct&gt; | Country &lt;fct&gt; | Gender &lt;fct&gt; | Age &lt;dbl&gt; | q1 &lt;dbl&gt; | q2 &lt;dbl&gt; | q3 &lt;dbl&gt; | q4 &lt;dbl&gt; | q5 &lt;dbl&gt; | ages &lt;chr&gt; |\n|---|---|---|---|---|---|---|---|---|---|---|\n| 1 | 2014-10-24 | US | M | 32 | 5 | 4 | 5 |  5 |  5 | 중년 |\n| 2 | 2014-10-28 | US | F | 45 | 3 | 5 | 2 |  5 |  5 | 중년 |\n| 3 | 2014-10-01 | UK | F | 25 | 3 | 5 | 5 |  5 |  2 | 청년 |\n| 4 | 2014-10/12 | UK | M | 39 | 3 | 3 | 4 | NA | NA | 중년 |\n| 5 | 2014-05-01 | UK | F | 99 | 2 | 2 | 1 |  2 |  1 | 노년 |\n\n",
            "text/html": [
              "<table>\n",
              "<caption>A data.frame: 5 × 11</caption>\n",
              "<thead>\n",
              "\t<tr><th scope=col>Manager</th><th scope=col>Date</th><th scope=col>Country</th><th scope=col>Gender</th><th scope=col>Age</th><th scope=col>q1</th><th scope=col>q2</th><th scope=col>q3</th><th scope=col>q4</th><th scope=col>q5</th><th scope=col>ages</th></tr>\n",
              "\t<tr><th scope=col>&lt;fct&gt;</th><th scope=col>&lt;fct&gt;</th><th scope=col>&lt;fct&gt;</th><th scope=col>&lt;fct&gt;</th><th scope=col>&lt;dbl&gt;</th><th scope=col>&lt;dbl&gt;</th><th scope=col>&lt;dbl&gt;</th><th scope=col>&lt;dbl&gt;</th><th scope=col>&lt;dbl&gt;</th><th scope=col>&lt;dbl&gt;</th><th scope=col>&lt;chr&gt;</th></tr>\n",
              "</thead>\n",
              "<tbody>\n",
              "\t<tr><td>1</td><td>2014-10-24</td><td>US</td><td>M</td><td>32</td><td>5</td><td>4</td><td>5</td><td> 5</td><td> 5</td><td>중년</td></tr>\n",
              "\t<tr><td>2</td><td>2014-10-28</td><td>US</td><td>F</td><td>45</td><td>3</td><td>5</td><td>2</td><td> 5</td><td> 5</td><td>중년</td></tr>\n",
              "\t<tr><td>3</td><td>2014-10-01</td><td>UK</td><td>F</td><td>25</td><td>3</td><td>5</td><td>5</td><td> 5</td><td> 2</td><td>청년</td></tr>\n",
              "\t<tr><td>4</td><td>2014-10/12</td><td>UK</td><td>M</td><td>39</td><td>3</td><td>3</td><td>4</td><td>NA</td><td>NA</td><td>중년</td></tr>\n",
              "\t<tr><td>5</td><td>2014-05-01</td><td>UK</td><td>F</td><td>99</td><td>2</td><td>2</td><td>1</td><td> 2</td><td> 1</td><td>노년</td></tr>\n",
              "</tbody>\n",
              "</table>\n"
            ]
          },
          "metadata": {
            "tags": []
          }
        }
      ]
    },
    {
      "cell_type": "code",
      "metadata": {
        "id": "_tCHdxcXbm-E",
        "colab_type": "code",
        "colab": {
          "base_uri": "https://localhost:8080/",
          "height": 183
        },
        "outputId": "791a4723-207a-46ab-e1eb-ef3c60509a65"
      },
      "source": [
        "managers <- within(managers, ages[Age > 66] <- '노년b')\n",
        "managers\n",
        "# 수정결과를 반영하려면 within 함수 결과를 \n",
        "# 데이터프레임 변수에 저장해야 함"
      ],
      "execution_count": null,
      "outputs": [
        {
          "output_type": "display_data",
          "data": {
            "text/plain": [
              "  Manager Date       Country Gender Age q1 q2 q3 q4 q5 ages \n",
              "1 1       2014-10-24 US      M      32  5  4  5   5  5 중년 \n",
              "2 2       2014-10-28 US      F      45  3  5  2   5  5 중년 \n",
              "3 3       2014-10-01 UK      F      25  3  5  5   5  2 청년 \n",
              "4 4       2014-10/12 UK      M      39  3  3  4  NA NA 중년 \n",
              "5 5       2014-05-01 UK      F      99  2  2  1   2  1 노년b"
            ],
            "text/latex": "A data.frame: 5 × 11\n\\begin{tabular}{lllllllllll}\n Manager & Date & Country & Gender & Age & q1 & q2 & q3 & q4 & q5 & ages\\\\\n <fct> & <fct> & <fct> & <fct> & <dbl> & <dbl> & <dbl> & <dbl> & <dbl> & <dbl> & <chr>\\\\\n\\hline\n\t 1 & 2014-10-24 & US & M & 32 & 5 & 4 & 5 &  5 &  5 & 중년 \\\\\n\t 2 & 2014-10-28 & US & F & 45 & 3 & 5 & 2 &  5 &  5 & 중년 \\\\\n\t 3 & 2014-10-01 & UK & F & 25 & 3 & 5 & 5 &  5 &  2 & 청년 \\\\\n\t 4 & 2014-10/12 & UK & M & 39 & 3 & 3 & 4 & NA & NA & 중년 \\\\\n\t 5 & 2014-05-01 & UK & F & 99 & 2 & 2 & 1 &  2 &  1 & 노년b\\\\\n\\end{tabular}\n",
            "text/markdown": "\nA data.frame: 5 × 11\n\n| Manager &lt;fct&gt; | Date &lt;fct&gt; | Country &lt;fct&gt; | Gender &lt;fct&gt; | Age &lt;dbl&gt; | q1 &lt;dbl&gt; | q2 &lt;dbl&gt; | q3 &lt;dbl&gt; | q4 &lt;dbl&gt; | q5 &lt;dbl&gt; | ages &lt;chr&gt; |\n|---|---|---|---|---|---|---|---|---|---|---|\n| 1 | 2014-10-24 | US | M | 32 | 5 | 4 | 5 |  5 |  5 | 중년  |\n| 2 | 2014-10-28 | US | F | 45 | 3 | 5 | 2 |  5 |  5 | 중년  |\n| 3 | 2014-10-01 | UK | F | 25 | 3 | 5 | 5 |  5 |  2 | 청년  |\n| 4 | 2014-10/12 | UK | M | 39 | 3 | 3 | 4 | NA | NA | 중년  |\n| 5 | 2014-05-01 | UK | F | 99 | 2 | 2 | 1 |  2 |  1 | 노년b |\n\n",
            "text/html": [
              "<table>\n",
              "<caption>A data.frame: 5 × 11</caption>\n",
              "<thead>\n",
              "\t<tr><th scope=col>Manager</th><th scope=col>Date</th><th scope=col>Country</th><th scope=col>Gender</th><th scope=col>Age</th><th scope=col>q1</th><th scope=col>q2</th><th scope=col>q3</th><th scope=col>q4</th><th scope=col>q5</th><th scope=col>ages</th></tr>\n",
              "\t<tr><th scope=col>&lt;fct&gt;</th><th scope=col>&lt;fct&gt;</th><th scope=col>&lt;fct&gt;</th><th scope=col>&lt;fct&gt;</th><th scope=col>&lt;dbl&gt;</th><th scope=col>&lt;dbl&gt;</th><th scope=col>&lt;dbl&gt;</th><th scope=col>&lt;dbl&gt;</th><th scope=col>&lt;dbl&gt;</th><th scope=col>&lt;dbl&gt;</th><th scope=col>&lt;chr&gt;</th></tr>\n",
              "</thead>\n",
              "<tbody>\n",
              "\t<tr><td>1</td><td>2014-10-24</td><td>US</td><td>M</td><td>32</td><td>5</td><td>4</td><td>5</td><td> 5</td><td> 5</td><td>중년 </td></tr>\n",
              "\t<tr><td>2</td><td>2014-10-28</td><td>US</td><td>F</td><td>45</td><td>3</td><td>5</td><td>2</td><td> 5</td><td> 5</td><td>중년 </td></tr>\n",
              "\t<tr><td>3</td><td>2014-10-01</td><td>UK</td><td>F</td><td>25</td><td>3</td><td>5</td><td>5</td><td> 5</td><td> 2</td><td>청년 </td></tr>\n",
              "\t<tr><td>4</td><td>2014-10/12</td><td>UK</td><td>M</td><td>39</td><td>3</td><td>3</td><td>4</td><td>NA</td><td>NA</td><td>중년 </td></tr>\n",
              "\t<tr><td>5</td><td>2014-05-01</td><td>UK</td><td>F</td><td>99</td><td>2</td><td>2</td><td>1</td><td> 2</td><td> 1</td><td>노년b</td></tr>\n",
              "</tbody>\n",
              "</table>\n"
            ]
          },
          "metadata": {
            "tags": []
          }
        }
      ]
    },
    {
      "cell_type": "code",
      "metadata": {
        "id": "oB3FRzNqqIDj",
        "colab_type": "code",
        "colab": {}
      },
      "source": [
        "# within 함수를 이용해서 ages2컬럼에 \n",
        "# 나이별 범주값 저장하는 코드 재작성\n",
        "managers$ages2 <- c(0,0,0,0,0) # 나이대 컬럼"
      ],
      "execution_count": null,
      "outputs": []
    },
    {
      "cell_type": "code",
      "metadata": {
        "id": "Qaew9LgwpDNz",
        "colab_type": "code",
        "colab": {
          "base_uri": "https://localhost:8080/",
          "height": 183
        },
        "outputId": "c8ed5ae4-b862-44f1-c464-5fe773cae62e"
      },
      "source": [
        "within(managers,{\n",
        "       ages2[Age <= 30] <- '청년b'\n",
        "       ages2[Age >= 31] <- '중년b'\n",
        "       ages2[Age >= 46] <- '장년b'\n",
        "       ages2[Age >= 66] <- '노년b'\n",
        "})"
      ],
      "execution_count": null,
      "outputs": [
        {
          "output_type": "display_data",
          "data": {
            "text/plain": [
              "  Manager Date       Country Gender Age q1 q2 q3 q4 q5 ages  ages2\n",
              "1 1       2014-10-24 US      M      32  5  4  5   5  5 중년  중년b\n",
              "2 2       2014-10-28 US      F      45  3  5  2   5  5 중년  중년b\n",
              "3 3       2014-10-01 UK      F      25  3  5  5   5  2 청년  청년b\n",
              "4 4       2014-10/12 UK      M      39  3  3  4  NA NA 중년  중년b\n",
              "5 5       2014-05-01 UK      F      99  2  2  1   2  1 노년b 노년b"
            ],
            "text/latex": "A data.frame: 5 × 12\n\\begin{tabular}{llllllllllll}\n Manager & Date & Country & Gender & Age & q1 & q2 & q3 & q4 & q5 & ages & ages2\\\\\n <fct> & <fct> & <fct> & <fct> & <dbl> & <dbl> & <dbl> & <dbl> & <dbl> & <dbl> & <chr> & <chr>\\\\\n\\hline\n\t 1 & 2014-10-24 & US & M & 32 & 5 & 4 & 5 &  5 &  5 & 중년  & 중년b\\\\\n\t 2 & 2014-10-28 & US & F & 45 & 3 & 5 & 2 &  5 &  5 & 중년  & 중년b\\\\\n\t 3 & 2014-10-01 & UK & F & 25 & 3 & 5 & 5 &  5 &  2 & 청년  & 청년b\\\\\n\t 4 & 2014-10/12 & UK & M & 39 & 3 & 3 & 4 & NA & NA & 중년  & 중년b\\\\\n\t 5 & 2014-05-01 & UK & F & 99 & 2 & 2 & 1 &  2 &  1 & 노년b & 노년b\\\\\n\\end{tabular}\n",
            "text/markdown": "\nA data.frame: 5 × 12\n\n| Manager &lt;fct&gt; | Date &lt;fct&gt; | Country &lt;fct&gt; | Gender &lt;fct&gt; | Age &lt;dbl&gt; | q1 &lt;dbl&gt; | q2 &lt;dbl&gt; | q3 &lt;dbl&gt; | q4 &lt;dbl&gt; | q5 &lt;dbl&gt; | ages &lt;chr&gt; | ages2 &lt;chr&gt; |\n|---|---|---|---|---|---|---|---|---|---|---|---|\n| 1 | 2014-10-24 | US | M | 32 | 5 | 4 | 5 |  5 |  5 | 중년  | 중년b |\n| 2 | 2014-10-28 | US | F | 45 | 3 | 5 | 2 |  5 |  5 | 중년  | 중년b |\n| 3 | 2014-10-01 | UK | F | 25 | 3 | 5 | 5 |  5 |  2 | 청년  | 청년b |\n| 4 | 2014-10/12 | UK | M | 39 | 3 | 3 | 4 | NA | NA | 중년  | 중년b |\n| 5 | 2014-05-01 | UK | F | 99 | 2 | 2 | 1 |  2 |  1 | 노년b | 노년b |\n\n",
            "text/html": [
              "<table>\n",
              "<caption>A data.frame: 5 × 12</caption>\n",
              "<thead>\n",
              "\t<tr><th scope=col>Manager</th><th scope=col>Date</th><th scope=col>Country</th><th scope=col>Gender</th><th scope=col>Age</th><th scope=col>q1</th><th scope=col>q2</th><th scope=col>q3</th><th scope=col>q4</th><th scope=col>q5</th><th scope=col>ages</th><th scope=col>ages2</th></tr>\n",
              "\t<tr><th scope=col>&lt;fct&gt;</th><th scope=col>&lt;fct&gt;</th><th scope=col>&lt;fct&gt;</th><th scope=col>&lt;fct&gt;</th><th scope=col>&lt;dbl&gt;</th><th scope=col>&lt;dbl&gt;</th><th scope=col>&lt;dbl&gt;</th><th scope=col>&lt;dbl&gt;</th><th scope=col>&lt;dbl&gt;</th><th scope=col>&lt;dbl&gt;</th><th scope=col>&lt;chr&gt;</th><th scope=col>&lt;chr&gt;</th></tr>\n",
              "</thead>\n",
              "<tbody>\n",
              "\t<tr><td>1</td><td>2014-10-24</td><td>US</td><td>M</td><td>32</td><td>5</td><td>4</td><td>5</td><td> 5</td><td> 5</td><td>중년 </td><td>중년b</td></tr>\n",
              "\t<tr><td>2</td><td>2014-10-28</td><td>US</td><td>F</td><td>45</td><td>3</td><td>5</td><td>2</td><td> 5</td><td> 5</td><td>중년 </td><td>중년b</td></tr>\n",
              "\t<tr><td>3</td><td>2014-10-01</td><td>UK</td><td>F</td><td>25</td><td>3</td><td>5</td><td>5</td><td> 5</td><td> 2</td><td>청년 </td><td>청년b</td></tr>\n",
              "\t<tr><td>4</td><td>2014-10/12</td><td>UK</td><td>M</td><td>39</td><td>3</td><td>3</td><td>4</td><td>NA</td><td>NA</td><td>중년 </td><td>중년b</td></tr>\n",
              "\t<tr><td>5</td><td>2014-05-01</td><td>UK</td><td>F</td><td>99</td><td>2</td><td>2</td><td>1</td><td> 2</td><td> 1</td><td>노년b</td><td>노년b</td></tr>\n",
              "</tbody>\n",
              "</table>\n"
            ]
          },
          "metadata": {
            "tags": []
          }
        }
      ]
    },
    {
      "cell_type": "code",
      "metadata": {
        "id": "6-tH42oOpD5t",
        "colab_type": "code",
        "colab": {}
      },
      "source": [
        "managers <- within(managers,{\n",
        "       ages2[Age > 20 & Age <= 30] <- '청년a'\n",
        "       ages2[Age > 31 & Age <= 45] <- '중년a'\n",
        "       ages2[Age > 46 & Age <= 65] <- '장년a'\n",
        "       ages2[Age > 66] <- '노년a'\n",
        "})"
      ],
      "execution_count": null,
      "outputs": []
    },
    {
      "cell_type": "code",
      "metadata": {
        "id": "pSp-GxawpEFt",
        "colab_type": "code",
        "colab": {
          "base_uri": "https://localhost:8080/",
          "height": 183
        },
        "outputId": "41695ced-2af4-48be-dcfc-68f1291caffb"
      },
      "source": [
        "managers"
      ],
      "execution_count": null,
      "outputs": [
        {
          "output_type": "display_data",
          "data": {
            "text/plain": [
              "  Manager Date       Country Gender Age q1 q2 q3 q4 q5 ages  ages2\n",
              "1 1       2014-10-24 US      M      32  5  4  5   5  5 중년  중년a\n",
              "2 2       2014-10-28 US      F      45  3  5  2   5  5 중년  중년a\n",
              "3 3       2014-10-01 UK      F      25  3  5  5   5  2 청년  청년a\n",
              "4 4       2014-10/12 UK      M      39  3  3  4  NA NA 중년  중년a\n",
              "5 5       2014-05-01 UK      F      99  2  2  1   2  1 노년b 노년a"
            ],
            "text/latex": "A data.frame: 5 × 12\n\\begin{tabular}{llllllllllll}\n Manager & Date & Country & Gender & Age & q1 & q2 & q3 & q4 & q5 & ages & ages2\\\\\n <fct> & <fct> & <fct> & <fct> & <dbl> & <dbl> & <dbl> & <dbl> & <dbl> & <dbl> & <chr> & <chr>\\\\\n\\hline\n\t 1 & 2014-10-24 & US & M & 32 & 5 & 4 & 5 &  5 &  5 & 중년  & 중년a\\\\\n\t 2 & 2014-10-28 & US & F & 45 & 3 & 5 & 2 &  5 &  5 & 중년  & 중년a\\\\\n\t 3 & 2014-10-01 & UK & F & 25 & 3 & 5 & 5 &  5 &  2 & 청년  & 청년a\\\\\n\t 4 & 2014-10/12 & UK & M & 39 & 3 & 3 & 4 & NA & NA & 중년  & 중년a\\\\\n\t 5 & 2014-05-01 & UK & F & 99 & 2 & 2 & 1 &  2 &  1 & 노년b & 노년a\\\\\n\\end{tabular}\n",
            "text/markdown": "\nA data.frame: 5 × 12\n\n| Manager &lt;fct&gt; | Date &lt;fct&gt; | Country &lt;fct&gt; | Gender &lt;fct&gt; | Age &lt;dbl&gt; | q1 &lt;dbl&gt; | q2 &lt;dbl&gt; | q3 &lt;dbl&gt; | q4 &lt;dbl&gt; | q5 &lt;dbl&gt; | ages &lt;chr&gt; | ages2 &lt;chr&gt; |\n|---|---|---|---|---|---|---|---|---|---|---|---|\n| 1 | 2014-10-24 | US | M | 32 | 5 | 4 | 5 |  5 |  5 | 중년  | 중년a |\n| 2 | 2014-10-28 | US | F | 45 | 3 | 5 | 2 |  5 |  5 | 중년  | 중년a |\n| 3 | 2014-10-01 | UK | F | 25 | 3 | 5 | 5 |  5 |  2 | 청년  | 청년a |\n| 4 | 2014-10/12 | UK | M | 39 | 3 | 3 | 4 | NA | NA | 중년  | 중년a |\n| 5 | 2014-05-01 | UK | F | 99 | 2 | 2 | 1 |  2 |  1 | 노년b | 노년a |\n\n",
            "text/html": [
              "<table>\n",
              "<caption>A data.frame: 5 × 12</caption>\n",
              "<thead>\n",
              "\t<tr><th scope=col>Manager</th><th scope=col>Date</th><th scope=col>Country</th><th scope=col>Gender</th><th scope=col>Age</th><th scope=col>q1</th><th scope=col>q2</th><th scope=col>q3</th><th scope=col>q4</th><th scope=col>q5</th><th scope=col>ages</th><th scope=col>ages2</th></tr>\n",
              "\t<tr><th scope=col>&lt;fct&gt;</th><th scope=col>&lt;fct&gt;</th><th scope=col>&lt;fct&gt;</th><th scope=col>&lt;fct&gt;</th><th scope=col>&lt;dbl&gt;</th><th scope=col>&lt;dbl&gt;</th><th scope=col>&lt;dbl&gt;</th><th scope=col>&lt;dbl&gt;</th><th scope=col>&lt;dbl&gt;</th><th scope=col>&lt;dbl&gt;</th><th scope=col>&lt;chr&gt;</th><th scope=col>&lt;chr&gt;</th></tr>\n",
              "</thead>\n",
              "<tbody>\n",
              "\t<tr><td>1</td><td>2014-10-24</td><td>US</td><td>M</td><td>32</td><td>5</td><td>4</td><td>5</td><td> 5</td><td> 5</td><td>중년 </td><td>중년a</td></tr>\n",
              "\t<tr><td>2</td><td>2014-10-28</td><td>US</td><td>F</td><td>45</td><td>3</td><td>5</td><td>2</td><td> 5</td><td> 5</td><td>중년 </td><td>중년a</td></tr>\n",
              "\t<tr><td>3</td><td>2014-10-01</td><td>UK</td><td>F</td><td>25</td><td>3</td><td>5</td><td>5</td><td> 5</td><td> 2</td><td>청년 </td><td>청년a</td></tr>\n",
              "\t<tr><td>4</td><td>2014-10/12</td><td>UK</td><td>M</td><td>39</td><td>3</td><td>3</td><td>4</td><td>NA</td><td>NA</td><td>중년 </td><td>중년a</td></tr>\n",
              "\t<tr><td>5</td><td>2014-05-01</td><td>UK</td><td>F</td><td>99</td><td>2</td><td>2</td><td>1</td><td> 2</td><td> 1</td><td>노년b</td><td>노년a</td></tr>\n",
              "</tbody>\n",
              "</table>\n"
            ]
          },
          "metadata": {
            "tags": []
          }
        }
      ]
    },
    {
      "cell_type": "code",
      "metadata": {
        "id": "pq5oILXUrDVr",
        "colab_type": "code",
        "colab": {}
      },
      "source": [
        "# 설문문항 컬럼의 총합과 평균을 구해서\n",
        "# sumq, meanq라는 컬럼 생성\n",
        "# 단, NA는 0으로 대체함!\n",
        "managers[4,9] <- 0\n",
        "managers[4,10] <- 0"
      ],
      "execution_count": null,
      "outputs": []
    },
    {
      "cell_type": "code",
      "metadata": {
        "id": "mECWKa3ltJaC",
        "colab_type": "code",
        "colab": {}
      },
      "source": [
        "managers$sumq <- c(0,0,0,0,0) # 총합\n",
        "managers$meanq <- c(0,0,0,0,0) # 평균"
      ],
      "execution_count": null,
      "outputs": []
    },
    {
      "cell_type": "code",
      "metadata": {
        "id": "x3BLcuPdtKqi",
        "colab_type": "code",
        "colab": {
          "base_uri": "https://localhost:8080/",
          "height": 183
        },
        "outputId": "87b627a8-e753-4c08-b728-63d36876d3f9"
      },
      "source": [
        "managers"
      ],
      "execution_count": null,
      "outputs": [
        {
          "output_type": "display_data",
          "data": {
            "text/plain": [
              "  Manager Date       Country Gender Age q1 q2 q3 q4 q5 ages  ages2 sumq meanq\n",
              "1 1       2014-10-24 US      M      32  5  4  5   5  5 중년  중년a 0    0    \n",
              "2 2       2014-10-28 US      F      45  3  5  2   5  5 중년  중년a 0    0    \n",
              "3 3       2014-10-01 UK      F      25  3  5  5   5  2 청년  청년a 0    0    \n",
              "4 4       2014-10/12 UK      M      39  3  3  4  NA NA 중년  중년a 0    0    \n",
              "5 5       2014-05-01 UK      F      99  2  2  1   2  1 노년b 노년a 0    0    "
            ],
            "text/latex": "A data.frame: 5 × 14\n\\begin{tabular}{llllllllllllll}\n Manager & Date & Country & Gender & Age & q1 & q2 & q3 & q4 & q5 & ages & ages2 & sumq & meanq\\\\\n <fct> & <fct> & <fct> & <fct> & <dbl> & <dbl> & <dbl> & <dbl> & <dbl> & <dbl> & <chr> & <chr> & <dbl> & <dbl>\\\\\n\\hline\n\t 1 & 2014-10-24 & US & M & 32 & 5 & 4 & 5 &  5 &  5 & 중년  & 중년a & 0 & 0\\\\\n\t 2 & 2014-10-28 & US & F & 45 & 3 & 5 & 2 &  5 &  5 & 중년  & 중년a & 0 & 0\\\\\n\t 3 & 2014-10-01 & UK & F & 25 & 3 & 5 & 5 &  5 &  2 & 청년  & 청년a & 0 & 0\\\\\n\t 4 & 2014-10/12 & UK & M & 39 & 3 & 3 & 4 & NA & NA & 중년  & 중년a & 0 & 0\\\\\n\t 5 & 2014-05-01 & UK & F & 99 & 2 & 2 & 1 &  2 &  1 & 노년b & 노년a & 0 & 0\\\\\n\\end{tabular}\n",
            "text/markdown": "\nA data.frame: 5 × 14\n\n| Manager &lt;fct&gt; | Date &lt;fct&gt; | Country &lt;fct&gt; | Gender &lt;fct&gt; | Age &lt;dbl&gt; | q1 &lt;dbl&gt; | q2 &lt;dbl&gt; | q3 &lt;dbl&gt; | q4 &lt;dbl&gt; | q5 &lt;dbl&gt; | ages &lt;chr&gt; | ages2 &lt;chr&gt; | sumq &lt;dbl&gt; | meanq &lt;dbl&gt; |\n|---|---|---|---|---|---|---|---|---|---|---|---|---|---|\n| 1 | 2014-10-24 | US | M | 32 | 5 | 4 | 5 |  5 |  5 | 중년  | 중년a | 0 | 0 |\n| 2 | 2014-10-28 | US | F | 45 | 3 | 5 | 2 |  5 |  5 | 중년  | 중년a | 0 | 0 |\n| 3 | 2014-10-01 | UK | F | 25 | 3 | 5 | 5 |  5 |  2 | 청년  | 청년a | 0 | 0 |\n| 4 | 2014-10/12 | UK | M | 39 | 3 | 3 | 4 | NA | NA | 중년  | 중년a | 0 | 0 |\n| 5 | 2014-05-01 | UK | F | 99 | 2 | 2 | 1 |  2 |  1 | 노년b | 노년a | 0 | 0 |\n\n",
            "text/html": [
              "<table>\n",
              "<caption>A data.frame: 5 × 14</caption>\n",
              "<thead>\n",
              "\t<tr><th scope=col>Manager</th><th scope=col>Date</th><th scope=col>Country</th><th scope=col>Gender</th><th scope=col>Age</th><th scope=col>q1</th><th scope=col>q2</th><th scope=col>q3</th><th scope=col>q4</th><th scope=col>q5</th><th scope=col>ages</th><th scope=col>ages2</th><th scope=col>sumq</th><th scope=col>meanq</th></tr>\n",
              "\t<tr><th scope=col>&lt;fct&gt;</th><th scope=col>&lt;fct&gt;</th><th scope=col>&lt;fct&gt;</th><th scope=col>&lt;fct&gt;</th><th scope=col>&lt;dbl&gt;</th><th scope=col>&lt;dbl&gt;</th><th scope=col>&lt;dbl&gt;</th><th scope=col>&lt;dbl&gt;</th><th scope=col>&lt;dbl&gt;</th><th scope=col>&lt;dbl&gt;</th><th scope=col>&lt;chr&gt;</th><th scope=col>&lt;chr&gt;</th><th scope=col>&lt;dbl&gt;</th><th scope=col>&lt;dbl&gt;</th></tr>\n",
              "</thead>\n",
              "<tbody>\n",
              "\t<tr><td>1</td><td>2014-10-24</td><td>US</td><td>M</td><td>32</td><td>5</td><td>4</td><td>5</td><td> 5</td><td> 5</td><td>중년 </td><td>중년a</td><td>0</td><td>0</td></tr>\n",
              "\t<tr><td>2</td><td>2014-10-28</td><td>US</td><td>F</td><td>45</td><td>3</td><td>5</td><td>2</td><td> 5</td><td> 5</td><td>중년 </td><td>중년a</td><td>0</td><td>0</td></tr>\n",
              "\t<tr><td>3</td><td>2014-10-01</td><td>UK</td><td>F</td><td>25</td><td>3</td><td>5</td><td>5</td><td> 5</td><td> 2</td><td>청년 </td><td>청년a</td><td>0</td><td>0</td></tr>\n",
              "\t<tr><td>4</td><td>2014-10/12</td><td>UK</td><td>M</td><td>39</td><td>3</td><td>3</td><td>4</td><td>NA</td><td>NA</td><td>중년 </td><td>중년a</td><td>0</td><td>0</td></tr>\n",
              "\t<tr><td>5</td><td>2014-05-01</td><td>UK</td><td>F</td><td>99</td><td>2</td><td>2</td><td>1</td><td> 2</td><td> 1</td><td>노년b</td><td>노년a</td><td>0</td><td>0</td></tr>\n",
              "</tbody>\n",
              "</table>\n"
            ]
          },
          "metadata": {
            "tags": []
          }
        }
      ]
    },
    {
      "cell_type": "code",
      "metadata": {
        "id": "f7_rKq4TtK4S",
        "colab_type": "code",
        "colab": {}
      },
      "source": [
        "managers$sumq <- managers$q1+managers$q2+managers$q3+managers$q4+managers$q5"
      ],
      "execution_count": null,
      "outputs": []
    },
    {
      "cell_type": "code",
      "metadata": {
        "id": "rwQnHaI0wQh4",
        "colab_type": "code",
        "colab": {}
      },
      "source": [
        "managers$meanq <- managers$sumq /5"
      ],
      "execution_count": null,
      "outputs": []
    },
    {
      "cell_type": "code",
      "metadata": {
        "id": "CGU6pHkzwQxx",
        "colab_type": "code",
        "colab": {
          "base_uri": "https://localhost:8080/",
          "height": 183
        },
        "outputId": "468a121f-35b3-4292-a092-7c34cdd2ab14"
      },
      "source": [
        "managers <- within(managers,{\n",
        "       sumq <- q1+q2+q3+q4+q5\n",
        "       meanq <- sumq/5\n",
        "})\n",
        "managers"
      ],
      "execution_count": null,
      "outputs": [
        {
          "output_type": "display_data",
          "data": {
            "text/plain": [
              "  Manager Date       Country Gender Age q1 q2 q3 q4 q5 ages  ages2 sumq meanq\n",
              "1 1       2014-10-24 US      M      32  5  4  5  5  5  중년  중년a 24   4.8  \n",
              "2 2       2014-10-28 US      F      45  3  5  2  5  5  중년  중년a 20   4.0  \n",
              "3 3       2014-10-01 UK      F      25  3  5  5  5  2  청년  청년a 20   4.0  \n",
              "4 4       2014-10/12 UK      M      39  3  3  4  0  0  중년  중년a 10   2.0  \n",
              "5 5       2014-05-01 UK      F      99  2  2  1  2  1  노년b 노년a  8   1.6  "
            ],
            "text/latex": "A data.frame: 5 × 14\n\\begin{tabular}{llllllllllllll}\n Manager & Date & Country & Gender & Age & q1 & q2 & q3 & q4 & q5 & ages & ages2 & sumq & meanq\\\\\n <fct> & <fct> & <fct> & <fct> & <dbl> & <dbl> & <dbl> & <dbl> & <dbl> & <dbl> & <chr> & <chr> & <dbl> & <dbl>\\\\\n\\hline\n\t 1 & 2014-10-24 & US & M & 32 & 5 & 4 & 5 & 5 & 5 & 중년  & 중년a & 24 & 4.8\\\\\n\t 2 & 2014-10-28 & US & F & 45 & 3 & 5 & 2 & 5 & 5 & 중년  & 중년a & 20 & 4.0\\\\\n\t 3 & 2014-10-01 & UK & F & 25 & 3 & 5 & 5 & 5 & 2 & 청년  & 청년a & 20 & 4.0\\\\\n\t 4 & 2014-10/12 & UK & M & 39 & 3 & 3 & 4 & 0 & 0 & 중년  & 중년a & 10 & 2.0\\\\\n\t 5 & 2014-05-01 & UK & F & 99 & 2 & 2 & 1 & 2 & 1 & 노년b & 노년a &  8 & 1.6\\\\\n\\end{tabular}\n",
            "text/markdown": "\nA data.frame: 5 × 14\n\n| Manager &lt;fct&gt; | Date &lt;fct&gt; | Country &lt;fct&gt; | Gender &lt;fct&gt; | Age &lt;dbl&gt; | q1 &lt;dbl&gt; | q2 &lt;dbl&gt; | q3 &lt;dbl&gt; | q4 &lt;dbl&gt; | q5 &lt;dbl&gt; | ages &lt;chr&gt; | ages2 &lt;chr&gt; | sumq &lt;dbl&gt; | meanq &lt;dbl&gt; |\n|---|---|---|---|---|---|---|---|---|---|---|---|---|---|\n| 1 | 2014-10-24 | US | M | 32 | 5 | 4 | 5 | 5 | 5 | 중년  | 중년a | 24 | 4.8 |\n| 2 | 2014-10-28 | US | F | 45 | 3 | 5 | 2 | 5 | 5 | 중년  | 중년a | 20 | 4.0 |\n| 3 | 2014-10-01 | UK | F | 25 | 3 | 5 | 5 | 5 | 2 | 청년  | 청년a | 20 | 4.0 |\n| 4 | 2014-10/12 | UK | M | 39 | 3 | 3 | 4 | 0 | 0 | 중년  | 중년a | 10 | 2.0 |\n| 5 | 2014-05-01 | UK | F | 99 | 2 | 2 | 1 | 2 | 1 | 노년b | 노년a |  8 | 1.6 |\n\n",
            "text/html": [
              "<table>\n",
              "<caption>A data.frame: 5 × 14</caption>\n",
              "<thead>\n",
              "\t<tr><th scope=col>Manager</th><th scope=col>Date</th><th scope=col>Country</th><th scope=col>Gender</th><th scope=col>Age</th><th scope=col>q1</th><th scope=col>q2</th><th scope=col>q3</th><th scope=col>q4</th><th scope=col>q5</th><th scope=col>ages</th><th scope=col>ages2</th><th scope=col>sumq</th><th scope=col>meanq</th></tr>\n",
              "\t<tr><th scope=col>&lt;fct&gt;</th><th scope=col>&lt;fct&gt;</th><th scope=col>&lt;fct&gt;</th><th scope=col>&lt;fct&gt;</th><th scope=col>&lt;dbl&gt;</th><th scope=col>&lt;dbl&gt;</th><th scope=col>&lt;dbl&gt;</th><th scope=col>&lt;dbl&gt;</th><th scope=col>&lt;dbl&gt;</th><th scope=col>&lt;dbl&gt;</th><th scope=col>&lt;chr&gt;</th><th scope=col>&lt;chr&gt;</th><th scope=col>&lt;dbl&gt;</th><th scope=col>&lt;dbl&gt;</th></tr>\n",
              "</thead>\n",
              "<tbody>\n",
              "\t<tr><td>1</td><td>2014-10-24</td><td>US</td><td>M</td><td>32</td><td>5</td><td>4</td><td>5</td><td>5</td><td>5</td><td>중년 </td><td>중년a</td><td>24</td><td>4.8</td></tr>\n",
              "\t<tr><td>2</td><td>2014-10-28</td><td>US</td><td>F</td><td>45</td><td>3</td><td>5</td><td>2</td><td>5</td><td>5</td><td>중년 </td><td>중년a</td><td>20</td><td>4.0</td></tr>\n",
              "\t<tr><td>3</td><td>2014-10-01</td><td>UK</td><td>F</td><td>25</td><td>3</td><td>5</td><td>5</td><td>5</td><td>2</td><td>청년 </td><td>청년a</td><td>20</td><td>4.0</td></tr>\n",
              "\t<tr><td>4</td><td>2014-10/12</td><td>UK</td><td>M</td><td>39</td><td>3</td><td>3</td><td>4</td><td>0</td><td>0</td><td>중년 </td><td>중년a</td><td>10</td><td>2.0</td></tr>\n",
              "\t<tr><td>5</td><td>2014-05-01</td><td>UK</td><td>F</td><td>99</td><td>2</td><td>2</td><td>1</td><td>2</td><td>1</td><td>노년b</td><td>노년a</td><td> 8</td><td>1.6</td></tr>\n",
              "</tbody>\n",
              "</table>\n"
            ]
          },
          "metadata": {
            "tags": []
          }
        }
      ]
    },
    {
      "cell_type": "code",
      "metadata": {
        "id": "xfWs_OZ8wQ8J",
        "colab_type": "code",
        "colab": {}
      },
      "source": [
        "# 자주 사용하는 데이터프레임 저장하기\n",
        "# save(객체명, 파일명)\n",
        "# load(파일명)\n",
        "# 단, 확장자는 rdata로 사용함\n",
        "\n",
        "# 메모리내에 생성된 객체를 \n",
        "# 외부파일 형태로 저장하고 싶다면\n",
        "write.csv, write.table\n",
        "wirie.csv, fwrite 함수를 사용함"
      ],
      "execution_count": null,
      "outputs": []
    },
    {
      "cell_type": "code",
      "metadata": {
        "id": "tGODpXedwRDg",
        "colab_type": "code",
        "colab": {}
      },
      "source": [
        "# R내장 데이터 중 iris 데이터셋을\n",
        "# iris.csv로 저장해 봄\n",
        "iris"
      ],
      "execution_count": null,
      "outputs": []
    },
    {
      "cell_type": "code",
      "metadata": {
        "id": "FmRyqcTxwRJr",
        "colab_type": "code",
        "colab": {}
      },
      "source": [
        "write.csv(x=iris, file='iris.csv', quote=F, row.names=F)\n",
        "# row.names=F  행번호\n",
        "# quote=F인용부호"
      ],
      "execution_count": null,
      "outputs": []
    },
    {
      "cell_type": "code",
      "metadata": {
        "id": "5ure_ReEwRXR",
        "colab_type": "code",
        "colab": {}
      },
      "source": [
        "# 지금까지 작업했던 managers데이터를 \n",
        "# managers.csv로 저장해 봄\n",
        "write.csv(x=managers, file='managers.csv', quote=F, row.names=F)"
      ],
      "execution_count": 108,
      "outputs": []
    },
    {
      "cell_type": "code",
      "metadata": {
        "id": "Uu0mBYSS2FY3",
        "colab_type": "code",
        "colab": {}
      },
      "source": [
        "# 외부 파일을 읽어와 작업하려면\n",
        "read.csv, read.table,\n",
        "read_csv, fread 함수를 사용하면 됨"
      ],
      "execution_count": null,
      "outputs": []
    },
    {
      "cell_type": "code",
      "metadata": {
        "id": "q_anOJyF2Fme",
        "colab_type": "code",
        "colab": {}
      },
      "source": [
        "# 결측치(missing value) 처리하기\n",
        "# 데이터 수집과정에서 채워지지 못한 값을 의미\n",
        "# 데이터에 결측치가 포함되어 있으면\n",
        "# 데이터 분석시 평향/왜곡된 결과가 도출될 수 있음\n",
        "# 해결책: 제거하거나 추정값으로 대체 "
      ],
      "execution_count": null,
      "outputs": []
    },
    {
      "cell_type": "code",
      "metadata": {
        "id": "Xnr2MusL2Fr3",
        "colab_type": "code",
        "colab": {}
      },
      "source": [
        "x <-  c(1,2,3,NA,5,NA,7)"
      ],
      "execution_count": 109,
      "outputs": []
    },
    {
      "cell_type": "code",
      "metadata": {
        "id": "n9grRANb2FwX",
        "colab_type": "code",
        "colab": {
          "base_uri": "https://localhost:8080/",
          "height": 34
        },
        "outputId": "e26ef4b6-7a61-49db-9bd8-d07dc3325e8a"
      },
      "source": [
        "sum(x) # 결측치 때문에 연산 불가"
      ],
      "execution_count": 112,
      "outputs": [
        {
          "output_type": "display_data",
          "data": {
            "text/plain": [
              "[1] NA"
            ],
            "text/latex": "<NA>",
            "text/markdown": "&lt;NA&gt;",
            "text/html": [
              "&lt;NA&gt;"
            ]
          },
          "metadata": {
            "tags": []
          }
        }
      ]
    },
    {
      "cell_type": "code",
      "metadata": {
        "id": "EkLV12GQ4vhi",
        "colab_type": "code",
        "colab": {
          "base_uri": "https://localhost:8080/",
          "height": 105
        },
        "outputId": "c1f72139-1d88-467c-d288-653cf442ac6f"
      },
      "source": [
        "is.na(x) # 결측치 여부 확인\n",
        "sum(is.na(x))\n",
        "table(is.na(x))"
      ],
      "execution_count": 115,
      "outputs": [
        {
          "output_type": "display_data",
          "data": {
            "text/plain": [
              "[1] FALSE FALSE FALSE  TRUE FALSE  TRUE FALSE"
            ],
            "text/latex": "\\begin{enumerate*}\n\\item FALSE\n\\item FALSE\n\\item FALSE\n\\item TRUE\n\\item FALSE\n\\item TRUE\n\\item FALSE\n\\end{enumerate*}\n",
            "text/markdown": "1. FALSE\n2. FALSE\n3. FALSE\n4. TRUE\n5. FALSE\n6. TRUE\n7. FALSE\n\n\n",
            "text/html": [
              "<style>\n",
              ".list-inline {list-style: none; margin:0; padding: 0}\n",
              ".list-inline>li {display: inline-block}\n",
              ".list-inline>li:not(:last-child)::after {content: \"\\00b7\"; padding: 0 .5ex}\n",
              "</style>\n",
              "<ol class=list-inline><li>FALSE</li><li>FALSE</li><li>FALSE</li><li>TRUE</li><li>FALSE</li><li>TRUE</li><li>FALSE</li></ol>\n"
            ]
          },
          "metadata": {
            "tags": []
          }
        },
        {
          "output_type": "display_data",
          "data": {
            "text/plain": [
              "[1] 2"
            ],
            "text/latex": "2",
            "text/markdown": "2",
            "text/html": [
              "2"
            ]
          },
          "metadata": {
            "tags": []
          }
        },
        {
          "output_type": "display_data",
          "data": {
            "text/plain": [
              "\n",
              "FALSE  TRUE \n",
              "    5     2 "
            ]
          },
          "metadata": {
            "tags": []
          }
        }
      ]
    },
    {
      "cell_type": "code",
      "metadata": {
        "id": "Oe0BQSAt2F02",
        "colab_type": "code",
        "colab": {
          "base_uri": "https://localhost:8080/",
          "height": 34
        },
        "outputId": "ea1b82f3-6f3b-4efd-c23c-278002ed805e"
      },
      "source": [
        "sum(x, na.rm = T) # sum함수 적용 시 NA는 제외함"
      ],
      "execution_count": 116,
      "outputs": [
        {
          "output_type": "display_data",
          "data": {
            "text/plain": [
              "[1] 18"
            ],
            "text/latex": "18",
            "text/markdown": "18",
            "text/html": [
              "18"
            ]
          },
          "metadata": {
            "tags": []
          }
        }
      ]
    },
    {
      "cell_type": "code",
      "metadata": {
        "id": "VRqPY17H2F4k",
        "colab_type": "code",
        "colab": {}
      },
      "source": [
        "x2 <- na.omit(x) # NA요소는 제거하고 출력"
      ],
      "execution_count": 119,
      "outputs": []
    },
    {
      "cell_type": "code",
      "metadata": {
        "id": "K5GzbKzk5Ccs",
        "colab_type": "code",
        "colab": {
          "base_uri": "https://localhost:8080/",
          "height": 34
        },
        "outputId": "7845d945-cfcf-41c3-eb5b-efcb8ea97478"
      },
      "source": [
        "sum(x2)"
      ],
      "execution_count": 120,
      "outputs": [
        {
          "output_type": "display_data",
          "data": {
            "text/plain": [
              "[1] 18"
            ],
            "text/latex": "18",
            "text/markdown": "18",
            "text/html": [
              "18"
            ]
          },
          "metadata": {
            "tags": []
          }
        }
      ]
    },
    {
      "cell_type": "code",
      "metadata": {
        "id": "I9Qp3cf35Cr0",
        "colab_type": "code",
        "colab": {}
      },
      "source": [
        "# 결측치 확인 후, 다른 값(평균)으로 대체\n",
        "y <-  c(10,9,NA,7,NA,NA,4)"
      ],
      "execution_count": 123,
      "outputs": []
    },
    {
      "cell_type": "code",
      "metadata": {
        "id": "7m8eZgC55Cz7",
        "colab_type": "code",
        "colab": {}
      },
      "source": [
        "mean <- mean(y, na.rm = T)"
      ],
      "execution_count": 126,
      "outputs": []
    },
    {
      "cell_type": "code",
      "metadata": {
        "id": "i9s_sA-z5C6z",
        "colab_type": "code",
        "colab": {}
      },
      "source": [
        "y[is.na(y)] <- mean"
      ],
      "execution_count": 127,
      "outputs": []
    },
    {
      "cell_type": "code",
      "metadata": {
        "id": "PMn9ktbH5DBC",
        "colab_type": "code",
        "colab": {
          "base_uri": "https://localhost:8080/",
          "height": 34
        },
        "outputId": "174af7e9-a7e1-46fd-f66c-1895b6e08e98"
      },
      "source": [
        "y"
      ],
      "execution_count": 128,
      "outputs": [
        {
          "output_type": "display_data",
          "data": {
            "text/plain": [
              "[1] 10.0  9.0  7.5  7.0  7.5  7.5  4.0"
            ],
            "text/latex": "\\begin{enumerate*}\n\\item 10\n\\item 9\n\\item 7.5\n\\item 7\n\\item 7.5\n\\item 7.5\n\\item 4\n\\end{enumerate*}\n",
            "text/markdown": "1. 10\n2. 9\n3. 7.5\n4. 7\n5. 7.5\n6. 7.5\n7. 4\n\n\n",
            "text/html": [
              "<style>\n",
              ".list-inline {list-style: none; margin:0; padding: 0}\n",
              ".list-inline>li {display: inline-block}\n",
              ".list-inline>li:not(:last-child)::after {content: \"\\00b7\"; padding: 0 .5ex}\n",
              "</style>\n",
              "<ol class=list-inline><li>10</li><li>9</li><li>7.5</li><li>7</li><li>7.5</li><li>7.5</li><li>4</li></ol>\n"
            ]
          },
          "metadata": {
            "tags": []
          }
        }
      ]
    },
    {
      "cell_type": "code",
      "metadata": {
        "id": "1nlB0EBl5Dwk",
        "colab_type": "code",
        "colab": {}
      },
      "source": [
        "# 사원정보파일을 데이터프레임으로 읽어와서 결측치를 처리하세요\n",
        "emp <- read.csv('https://raw.githubusercontent.com/Jungsan005/R_statstics/master/datasets/EMPLOYEES.csv')"
      ],
      "execution_count": 146,
      "outputs": []
    },
    {
      "cell_type": "code",
      "metadata": {
        "id": "p2NL-k9_6vTM",
        "colab_type": "code",
        "colab": {
          "base_uri": "https://localhost:8080/",
          "height": 288
        },
        "outputId": "78ba1ca8-38a4-4865-84df-19cb763244b4"
      },
      "source": [
        "head(emp, 10)"
      ],
      "execution_count": 147,
      "outputs": [
        {
          "output_type": "display_data",
          "data": {
            "text/plain": [
              "   EMPLOYEE_ID FIRST_NAME LAST_NAME EMAIL    PHONE_NUMBER HIRE_DATE  JOB_ID    \n",
              "1  100         Steven     King      SKING    515.123.4567 2003-06-17 AD_PRES   \n",
              "2  101         Neena      Kochhar   NKOCHHAR 515.123.4568 2005-09-21 AD_VP     \n",
              "3  102         Lex        De Haan   LDEHAAN  515.123.4569 2001-01-13 AD_VP     \n",
              "4  103         Alexander  Hunold    AHUNOLD  590.423.4567 2006-01-03 IT_PROG   \n",
              "5  104         Bruce      Ernst     BERNST   590.423.4568 2007-05-21 IT_PROG   \n",
              "6  105         David      Austin    DAUSTIN  590.423.4569 2005-06-25 IT_PROG   \n",
              "7  106         Valli      Pataballa VPATABAL 590.423.4560 2006-02-05 IT_PROG   \n",
              "8  107         Diana      Lorentz   DLORENTZ 590.423.5567 2007-02-07 IT_PROG   \n",
              "9  108         Nancy      Greenberg NGREENBE 515.124.4569 2002-08-17 FI_MGR    \n",
              "10 109         Daniel     Faviet    DFAVIET  515.124.4169 2002-08-16 FI_ACCOUNT\n",
              "   SALARY COMMISSION_PCT MANAGER_ID DEPARTMENT_ID\n",
              "1  24000  NA              NA         90          \n",
              "2  17000  NA             100         90          \n",
              "3  17000  NA             100         90          \n",
              "4   9000  NA             102         60          \n",
              "5   6000  NA             103         60          \n",
              "6   4800  NA             103         60          \n",
              "7   4800  NA             103         60          \n",
              "8   4200  NA             103         60          \n",
              "9  12008  NA             101        100          \n",
              "10  9000  NA             108        100          "
            ],
            "text/latex": "A data.frame: 10 × 11\n\\begin{tabular}{r|lllllllllll}\n  & EMPLOYEE\\_ID & FIRST\\_NAME & LAST\\_NAME & EMAIL & PHONE\\_NUMBER & HIRE\\_DATE & JOB\\_ID & SALARY & COMMISSION\\_PCT & MANAGER\\_ID & DEPARTMENT\\_ID\\\\\n  & <int> & <fct> & <fct> & <fct> & <fct> & <fct> & <fct> & <int> & <dbl> & <int> & <int>\\\\\n\\hline\n\t1 & 100 & Steven    & King      & SKING    & 515.123.4567 & 2003-06-17 & AD\\_PRES    & 24000 & NA &  NA &  90\\\\\n\t2 & 101 & Neena     & Kochhar   & NKOCHHAR & 515.123.4568 & 2005-09-21 & AD\\_VP      & 17000 & NA & 100 &  90\\\\\n\t3 & 102 & Lex       & De Haan   & LDEHAAN  & 515.123.4569 & 2001-01-13 & AD\\_VP      & 17000 & NA & 100 &  90\\\\\n\t4 & 103 & Alexander & Hunold    & AHUNOLD  & 590.423.4567 & 2006-01-03 & IT\\_PROG    &  9000 & NA & 102 &  60\\\\\n\t5 & 104 & Bruce     & Ernst     & BERNST   & 590.423.4568 & 2007-05-21 & IT\\_PROG    &  6000 & NA & 103 &  60\\\\\n\t6 & 105 & David     & Austin    & DAUSTIN  & 590.423.4569 & 2005-06-25 & IT\\_PROG    &  4800 & NA & 103 &  60\\\\\n\t7 & 106 & Valli     & Pataballa & VPATABAL & 590.423.4560 & 2006-02-05 & IT\\_PROG    &  4800 & NA & 103 &  60\\\\\n\t8 & 107 & Diana     & Lorentz   & DLORENTZ & 590.423.5567 & 2007-02-07 & IT\\_PROG    &  4200 & NA & 103 &  60\\\\\n\t9 & 108 & Nancy     & Greenberg & NGREENBE & 515.124.4569 & 2002-08-17 & FI\\_MGR     & 12008 & NA & 101 & 100\\\\\n\t10 & 109 & Daniel    & Faviet    & DFAVIET  & 515.124.4169 & 2002-08-16 & FI\\_ACCOUNT &  9000 & NA & 108 & 100\\\\\n\\end{tabular}\n",
            "text/markdown": "\nA data.frame: 10 × 11\n\n| <!--/--> | EMPLOYEE_ID &lt;int&gt; | FIRST_NAME &lt;fct&gt; | LAST_NAME &lt;fct&gt; | EMAIL &lt;fct&gt; | PHONE_NUMBER &lt;fct&gt; | HIRE_DATE &lt;fct&gt; | JOB_ID &lt;fct&gt; | SALARY &lt;int&gt; | COMMISSION_PCT &lt;dbl&gt; | MANAGER_ID &lt;int&gt; | DEPARTMENT_ID &lt;int&gt; |\n|---|---|---|---|---|---|---|---|---|---|---|---|\n| 1 | 100 | Steven    | King      | SKING    | 515.123.4567 | 2003-06-17 | AD_PRES    | 24000 | NA |  NA |  90 |\n| 2 | 101 | Neena     | Kochhar   | NKOCHHAR | 515.123.4568 | 2005-09-21 | AD_VP      | 17000 | NA | 100 |  90 |\n| 3 | 102 | Lex       | De Haan   | LDEHAAN  | 515.123.4569 | 2001-01-13 | AD_VP      | 17000 | NA | 100 |  90 |\n| 4 | 103 | Alexander | Hunold    | AHUNOLD  | 590.423.4567 | 2006-01-03 | IT_PROG    |  9000 | NA | 102 |  60 |\n| 5 | 104 | Bruce     | Ernst     | BERNST   | 590.423.4568 | 2007-05-21 | IT_PROG    |  6000 | NA | 103 |  60 |\n| 6 | 105 | David     | Austin    | DAUSTIN  | 590.423.4569 | 2005-06-25 | IT_PROG    |  4800 | NA | 103 |  60 |\n| 7 | 106 | Valli     | Pataballa | VPATABAL | 590.423.4560 | 2006-02-05 | IT_PROG    |  4800 | NA | 103 |  60 |\n| 8 | 107 | Diana     | Lorentz   | DLORENTZ | 590.423.5567 | 2007-02-07 | IT_PROG    |  4200 | NA | 103 |  60 |\n| 9 | 108 | Nancy     | Greenberg | NGREENBE | 515.124.4569 | 2002-08-17 | FI_MGR     | 12008 | NA | 101 | 100 |\n| 10 | 109 | Daniel    | Faviet    | DFAVIET  | 515.124.4169 | 2002-08-16 | FI_ACCOUNT |  9000 | NA | 108 | 100 |\n\n",
            "text/html": [
              "<table>\n",
              "<caption>A data.frame: 10 × 11</caption>\n",
              "<thead>\n",
              "\t<tr><th></th><th scope=col>EMPLOYEE_ID</th><th scope=col>FIRST_NAME</th><th scope=col>LAST_NAME</th><th scope=col>EMAIL</th><th scope=col>PHONE_NUMBER</th><th scope=col>HIRE_DATE</th><th scope=col>JOB_ID</th><th scope=col>SALARY</th><th scope=col>COMMISSION_PCT</th><th scope=col>MANAGER_ID</th><th scope=col>DEPARTMENT_ID</th></tr>\n",
              "\t<tr><th></th><th scope=col>&lt;int&gt;</th><th scope=col>&lt;fct&gt;</th><th scope=col>&lt;fct&gt;</th><th scope=col>&lt;fct&gt;</th><th scope=col>&lt;fct&gt;</th><th scope=col>&lt;fct&gt;</th><th scope=col>&lt;fct&gt;</th><th scope=col>&lt;int&gt;</th><th scope=col>&lt;dbl&gt;</th><th scope=col>&lt;int&gt;</th><th scope=col>&lt;int&gt;</th></tr>\n",
              "</thead>\n",
              "<tbody>\n",
              "\t<tr><th scope=row>1</th><td>100</td><td>Steven   </td><td>King     </td><td>SKING   </td><td>515.123.4567</td><td>2003-06-17</td><td>AD_PRES   </td><td>24000</td><td>NA</td><td> NA</td><td> 90</td></tr>\n",
              "\t<tr><th scope=row>2</th><td>101</td><td>Neena    </td><td>Kochhar  </td><td>NKOCHHAR</td><td>515.123.4568</td><td>2005-09-21</td><td>AD_VP     </td><td>17000</td><td>NA</td><td>100</td><td> 90</td></tr>\n",
              "\t<tr><th scope=row>3</th><td>102</td><td>Lex      </td><td>De Haan  </td><td>LDEHAAN </td><td>515.123.4569</td><td>2001-01-13</td><td>AD_VP     </td><td>17000</td><td>NA</td><td>100</td><td> 90</td></tr>\n",
              "\t<tr><th scope=row>4</th><td>103</td><td>Alexander</td><td>Hunold   </td><td>AHUNOLD </td><td>590.423.4567</td><td>2006-01-03</td><td>IT_PROG   </td><td> 9000</td><td>NA</td><td>102</td><td> 60</td></tr>\n",
              "\t<tr><th scope=row>5</th><td>104</td><td>Bruce    </td><td>Ernst    </td><td>BERNST  </td><td>590.423.4568</td><td>2007-05-21</td><td>IT_PROG   </td><td> 6000</td><td>NA</td><td>103</td><td> 60</td></tr>\n",
              "\t<tr><th scope=row>6</th><td>105</td><td>David    </td><td>Austin   </td><td>DAUSTIN </td><td>590.423.4569</td><td>2005-06-25</td><td>IT_PROG   </td><td> 4800</td><td>NA</td><td>103</td><td> 60</td></tr>\n",
              "\t<tr><th scope=row>7</th><td>106</td><td>Valli    </td><td>Pataballa</td><td>VPATABAL</td><td>590.423.4560</td><td>2006-02-05</td><td>IT_PROG   </td><td> 4800</td><td>NA</td><td>103</td><td> 60</td></tr>\n",
              "\t<tr><th scope=row>8</th><td>107</td><td>Diana    </td><td>Lorentz  </td><td>DLORENTZ</td><td>590.423.5567</td><td>2007-02-07</td><td>IT_PROG   </td><td> 4200</td><td>NA</td><td>103</td><td> 60</td></tr>\n",
              "\t<tr><th scope=row>9</th><td>108</td><td>Nancy    </td><td>Greenberg</td><td>NGREENBE</td><td>515.124.4569</td><td>2002-08-17</td><td>FI_MGR    </td><td>12008</td><td>NA</td><td>101</td><td>100</td></tr>\n",
              "\t<tr><th scope=row>10</th><td>109</td><td>Daniel   </td><td>Faviet   </td><td>DFAVIET </td><td>515.124.4169</td><td>2002-08-16</td><td>FI_ACCOUNT</td><td> 9000</td><td>NA</td><td>108</td><td>100</td></tr>\n",
              "</tbody>\n",
              "</table>\n"
            ]
          },
          "metadata": {
            "tags": []
          }
        }
      ]
    },
    {
      "cell_type": "code",
      "metadata": {
        "id": "WSwrq0QPFTu3",
        "colab_type": "code",
        "colab": {
          "base_uri": "https://localhost:8080/",
          "height": 51
        },
        "outputId": "1ac646c6-325d-4274-e022-11950ccaac09"
      },
      "source": [
        "colSums(is.na(emp)) # 컬럼별 NA 수 확인"
      ],
      "execution_count": 159,
      "outputs": [
        {
          "output_type": "display_data",
          "data": {
            "text/plain": [
              "   EMPLOYEE_ID     FIRST_NAME      LAST_NAME          EMAIL   PHONE_NUMBER \n",
              "             0              0              0              0              0 \n",
              "     HIRE_DATE         JOB_ID         SALARY COMMISSION_PCT     MANAGER_ID \n",
              "             0              0              0             72              1 \n",
              " DEPARTMENT_ID \n",
              "             1 "
            ],
            "text/latex": "\\begin{description*}\n\\item[EMPLOYEE\\textbackslash{}\\_ID] 0\n\\item[FIRST\\textbackslash{}\\_NAME] 0\n\\item[LAST\\textbackslash{}\\_NAME] 0\n\\item[EMAIL] 0\n\\item[PHONE\\textbackslash{}\\_NUMBER] 0\n\\item[HIRE\\textbackslash{}\\_DATE] 0\n\\item[JOB\\textbackslash{}\\_ID] 0\n\\item[SALARY] 0\n\\item[COMMISSION\\textbackslash{}\\_PCT] 72\n\\item[MANAGER\\textbackslash{}\\_ID] 1\n\\item[DEPARTMENT\\textbackslash{}\\_ID] 1\n\\end{description*}\n",
            "text/markdown": "EMPLOYEE_ID\n:   0FIRST_NAME\n:   0LAST_NAME\n:   0EMAIL\n:   0PHONE_NUMBER\n:   0HIRE_DATE\n:   0JOB_ID\n:   0SALARY\n:   0COMMISSION_PCT\n:   72MANAGER_ID\n:   1DEPARTMENT_ID\n:   1\n\n",
            "text/html": [
              "<style>\n",
              ".dl-inline {width: auto; margin:0; padding: 0}\n",
              ".dl-inline>dt, .dl-inline>dd {float: none; width: auto; display: inline-block}\n",
              ".dl-inline>dt::after {content: \":\\0020\"; padding-right: .5ex}\n",
              ".dl-inline>dt:not(:first-of-type) {padding-left: .5ex}\n",
              "</style><dl class=dl-inline><dt>EMPLOYEE_ID</dt><dd>0</dd><dt>FIRST_NAME</dt><dd>0</dd><dt>LAST_NAME</dt><dd>0</dd><dt>EMAIL</dt><dd>0</dd><dt>PHONE_NUMBER</dt><dd>0</dd><dt>HIRE_DATE</dt><dd>0</dd><dt>JOB_ID</dt><dd>0</dd><dt>SALARY</dt><dd>0</dd><dt>COMMISSION_PCT</dt><dd>72</dd><dt>MANAGER_ID</dt><dd>1</dd><dt>DEPARTMENT_ID</dt><dd>1</dd></dl>\n"
            ]
          },
          "metadata": {
            "tags": []
          }
        }
      ]
    },
    {
      "cell_type": "code",
      "metadata": {
        "id": "TySAusQWE6B8",
        "colab_type": "code",
        "colab": {}
      },
      "source": [
        "# 수당컬럼을 대상으로 NA를 0으로 변경\n",
        "cnd <- is.na(emp$COMMISSION_PCT)\n",
        "emp$COMMISSION_PCT[cnd] <- 0"
      ],
      "execution_count": 161,
      "outputs": []
    },
    {
      "cell_type": "code",
      "metadata": {
        "id": "5dWhVaaqE7DP",
        "colab_type": "code",
        "colab": {
          "base_uri": "https://localhost:8080/",
          "height": 51
        },
        "outputId": "82710ed5-5409-47bc-898e-352243dd6a0b"
      },
      "source": [
        "colSums(is.na(emp)) "
      ],
      "execution_count": 162,
      "outputs": [
        {
          "output_type": "display_data",
          "data": {
            "text/plain": [
              "   EMPLOYEE_ID     FIRST_NAME      LAST_NAME          EMAIL   PHONE_NUMBER \n",
              "             0              0              0              0              0 \n",
              "     HIRE_DATE         JOB_ID         SALARY COMMISSION_PCT     MANAGER_ID \n",
              "             0              0              0              0              1 \n",
              " DEPARTMENT_ID \n",
              "             1 "
            ],
            "text/latex": "\\begin{description*}\n\\item[EMPLOYEE\\textbackslash{}\\_ID] 0\n\\item[FIRST\\textbackslash{}\\_NAME] 0\n\\item[LAST\\textbackslash{}\\_NAME] 0\n\\item[EMAIL] 0\n\\item[PHONE\\textbackslash{}\\_NUMBER] 0\n\\item[HIRE\\textbackslash{}\\_DATE] 0\n\\item[JOB\\textbackslash{}\\_ID] 0\n\\item[SALARY] 0\n\\item[COMMISSION\\textbackslash{}\\_PCT] 0\n\\item[MANAGER\\textbackslash{}\\_ID] 1\n\\item[DEPARTMENT\\textbackslash{}\\_ID] 1\n\\end{description*}\n",
            "text/markdown": "EMPLOYEE_ID\n:   0FIRST_NAME\n:   0LAST_NAME\n:   0EMAIL\n:   0PHONE_NUMBER\n:   0HIRE_DATE\n:   0JOB_ID\n:   0SALARY\n:   0COMMISSION_PCT\n:   0MANAGER_ID\n:   1DEPARTMENT_ID\n:   1\n\n",
            "text/html": [
              "<style>\n",
              ".dl-inline {width: auto; margin:0; padding: 0}\n",
              ".dl-inline>dt, .dl-inline>dd {float: none; width: auto; display: inline-block}\n",
              ".dl-inline>dt::after {content: \":\\0020\"; padding-right: .5ex}\n",
              ".dl-inline>dt:not(:first-of-type) {padding-left: .5ex}\n",
              "</style><dl class=dl-inline><dt>EMPLOYEE_ID</dt><dd>0</dd><dt>FIRST_NAME</dt><dd>0</dd><dt>LAST_NAME</dt><dd>0</dd><dt>EMAIL</dt><dd>0</dd><dt>PHONE_NUMBER</dt><dd>0</dd><dt>HIRE_DATE</dt><dd>0</dd><dt>JOB_ID</dt><dd>0</dd><dt>SALARY</dt><dd>0</dd><dt>COMMISSION_PCT</dt><dd>0</dd><dt>MANAGER_ID</dt><dd>1</dd><dt>DEPARTMENT_ID</dt><dd>1</dd></dl>\n"
            ]
          },
          "metadata": {
            "tags": []
          }
        }
      ]
    },
    {
      "cell_type": "code",
      "metadata": {
        "id": "V2_VoCEZ6vYj",
        "colab_type": "code",
        "colab": {}
      },
      "source": [
        "# 우편번호파일을 데이터프레임으로 읽어와서 결측치를 처리하세요.(zip2013)\n",
        "# 코렙을 통해 데이터파일을 읽어오는 경우, \n",
        "# 파일의 인코딩은 반드시 UTF-8로 설정할 것!\n",
        "# 되도록이면 UTF-8로 설정하는 것이 좋음!!\n",
        "\n",
        "zip2013 <- read.csv('zipcode_20130201(2).txt', sep='\\t', na.strings = '', stringsAsFactors = F)\n",
        "# sep : 컬럼을 구분할 구분자 정의 (기본: , )\n",
        "# na.strings : NA로 지정할 문자열 정의\n",
        "# => 빈 문자열은 NA로 자동 입력"
      ],
      "execution_count": 164,
      "outputs": []
    },
    {
      "cell_type": "code",
      "metadata": {
        "id": "hm6zXfkkHE1c",
        "colab_type": "code",
        "colab": {
          "base_uri": "https://localhost:8080/",
          "height": 34
        },
        "outputId": "2a47a114-5dc0-4986-80c1-80bbdccb1a85"
      },
      "source": [
        "colSums(is.na(zip2013))"
      ],
      "execution_count": 167,
      "outputs": [
        {
          "output_type": "display_data",
          "data": {
            "text/plain": [
              "ZIPCODE    SIDO   GUGUN    DONG      RI   BUNJI     SEQ \n",
              "      0       0     186       0   20489   31541       0 "
            ],
            "text/latex": "\\begin{description*}\n\\item[ZIPCODE] 0\n\\item[SIDO] 0\n\\item[GUGUN] 186\n\\item[DONG] 0\n\\item[RI] 20489\n\\item[BUNJI] 31541\n\\item[SEQ] 0\n\\end{description*}\n",
            "text/markdown": "ZIPCODE\n:   0SIDO\n:   0GUGUN\n:   186DONG\n:   0RI\n:   20489BUNJI\n:   31541SEQ\n:   0\n\n",
            "text/html": [
              "<style>\n",
              ".dl-inline {width: auto; margin:0; padding: 0}\n",
              ".dl-inline>dt, .dl-inline>dd {float: none; width: auto; display: inline-block}\n",
              ".dl-inline>dt::after {content: \":\\0020\"; padding-right: .5ex}\n",
              ".dl-inline>dt:not(:first-of-type) {padding-left: .5ex}\n",
              "</style><dl class=dl-inline><dt>ZIPCODE</dt><dd>0</dd><dt>SIDO</dt><dd>0</dd><dt>GUGUN</dt><dd>186</dd><dt>DONG</dt><dd>0</dd><dt>RI</dt><dd>20489</dd><dt>BUNJI</dt><dd>31541</dd><dt>SEQ</dt><dd>0</dd></dl>\n"
            ]
          },
          "metadata": {
            "tags": []
          }
        }
      ]
    },
    {
      "cell_type": "code",
      "metadata": {
        "id": "_bSWBo9dIRO2",
        "colab_type": "code",
        "colab": {}
      },
      "source": [
        "cnd <- is.na(zip2013$GUGUN)\n",
        "zip2013$GUGUN <- ''"
      ],
      "execution_count": 171,
      "outputs": []
    },
    {
      "cell_type": "code",
      "metadata": {
        "id": "DTAaWpHjIign",
        "colab_type": "code",
        "colab": {
          "base_uri": "https://localhost:8080/",
          "height": 34
        },
        "outputId": "53d62c52-57c9-40cd-b71d-bc0dba3b6c3b"
      },
      "source": [
        "colSums(is.na(zip2013))"
      ],
      "execution_count": 172,
      "outputs": [
        {
          "output_type": "display_data",
          "data": {
            "text/plain": [
              "ZIPCODE    SIDO   GUGUN    DONG      RI   BUNJI     SEQ \n",
              "      0       0       0       0   20489       0       0 "
            ],
            "text/latex": "\\begin{description*}\n\\item[ZIPCODE] 0\n\\item[SIDO] 0\n\\item[GUGUN] 0\n\\item[DONG] 0\n\\item[RI] 20489\n\\item[BUNJI] 0\n\\item[SEQ] 0\n\\end{description*}\n",
            "text/markdown": "ZIPCODE\n:   0SIDO\n:   0GUGUN\n:   0DONG\n:   0RI\n:   20489BUNJI\n:   0SEQ\n:   0\n\n",
            "text/html": [
              "<style>\n",
              ".dl-inline {width: auto; margin:0; padding: 0}\n",
              ".dl-inline>dt, .dl-inline>dd {float: none; width: auto; display: inline-block}\n",
              ".dl-inline>dt::after {content: \":\\0020\"; padding-right: .5ex}\n",
              ".dl-inline>dt:not(:first-of-type) {padding-left: .5ex}\n",
              "</style><dl class=dl-inline><dt>ZIPCODE</dt><dd>0</dd><dt>SIDO</dt><dd>0</dd><dt>GUGUN</dt><dd>0</dd><dt>DONG</dt><dd>0</dd><dt>RI</dt><dd>20489</dd><dt>BUNJI</dt><dd>0</dd><dt>SEQ</dt><dd>0</dd></dl>\n"
            ]
          },
          "metadata": {
            "tags": []
          }
        }
      ]
    },
    {
      "cell_type": "code",
      "metadata": {
        "id": "-ns9yEElIpi9",
        "colab_type": "code",
        "colab": {}
      },
      "source": [
        "cnd <- is.na(zip2013$RI)\n",
        "zip2013$RI <- ''"
      ],
      "execution_count": 173,
      "outputs": []
    },
    {
      "cell_type": "code",
      "metadata": {
        "id": "S11v8gJaIqRF",
        "colab_type": "code",
        "colab": {
          "base_uri": "https://localhost:8080/",
          "height": 34
        },
        "outputId": "cf49ad81-6b96-4726-b715-ed5342f23d02"
      },
      "source": [
        "colSums(is.na(zip2013))"
      ],
      "execution_count": 174,
      "outputs": [
        {
          "output_type": "display_data",
          "data": {
            "text/plain": [
              "ZIPCODE    SIDO   GUGUN    DONG      RI   BUNJI     SEQ \n",
              "      0       0       0       0       0       0       0 "
            ],
            "text/latex": "\\begin{description*}\n\\item[ZIPCODE] 0\n\\item[SIDO] 0\n\\item[GUGUN] 0\n\\item[DONG] 0\n\\item[RI] 0\n\\item[BUNJI] 0\n\\item[SEQ] 0\n\\end{description*}\n",
            "text/markdown": "ZIPCODE\n:   0SIDO\n:   0GUGUN\n:   0DONG\n:   0RI\n:   0BUNJI\n:   0SEQ\n:   0\n\n",
            "text/html": [
              "<style>\n",
              ".dl-inline {width: auto; margin:0; padding: 0}\n",
              ".dl-inline>dt, .dl-inline>dd {float: none; width: auto; display: inline-block}\n",
              ".dl-inline>dt::after {content: \":\\0020\"; padding-right: .5ex}\n",
              ".dl-inline>dt:not(:first-of-type) {padding-left: .5ex}\n",
              "</style><dl class=dl-inline><dt>ZIPCODE</dt><dd>0</dd><dt>SIDO</dt><dd>0</dd><dt>GUGUN</dt><dd>0</dd><dt>DONG</dt><dd>0</dd><dt>RI</dt><dd>0</dd><dt>BUNJI</dt><dd>0</dd><dt>SEQ</dt><dd>0</dd></dl>\n"
            ]
          },
          "metadata": {
            "tags": []
          }
        }
      ]
    },
    {
      "cell_type": "code",
      "metadata": {
        "id": "kKANCvPFH6tL",
        "colab_type": "code",
        "colab": {}
      },
      "source": [
        "# NA로 작성된 주소컬럼들의 값을 빈 문자열로 대체함\n",
        "zip2013$BUNJI <- ifelse(is.na(zip2013$BUNJI), '', zip2013$BUNJI)"
      ],
      "execution_count": 169,
      "outputs": []
    },
    {
      "cell_type": "code",
      "metadata": {
        "id": "hlFT_AYPIE4m",
        "colab_type": "code",
        "colab": {
          "base_uri": "https://localhost:8080/",
          "height": 34
        },
        "outputId": "14cfd830-555e-44dd-ef70-eeb846cc5bd3"
      },
      "source": [
        "colSums(is.na(zip2013))"
      ],
      "execution_count": 170,
      "outputs": [
        {
          "output_type": "display_data",
          "data": {
            "text/plain": [
              "ZIPCODE    SIDO   GUGUN    DONG      RI   BUNJI     SEQ \n",
              "      0       0     186       0   20489       0       0 "
            ],
            "text/latex": "\\begin{description*}\n\\item[ZIPCODE] 0\n\\item[SIDO] 0\n\\item[GUGUN] 186\n\\item[DONG] 0\n\\item[RI] 20489\n\\item[BUNJI] 0\n\\item[SEQ] 0\n\\end{description*}\n",
            "text/markdown": "ZIPCODE\n:   0SIDO\n:   0GUGUN\n:   186DONG\n:   0RI\n:   20489BUNJI\n:   0SEQ\n:   0\n\n",
            "text/html": [
              "<style>\n",
              ".dl-inline {width: auto; margin:0; padding: 0}\n",
              ".dl-inline>dt, .dl-inline>dd {float: none; width: auto; display: inline-block}\n",
              ".dl-inline>dt::after {content: \":\\0020\"; padding-right: .5ex}\n",
              ".dl-inline>dt:not(:first-of-type) {padding-left: .5ex}\n",
              "</style><dl class=dl-inline><dt>ZIPCODE</dt><dd>0</dd><dt>SIDO</dt><dd>0</dd><dt>GUGUN</dt><dd>186</dd><dt>DONG</dt><dd>0</dd><dt>RI</dt><dd>20489</dd><dt>BUNJI</dt><dd>0</dd><dt>SEQ</dt><dd>0</dd></dl>\n"
            ]
          },
          "metadata": {
            "tags": []
          }
        }
      ]
    },
    {
      "cell_type": "code",
      "metadata": {
        "id": "NN44lAXcDnoQ",
        "colab_type": "code",
        "colab": {}
      },
      "source": [
        "zip2013_0 <- read.csv('https://raw.githubusercontent.com/Jungsan005/R_statstics/master/datasets/zipcode_20130201(2).txt', sep='\\t')"
      ],
      "execution_count": 154,
      "outputs": []
    },
    {
      "cell_type": "code",
      "metadata": {
        "id": "FJQTNhkYD4DA",
        "colab_type": "code",
        "colab": {
          "base_uri": "https://localhost:8080/",
          "height": 1000
        },
        "outputId": "de1a4ea7-5d02-4d1a-94a4-d2af9e8c0c5b"
      },
      "source": [
        "zip2013_0"
      ],
      "execution_count": 155,
      "outputs": [
        {
          "output_type": "display_data",
          "data": {
            "text/plain": [
              "      ZIPCODE SIDO GUGUN  DONG    RI            BUNJI       SEQ  \n",
              "1     135-806 서울 강남구 개포1동 경남아파트                 1   \n",
              "2     135-807 서울 강남구 개포1동 우성3차아파트 (1∼6동)      2   \n",
              "3     135-806 서울 강남구 개포1동 우성9차아파트 (901∼902동)  3   \n",
              "4     135-770 서울 강남구 개포1동 주공아파트    (1∼16동)     4   \n",
              "5     135-805 서울 강남구 개포1동 주공아파트    (17∼40동)    5   \n",
              "6     135-966 서울 강남구 개포1동 주공아파트    (41∼85동)    6   \n",
              "7     135-807 서울 강남구 개포1동 주공아파트    (86∼103동)   7   \n",
              "8     135-805 서울 강남구 개포1동 주공아파트    (104∼125동)  8   \n",
              "9     135-807 서울 강남구 개포1동 현대1차아파트 (101∼106동)  9   \n",
              "10    135-805 서울 강남구 개포1동               565         10   \n",
              "11    135-806 서울 강남구 개포1동               649∼651     11   \n",
              "12    135-807 서울 강남구 개포1동               652∼653     12   \n",
              "13    135-810 서울 강남구 개포1동               660         13   \n",
              "14    135-241 서울 강남구 개포1동                           14   \n",
              "15    135-800 서울 강남구 개포2동 우성8차아파트 (801∼803동) 15   \n",
              "16    135-771 서울 강남구 개포2동 주공아파트    (201∼232동) 16   \n",
              "17    135-800 서울 강남구 개포2동 주공아파트    (301∼325동) 17   \n",
              "18    135-772 서울 강남구 개포2동 주공아파트    (401∼415동) 18   \n",
              "19    135-800 서울 강남구 개포2동 주공아파트    (416∼458동) 19   \n",
              "20    135-992 서울 강남구 개포2동 주공아파트    (501∼506동) 20   \n",
              "21    135-993 서울 강남구 개포2동 주공아파트    (601∼609동) 21   \n",
              "22    135-993 서울 강남구 개포2동 주공아파트    (701∼708동) 22   \n",
              "23    135-800 서울 강남구 개포2동 현대3차아파트 (1∼5동)     23   \n",
              "24    135-800 서울 강남구 개포2동               94∼108      24   \n",
              "25    135-801 서울 강남구 개포2동               138         25   \n",
              "26    135-802 서울 강남구 개포2동               139∼140     26   \n",
              "27    135-800 서울 강남구 개포2동               152∼156     27   \n",
              "28    135-802 서울 강남구 개포2동               157∼169     28   \n",
              "29    135-800 서울 강남구 개포2동               170∼177     29   \n",
              "30    135-803 서울 강남구 개포2동               178         30   \n",
              "⋮     ⋮       ⋮    ⋮      ⋮       ⋮             ⋮           ⋮    \n",
              "52115 363-911 충북 청원군 옥산면  국사리                    52115\n",
              "52116 363-912 충북 청원군 옥산면  금계리                    52116\n",
              "52117 363-911 충북 청원군 옥산면  남촌리                    52117\n",
              "52118 363-913 충북 청원군 옥산면  덕촌리                    52118\n",
              "52119 363-912 충북 청원군 옥산면  동림리                    52119\n",
              "52120 363-912 충북 청원군 옥산면  사정리                    52120\n",
              "52121 363-911 충북 청원군 옥산면  소로리                    52121\n",
              "52122 363-912 충북 청원군 옥산면  수락리                    52122\n",
              "52123 363-913 충북 청원군 옥산면  신촌리                    52123\n",
              "52124 363-914 충북 청원군 옥산면  오산리                    52124\n",
              "52125 363-912 충북 청원군 옥산면  장남리                    52125\n",
              "52126 363-913 충북 청원군 옥산면  장동리                    52126\n",
              "52127 363-912 충북 청원군 옥산면  호죽리                    52127\n",
              "52128 363-913 충북 청원군 옥산면  환희리                    52128\n",
              "52129 363-910 충북 청원군 옥산면                            52129\n",
              "52130 363-821 충북 청원군 현도면  노산리                    52130\n",
              "52131 363-822 충북 청원군 현도면  달계리                    52131\n",
              "52132 363-822 충북 청원군 현도면  매봉리                    52132\n",
              "52133 363-823 충북 청원군 현도면  상삼리                    52133\n",
              "52134 363-821 충북 청원군 현도면  선동리                    52134\n",
              "52135 363-822 충북 청원군 현도면  시동리                    52135\n",
              "52136 363-822 충북 청원군 현도면  시목리                    52136\n",
              "52137 363-821 충북 청원군 현도면  양지리                    52137\n",
              "52138 363-823 충북 청원군 현도면  우록리                    52138\n",
              "52139 363-823 충북 청원군 현도면  죽암리                    52139\n",
              "52140 363-823 충북 청원군 현도면  죽전리                    52140\n",
              "52141 363-823 충북 청원군 현도면  중삼리                    52141\n",
              "52142 363-822 충북 청원군 현도면  중척리                    52142\n",
              "52143 363-821 충북 청원군 현도면  하석리                    52143\n",
              "52144 363-820 충북 청원군 현도면                            52144"
            ],
            "text/latex": "A data.frame: 52144 × 7\n\\begin{tabular}{lllllll}\n ZIPCODE & SIDO & GUGUN & DONG & RI & BUNJI & SEQ\\\\\n <fct> & <fct> & <fct> & <fct> & <fct> & <fct> & <int>\\\\\n\\hline\n\t 135-806 & 서울 & 강남구 & 개포1동 & 경남아파트    &             &  1\\\\\n\t 135-807 & 서울 & 강남구 & 개포1동 & 우성3차아파트 & (1∼6동)     &  2\\\\\n\t 135-806 & 서울 & 강남구 & 개포1동 & 우성9차아파트 & (901∼902동) &  3\\\\\n\t 135-770 & 서울 & 강남구 & 개포1동 & 주공아파트    & (1∼16동)    &  4\\\\\n\t 135-805 & 서울 & 강남구 & 개포1동 & 주공아파트    & (17∼40동)   &  5\\\\\n\t 135-966 & 서울 & 강남구 & 개포1동 & 주공아파트    & (41∼85동)   &  6\\\\\n\t 135-807 & 서울 & 강남구 & 개포1동 & 주공아파트    & (86∼103동)  &  7\\\\\n\t 135-805 & 서울 & 강남구 & 개포1동 & 주공아파트    & (104∼125동) &  8\\\\\n\t 135-807 & 서울 & 강남구 & 개포1동 & 현대1차아파트 & (101∼106동) &  9\\\\\n\t 135-805 & 서울 & 강남구 & 개포1동 &               & 565         & 10\\\\\n\t 135-806 & 서울 & 강남구 & 개포1동 &               & 649∼651     & 11\\\\\n\t 135-807 & 서울 & 강남구 & 개포1동 &               & 652∼653     & 12\\\\\n\t 135-810 & 서울 & 강남구 & 개포1동 &               & 660         & 13\\\\\n\t 135-241 & 서울 & 강남구 & 개포1동 &               &             & 14\\\\\n\t 135-800 & 서울 & 강남구 & 개포2동 & 우성8차아파트 & (801∼803동) & 15\\\\\n\t 135-771 & 서울 & 강남구 & 개포2동 & 주공아파트    & (201∼232동) & 16\\\\\n\t 135-800 & 서울 & 강남구 & 개포2동 & 주공아파트    & (301∼325동) & 17\\\\\n\t 135-772 & 서울 & 강남구 & 개포2동 & 주공아파트    & (401∼415동) & 18\\\\\n\t 135-800 & 서울 & 강남구 & 개포2동 & 주공아파트    & (416∼458동) & 19\\\\\n\t 135-992 & 서울 & 강남구 & 개포2동 & 주공아파트    & (501∼506동) & 20\\\\\n\t 135-993 & 서울 & 강남구 & 개포2동 & 주공아파트    & (601∼609동) & 21\\\\\n\t 135-993 & 서울 & 강남구 & 개포2동 & 주공아파트    & (701∼708동) & 22\\\\\n\t 135-800 & 서울 & 강남구 & 개포2동 & 현대3차아파트 & (1∼5동)     & 23\\\\\n\t 135-800 & 서울 & 강남구 & 개포2동 &               & 94∼108      & 24\\\\\n\t 135-801 & 서울 & 강남구 & 개포2동 &               & 138         & 25\\\\\n\t 135-802 & 서울 & 강남구 & 개포2동 &               & 139∼140     & 26\\\\\n\t 135-800 & 서울 & 강남구 & 개포2동 &               & 152∼156     & 27\\\\\n\t 135-802 & 서울 & 강남구 & 개포2동 &               & 157∼169     & 28\\\\\n\t 135-800 & 서울 & 강남구 & 개포2동 &               & 170∼177     & 29\\\\\n\t 135-803 & 서울 & 강남구 & 개포2동 &               & 178         & 30\\\\\n\t ⋮ & ⋮ & ⋮ & ⋮ & ⋮ & ⋮ & ⋮\\\\\n\t 363-911 & 충북 & 청원군 & 옥산면 & 국사리 &  & 52115\\\\\n\t 363-912 & 충북 & 청원군 & 옥산면 & 금계리 &  & 52116\\\\\n\t 363-911 & 충북 & 청원군 & 옥산면 & 남촌리 &  & 52117\\\\\n\t 363-913 & 충북 & 청원군 & 옥산면 & 덕촌리 &  & 52118\\\\\n\t 363-912 & 충북 & 청원군 & 옥산면 & 동림리 &  & 52119\\\\\n\t 363-912 & 충북 & 청원군 & 옥산면 & 사정리 &  & 52120\\\\\n\t 363-911 & 충북 & 청원군 & 옥산면 & 소로리 &  & 52121\\\\\n\t 363-912 & 충북 & 청원군 & 옥산면 & 수락리 &  & 52122\\\\\n\t 363-913 & 충북 & 청원군 & 옥산면 & 신촌리 &  & 52123\\\\\n\t 363-914 & 충북 & 청원군 & 옥산면 & 오산리 &  & 52124\\\\\n\t 363-912 & 충북 & 청원군 & 옥산면 & 장남리 &  & 52125\\\\\n\t 363-913 & 충북 & 청원군 & 옥산면 & 장동리 &  & 52126\\\\\n\t 363-912 & 충북 & 청원군 & 옥산면 & 호죽리 &  & 52127\\\\\n\t 363-913 & 충북 & 청원군 & 옥산면 & 환희리 &  & 52128\\\\\n\t 363-910 & 충북 & 청원군 & 옥산면 &        &  & 52129\\\\\n\t 363-821 & 충북 & 청원군 & 현도면 & 노산리 &  & 52130\\\\\n\t 363-822 & 충북 & 청원군 & 현도면 & 달계리 &  & 52131\\\\\n\t 363-822 & 충북 & 청원군 & 현도면 & 매봉리 &  & 52132\\\\\n\t 363-823 & 충북 & 청원군 & 현도면 & 상삼리 &  & 52133\\\\\n\t 363-821 & 충북 & 청원군 & 현도면 & 선동리 &  & 52134\\\\\n\t 363-822 & 충북 & 청원군 & 현도면 & 시동리 &  & 52135\\\\\n\t 363-822 & 충북 & 청원군 & 현도면 & 시목리 &  & 52136\\\\\n\t 363-821 & 충북 & 청원군 & 현도면 & 양지리 &  & 52137\\\\\n\t 363-823 & 충북 & 청원군 & 현도면 & 우록리 &  & 52138\\\\\n\t 363-823 & 충북 & 청원군 & 현도면 & 죽암리 &  & 52139\\\\\n\t 363-823 & 충북 & 청원군 & 현도면 & 죽전리 &  & 52140\\\\\n\t 363-823 & 충북 & 청원군 & 현도면 & 중삼리 &  & 52141\\\\\n\t 363-822 & 충북 & 청원군 & 현도면 & 중척리 &  & 52142\\\\\n\t 363-821 & 충북 & 청원군 & 현도면 & 하석리 &  & 52143\\\\\n\t 363-820 & 충북 & 청원군 & 현도면 &        &  & 52144\\\\\n\\end{tabular}\n",
            "text/markdown": "\nA data.frame: 52144 × 7\n\n| ZIPCODE &lt;fct&gt; | SIDO &lt;fct&gt; | GUGUN &lt;fct&gt; | DONG &lt;fct&gt; | RI &lt;fct&gt; | BUNJI &lt;fct&gt; | SEQ &lt;int&gt; |\n|---|---|---|---|---|---|---|\n| 135-806 | 서울 | 강남구 | 개포1동 | 경남아파트    | <!----> |  1 |\n| 135-807 | 서울 | 강남구 | 개포1동 | 우성3차아파트 | (1∼6동)     |  2 |\n| 135-806 | 서울 | 강남구 | 개포1동 | 우성9차아파트 | (901∼902동) |  3 |\n| 135-770 | 서울 | 강남구 | 개포1동 | 주공아파트    | (1∼16동)    |  4 |\n| 135-805 | 서울 | 강남구 | 개포1동 | 주공아파트    | (17∼40동)   |  5 |\n| 135-966 | 서울 | 강남구 | 개포1동 | 주공아파트    | (41∼85동)   |  6 |\n| 135-807 | 서울 | 강남구 | 개포1동 | 주공아파트    | (86∼103동)  |  7 |\n| 135-805 | 서울 | 강남구 | 개포1동 | 주공아파트    | (104∼125동) |  8 |\n| 135-807 | 서울 | 강남구 | 개포1동 | 현대1차아파트 | (101∼106동) |  9 |\n| 135-805 | 서울 | 강남구 | 개포1동 | <!----> | 565         | 10 |\n| 135-806 | 서울 | 강남구 | 개포1동 | <!----> | 649∼651     | 11 |\n| 135-807 | 서울 | 강남구 | 개포1동 | <!----> | 652∼653     | 12 |\n| 135-810 | 서울 | 강남구 | 개포1동 | <!----> | 660         | 13 |\n| 135-241 | 서울 | 강남구 | 개포1동 | <!----> | <!----> | 14 |\n| 135-800 | 서울 | 강남구 | 개포2동 | 우성8차아파트 | (801∼803동) | 15 |\n| 135-771 | 서울 | 강남구 | 개포2동 | 주공아파트    | (201∼232동) | 16 |\n| 135-800 | 서울 | 강남구 | 개포2동 | 주공아파트    | (301∼325동) | 17 |\n| 135-772 | 서울 | 강남구 | 개포2동 | 주공아파트    | (401∼415동) | 18 |\n| 135-800 | 서울 | 강남구 | 개포2동 | 주공아파트    | (416∼458동) | 19 |\n| 135-992 | 서울 | 강남구 | 개포2동 | 주공아파트    | (501∼506동) | 20 |\n| 135-993 | 서울 | 강남구 | 개포2동 | 주공아파트    | (601∼609동) | 21 |\n| 135-993 | 서울 | 강남구 | 개포2동 | 주공아파트    | (701∼708동) | 22 |\n| 135-800 | 서울 | 강남구 | 개포2동 | 현대3차아파트 | (1∼5동)     | 23 |\n| 135-800 | 서울 | 강남구 | 개포2동 | <!----> | 94∼108      | 24 |\n| 135-801 | 서울 | 강남구 | 개포2동 | <!----> | 138         | 25 |\n| 135-802 | 서울 | 강남구 | 개포2동 | <!----> | 139∼140     | 26 |\n| 135-800 | 서울 | 강남구 | 개포2동 | <!----> | 152∼156     | 27 |\n| 135-802 | 서울 | 강남구 | 개포2동 | <!----> | 157∼169     | 28 |\n| 135-800 | 서울 | 강남구 | 개포2동 | <!----> | 170∼177     | 29 |\n| 135-803 | 서울 | 강남구 | 개포2동 | <!----> | 178         | 30 |\n| ⋮ | ⋮ | ⋮ | ⋮ | ⋮ | ⋮ | ⋮ |\n| 363-911 | 충북 | 청원군 | 옥산면 | 국사리 | <!----> | 52115 |\n| 363-912 | 충북 | 청원군 | 옥산면 | 금계리 | <!----> | 52116 |\n| 363-911 | 충북 | 청원군 | 옥산면 | 남촌리 | <!----> | 52117 |\n| 363-913 | 충북 | 청원군 | 옥산면 | 덕촌리 | <!----> | 52118 |\n| 363-912 | 충북 | 청원군 | 옥산면 | 동림리 | <!----> | 52119 |\n| 363-912 | 충북 | 청원군 | 옥산면 | 사정리 | <!----> | 52120 |\n| 363-911 | 충북 | 청원군 | 옥산면 | 소로리 | <!----> | 52121 |\n| 363-912 | 충북 | 청원군 | 옥산면 | 수락리 | <!----> | 52122 |\n| 363-913 | 충북 | 청원군 | 옥산면 | 신촌리 | <!----> | 52123 |\n| 363-914 | 충북 | 청원군 | 옥산면 | 오산리 | <!----> | 52124 |\n| 363-912 | 충북 | 청원군 | 옥산면 | 장남리 | <!----> | 52125 |\n| 363-913 | 충북 | 청원군 | 옥산면 | 장동리 | <!----> | 52126 |\n| 363-912 | 충북 | 청원군 | 옥산면 | 호죽리 | <!----> | 52127 |\n| 363-913 | 충북 | 청원군 | 옥산면 | 환희리 | <!----> | 52128 |\n| 363-910 | 충북 | 청원군 | 옥산면 | <!----> | <!----> | 52129 |\n| 363-821 | 충북 | 청원군 | 현도면 | 노산리 | <!----> | 52130 |\n| 363-822 | 충북 | 청원군 | 현도면 | 달계리 | <!----> | 52131 |\n| 363-822 | 충북 | 청원군 | 현도면 | 매봉리 | <!----> | 52132 |\n| 363-823 | 충북 | 청원군 | 현도면 | 상삼리 | <!----> | 52133 |\n| 363-821 | 충북 | 청원군 | 현도면 | 선동리 | <!----> | 52134 |\n| 363-822 | 충북 | 청원군 | 현도면 | 시동리 | <!----> | 52135 |\n| 363-822 | 충북 | 청원군 | 현도면 | 시목리 | <!----> | 52136 |\n| 363-821 | 충북 | 청원군 | 현도면 | 양지리 | <!----> | 52137 |\n| 363-823 | 충북 | 청원군 | 현도면 | 우록리 | <!----> | 52138 |\n| 363-823 | 충북 | 청원군 | 현도면 | 죽암리 | <!----> | 52139 |\n| 363-823 | 충북 | 청원군 | 현도면 | 죽전리 | <!----> | 52140 |\n| 363-823 | 충북 | 청원군 | 현도면 | 중삼리 | <!----> | 52141 |\n| 363-822 | 충북 | 청원군 | 현도면 | 중척리 | <!----> | 52142 |\n| 363-821 | 충북 | 청원군 | 현도면 | 하석리 | <!----> | 52143 |\n| 363-820 | 충북 | 청원군 | 현도면 | <!----> | <!----> | 52144 |\n\n",
            "text/html": [
              "<table>\n",
              "<caption>A data.frame: 52144 × 7</caption>\n",
              "<thead>\n",
              "\t<tr><th scope=col>ZIPCODE</th><th scope=col>SIDO</th><th scope=col>GUGUN</th><th scope=col>DONG</th><th scope=col>RI</th><th scope=col>BUNJI</th><th scope=col>SEQ</th></tr>\n",
              "\t<tr><th scope=col>&lt;fct&gt;</th><th scope=col>&lt;fct&gt;</th><th scope=col>&lt;fct&gt;</th><th scope=col>&lt;fct&gt;</th><th scope=col>&lt;fct&gt;</th><th scope=col>&lt;fct&gt;</th><th scope=col>&lt;int&gt;</th></tr>\n",
              "</thead>\n",
              "<tbody>\n",
              "\t<tr><td>135-806</td><td>서울</td><td>강남구</td><td>개포1동</td><td>경남아파트   </td><td>           </td><td> 1</td></tr>\n",
              "\t<tr><td>135-807</td><td>서울</td><td>강남구</td><td>개포1동</td><td>우성3차아파트</td><td>(1∼6동)    </td><td> 2</td></tr>\n",
              "\t<tr><td>135-806</td><td>서울</td><td>강남구</td><td>개포1동</td><td>우성9차아파트</td><td>(901∼902동)</td><td> 3</td></tr>\n",
              "\t<tr><td>135-770</td><td>서울</td><td>강남구</td><td>개포1동</td><td>주공아파트   </td><td>(1∼16동)   </td><td> 4</td></tr>\n",
              "\t<tr><td>135-805</td><td>서울</td><td>강남구</td><td>개포1동</td><td>주공아파트   </td><td>(17∼40동)  </td><td> 5</td></tr>\n",
              "\t<tr><td>135-966</td><td>서울</td><td>강남구</td><td>개포1동</td><td>주공아파트   </td><td>(41∼85동)  </td><td> 6</td></tr>\n",
              "\t<tr><td>135-807</td><td>서울</td><td>강남구</td><td>개포1동</td><td>주공아파트   </td><td>(86∼103동) </td><td> 7</td></tr>\n",
              "\t<tr><td>135-805</td><td>서울</td><td>강남구</td><td>개포1동</td><td>주공아파트   </td><td>(104∼125동)</td><td> 8</td></tr>\n",
              "\t<tr><td>135-807</td><td>서울</td><td>강남구</td><td>개포1동</td><td>현대1차아파트</td><td>(101∼106동)</td><td> 9</td></tr>\n",
              "\t<tr><td>135-805</td><td>서울</td><td>강남구</td><td>개포1동</td><td>             </td><td>565        </td><td>10</td></tr>\n",
              "\t<tr><td>135-806</td><td>서울</td><td>강남구</td><td>개포1동</td><td>             </td><td>649∼651    </td><td>11</td></tr>\n",
              "\t<tr><td>135-807</td><td>서울</td><td>강남구</td><td>개포1동</td><td>             </td><td>652∼653    </td><td>12</td></tr>\n",
              "\t<tr><td>135-810</td><td>서울</td><td>강남구</td><td>개포1동</td><td>             </td><td>660        </td><td>13</td></tr>\n",
              "\t<tr><td>135-241</td><td>서울</td><td>강남구</td><td>개포1동</td><td>             </td><td>           </td><td>14</td></tr>\n",
              "\t<tr><td>135-800</td><td>서울</td><td>강남구</td><td>개포2동</td><td>우성8차아파트</td><td>(801∼803동)</td><td>15</td></tr>\n",
              "\t<tr><td>135-771</td><td>서울</td><td>강남구</td><td>개포2동</td><td>주공아파트   </td><td>(201∼232동)</td><td>16</td></tr>\n",
              "\t<tr><td>135-800</td><td>서울</td><td>강남구</td><td>개포2동</td><td>주공아파트   </td><td>(301∼325동)</td><td>17</td></tr>\n",
              "\t<tr><td>135-772</td><td>서울</td><td>강남구</td><td>개포2동</td><td>주공아파트   </td><td>(401∼415동)</td><td>18</td></tr>\n",
              "\t<tr><td>135-800</td><td>서울</td><td>강남구</td><td>개포2동</td><td>주공아파트   </td><td>(416∼458동)</td><td>19</td></tr>\n",
              "\t<tr><td>135-992</td><td>서울</td><td>강남구</td><td>개포2동</td><td>주공아파트   </td><td>(501∼506동)</td><td>20</td></tr>\n",
              "\t<tr><td>135-993</td><td>서울</td><td>강남구</td><td>개포2동</td><td>주공아파트   </td><td>(601∼609동)</td><td>21</td></tr>\n",
              "\t<tr><td>135-993</td><td>서울</td><td>강남구</td><td>개포2동</td><td>주공아파트   </td><td>(701∼708동)</td><td>22</td></tr>\n",
              "\t<tr><td>135-800</td><td>서울</td><td>강남구</td><td>개포2동</td><td>현대3차아파트</td><td>(1∼5동)    </td><td>23</td></tr>\n",
              "\t<tr><td>135-800</td><td>서울</td><td>강남구</td><td>개포2동</td><td>             </td><td>94∼108     </td><td>24</td></tr>\n",
              "\t<tr><td>135-801</td><td>서울</td><td>강남구</td><td>개포2동</td><td>             </td><td>138        </td><td>25</td></tr>\n",
              "\t<tr><td>135-802</td><td>서울</td><td>강남구</td><td>개포2동</td><td>             </td><td>139∼140    </td><td>26</td></tr>\n",
              "\t<tr><td>135-800</td><td>서울</td><td>강남구</td><td>개포2동</td><td>             </td><td>152∼156    </td><td>27</td></tr>\n",
              "\t<tr><td>135-802</td><td>서울</td><td>강남구</td><td>개포2동</td><td>             </td><td>157∼169    </td><td>28</td></tr>\n",
              "\t<tr><td>135-800</td><td>서울</td><td>강남구</td><td>개포2동</td><td>             </td><td>170∼177    </td><td>29</td></tr>\n",
              "\t<tr><td>135-803</td><td>서울</td><td>강남구</td><td>개포2동</td><td>             </td><td>178        </td><td>30</td></tr>\n",
              "\t<tr><td>⋮</td><td>⋮</td><td>⋮</td><td>⋮</td><td>⋮</td><td>⋮</td><td>⋮</td></tr>\n",
              "\t<tr><td>363-911</td><td>충북</td><td>청원군</td><td>옥산면</td><td>국사리</td><td></td><td>52115</td></tr>\n",
              "\t<tr><td>363-912</td><td>충북</td><td>청원군</td><td>옥산면</td><td>금계리</td><td></td><td>52116</td></tr>\n",
              "\t<tr><td>363-911</td><td>충북</td><td>청원군</td><td>옥산면</td><td>남촌리</td><td></td><td>52117</td></tr>\n",
              "\t<tr><td>363-913</td><td>충북</td><td>청원군</td><td>옥산면</td><td>덕촌리</td><td></td><td>52118</td></tr>\n",
              "\t<tr><td>363-912</td><td>충북</td><td>청원군</td><td>옥산면</td><td>동림리</td><td></td><td>52119</td></tr>\n",
              "\t<tr><td>363-912</td><td>충북</td><td>청원군</td><td>옥산면</td><td>사정리</td><td></td><td>52120</td></tr>\n",
              "\t<tr><td>363-911</td><td>충북</td><td>청원군</td><td>옥산면</td><td>소로리</td><td></td><td>52121</td></tr>\n",
              "\t<tr><td>363-912</td><td>충북</td><td>청원군</td><td>옥산면</td><td>수락리</td><td></td><td>52122</td></tr>\n",
              "\t<tr><td>363-913</td><td>충북</td><td>청원군</td><td>옥산면</td><td>신촌리</td><td></td><td>52123</td></tr>\n",
              "\t<tr><td>363-914</td><td>충북</td><td>청원군</td><td>옥산면</td><td>오산리</td><td></td><td>52124</td></tr>\n",
              "\t<tr><td>363-912</td><td>충북</td><td>청원군</td><td>옥산면</td><td>장남리</td><td></td><td>52125</td></tr>\n",
              "\t<tr><td>363-913</td><td>충북</td><td>청원군</td><td>옥산면</td><td>장동리</td><td></td><td>52126</td></tr>\n",
              "\t<tr><td>363-912</td><td>충북</td><td>청원군</td><td>옥산면</td><td>호죽리</td><td></td><td>52127</td></tr>\n",
              "\t<tr><td>363-913</td><td>충북</td><td>청원군</td><td>옥산면</td><td>환희리</td><td></td><td>52128</td></tr>\n",
              "\t<tr><td>363-910</td><td>충북</td><td>청원군</td><td>옥산면</td><td>      </td><td></td><td>52129</td></tr>\n",
              "\t<tr><td>363-821</td><td>충북</td><td>청원군</td><td>현도면</td><td>노산리</td><td></td><td>52130</td></tr>\n",
              "\t<tr><td>363-822</td><td>충북</td><td>청원군</td><td>현도면</td><td>달계리</td><td></td><td>52131</td></tr>\n",
              "\t<tr><td>363-822</td><td>충북</td><td>청원군</td><td>현도면</td><td>매봉리</td><td></td><td>52132</td></tr>\n",
              "\t<tr><td>363-823</td><td>충북</td><td>청원군</td><td>현도면</td><td>상삼리</td><td></td><td>52133</td></tr>\n",
              "\t<tr><td>363-821</td><td>충북</td><td>청원군</td><td>현도면</td><td>선동리</td><td></td><td>52134</td></tr>\n",
              "\t<tr><td>363-822</td><td>충북</td><td>청원군</td><td>현도면</td><td>시동리</td><td></td><td>52135</td></tr>\n",
              "\t<tr><td>363-822</td><td>충북</td><td>청원군</td><td>현도면</td><td>시목리</td><td></td><td>52136</td></tr>\n",
              "\t<tr><td>363-821</td><td>충북</td><td>청원군</td><td>현도면</td><td>양지리</td><td></td><td>52137</td></tr>\n",
              "\t<tr><td>363-823</td><td>충북</td><td>청원군</td><td>현도면</td><td>우록리</td><td></td><td>52138</td></tr>\n",
              "\t<tr><td>363-823</td><td>충북</td><td>청원군</td><td>현도면</td><td>죽암리</td><td></td><td>52139</td></tr>\n",
              "\t<tr><td>363-823</td><td>충북</td><td>청원군</td><td>현도면</td><td>죽전리</td><td></td><td>52140</td></tr>\n",
              "\t<tr><td>363-823</td><td>충북</td><td>청원군</td><td>현도면</td><td>중삼리</td><td></td><td>52141</td></tr>\n",
              "\t<tr><td>363-822</td><td>충북</td><td>청원군</td><td>현도면</td><td>중척리</td><td></td><td>52142</td></tr>\n",
              "\t<tr><td>363-821</td><td>충북</td><td>청원군</td><td>현도면</td><td>하석리</td><td></td><td>52143</td></tr>\n",
              "\t<tr><td>363-820</td><td>충북</td><td>청원군</td><td>현도면</td><td>      </td><td></td><td>52144</td></tr>\n",
              "</tbody>\n",
              "</table>\n"
            ]
          },
          "metadata": {
            "tags": []
          }
        }
      ]
    },
    {
      "cell_type": "code",
      "metadata": {
        "id": "-6Oz_aTq6vdi",
        "colab_type": "code",
        "colab": {
          "base_uri": "https://localhost:8080/",
          "height": 288
        },
        "outputId": "cee5cc73-53c0-4a38-a442-6904d02b5b80"
      },
      "source": [
        "head(zip2013, 10)"
      ],
      "execution_count": 156,
      "outputs": [
        {
          "output_type": "display_data",
          "data": {
            "text/plain": [
              "   ZIPCODE SIDO GUGUN  DONG    RI            BUNJI       SEQ\n",
              "1  135-806 서울 강남구 개포1동 경남아파트                 1 \n",
              "2  135-807 서울 강남구 개포1동 우성3차아파트 (1∼6동)      2 \n",
              "3  135-806 서울 강남구 개포1동 우성9차아파트 (901∼902동)  3 \n",
              "4  135-770 서울 강남구 개포1동 주공아파트    (1∼16동)     4 \n",
              "5  135-805 서울 강남구 개포1동 주공아파트    (17∼40동)    5 \n",
              "6  135-966 서울 강남구 개포1동 주공아파트    (41∼85동)    6 \n",
              "7  135-807 서울 강남구 개포1동 주공아파트    (86∼103동)   7 \n",
              "8  135-805 서울 강남구 개포1동 주공아파트    (104∼125동)  8 \n",
              "9  135-807 서울 강남구 개포1동 현대1차아파트 (101∼106동)  9 \n",
              "10 135-805 서울 강남구 개포1동               565         10 "
            ],
            "text/latex": "A data.frame: 10 × 7\n\\begin{tabular}{r|lllllll}\n  & ZIPCODE & SIDO & GUGUN & DONG & RI & BUNJI & SEQ\\\\\n  & <fct> & <fct> & <fct> & <fct> & <fct> & <fct> & <int>\\\\\n\\hline\n\t1 & 135-806 & 서울 & 강남구 & 개포1동 & 경남아파트    &             &  1\\\\\n\t2 & 135-807 & 서울 & 강남구 & 개포1동 & 우성3차아파트 & (1∼6동)     &  2\\\\\n\t3 & 135-806 & 서울 & 강남구 & 개포1동 & 우성9차아파트 & (901∼902동) &  3\\\\\n\t4 & 135-770 & 서울 & 강남구 & 개포1동 & 주공아파트    & (1∼16동)    &  4\\\\\n\t5 & 135-805 & 서울 & 강남구 & 개포1동 & 주공아파트    & (17∼40동)   &  5\\\\\n\t6 & 135-966 & 서울 & 강남구 & 개포1동 & 주공아파트    & (41∼85동)   &  6\\\\\n\t7 & 135-807 & 서울 & 강남구 & 개포1동 & 주공아파트    & (86∼103동)  &  7\\\\\n\t8 & 135-805 & 서울 & 강남구 & 개포1동 & 주공아파트    & (104∼125동) &  8\\\\\n\t9 & 135-807 & 서울 & 강남구 & 개포1동 & 현대1차아파트 & (101∼106동) &  9\\\\\n\t10 & 135-805 & 서울 & 강남구 & 개포1동 &               & 565         & 10\\\\\n\\end{tabular}\n",
            "text/markdown": "\nA data.frame: 10 × 7\n\n| <!--/--> | ZIPCODE &lt;fct&gt; | SIDO &lt;fct&gt; | GUGUN &lt;fct&gt; | DONG &lt;fct&gt; | RI &lt;fct&gt; | BUNJI &lt;fct&gt; | SEQ &lt;int&gt; |\n|---|---|---|---|---|---|---|---|\n| 1 | 135-806 | 서울 | 강남구 | 개포1동 | 경남아파트    | <!----> |  1 |\n| 2 | 135-807 | 서울 | 강남구 | 개포1동 | 우성3차아파트 | (1∼6동)     |  2 |\n| 3 | 135-806 | 서울 | 강남구 | 개포1동 | 우성9차아파트 | (901∼902동) |  3 |\n| 4 | 135-770 | 서울 | 강남구 | 개포1동 | 주공아파트    | (1∼16동)    |  4 |\n| 5 | 135-805 | 서울 | 강남구 | 개포1동 | 주공아파트    | (17∼40동)   |  5 |\n| 6 | 135-966 | 서울 | 강남구 | 개포1동 | 주공아파트    | (41∼85동)   |  6 |\n| 7 | 135-807 | 서울 | 강남구 | 개포1동 | 주공아파트    | (86∼103동)  |  7 |\n| 8 | 135-805 | 서울 | 강남구 | 개포1동 | 주공아파트    | (104∼125동) |  8 |\n| 9 | 135-807 | 서울 | 강남구 | 개포1동 | 현대1차아파트 | (101∼106동) |  9 |\n| 10 | 135-805 | 서울 | 강남구 | 개포1동 | <!----> | 565         | 10 |\n\n",
            "text/html": [
              "<table>\n",
              "<caption>A data.frame: 10 × 7</caption>\n",
              "<thead>\n",
              "\t<tr><th></th><th scope=col>ZIPCODE</th><th scope=col>SIDO</th><th scope=col>GUGUN</th><th scope=col>DONG</th><th scope=col>RI</th><th scope=col>BUNJI</th><th scope=col>SEQ</th></tr>\n",
              "\t<tr><th></th><th scope=col>&lt;fct&gt;</th><th scope=col>&lt;fct&gt;</th><th scope=col>&lt;fct&gt;</th><th scope=col>&lt;fct&gt;</th><th scope=col>&lt;fct&gt;</th><th scope=col>&lt;fct&gt;</th><th scope=col>&lt;int&gt;</th></tr>\n",
              "</thead>\n",
              "<tbody>\n",
              "\t<tr><th scope=row>1</th><td>135-806</td><td>서울</td><td>강남구</td><td>개포1동</td><td>경남아파트   </td><td>           </td><td> 1</td></tr>\n",
              "\t<tr><th scope=row>2</th><td>135-807</td><td>서울</td><td>강남구</td><td>개포1동</td><td>우성3차아파트</td><td>(1∼6동)    </td><td> 2</td></tr>\n",
              "\t<tr><th scope=row>3</th><td>135-806</td><td>서울</td><td>강남구</td><td>개포1동</td><td>우성9차아파트</td><td>(901∼902동)</td><td> 3</td></tr>\n",
              "\t<tr><th scope=row>4</th><td>135-770</td><td>서울</td><td>강남구</td><td>개포1동</td><td>주공아파트   </td><td>(1∼16동)   </td><td> 4</td></tr>\n",
              "\t<tr><th scope=row>5</th><td>135-805</td><td>서울</td><td>강남구</td><td>개포1동</td><td>주공아파트   </td><td>(17∼40동)  </td><td> 5</td></tr>\n",
              "\t<tr><th scope=row>6</th><td>135-966</td><td>서울</td><td>강남구</td><td>개포1동</td><td>주공아파트   </td><td>(41∼85동)  </td><td> 6</td></tr>\n",
              "\t<tr><th scope=row>7</th><td>135-807</td><td>서울</td><td>강남구</td><td>개포1동</td><td>주공아파트   </td><td>(86∼103동) </td><td> 7</td></tr>\n",
              "\t<tr><th scope=row>8</th><td>135-805</td><td>서울</td><td>강남구</td><td>개포1동</td><td>주공아파트   </td><td>(104∼125동)</td><td> 8</td></tr>\n",
              "\t<tr><th scope=row>9</th><td>135-807</td><td>서울</td><td>강남구</td><td>개포1동</td><td>현대1차아파트</td><td>(101∼106동)</td><td> 9</td></tr>\n",
              "\t<tr><th scope=row>10</th><td>135-805</td><td>서울</td><td>강남구</td><td>개포1동</td><td>             </td><td>565        </td><td>10</td></tr>\n",
              "</tbody>\n",
              "</table>\n"
            ]
          },
          "metadata": {
            "tags": []
          }
        }
      ]
    },
    {
      "cell_type": "code",
      "metadata": {
        "id": "UoKsJefq6vij",
        "colab_type": "code",
        "colab": {}
      },
      "source": [
        ""
      ],
      "execution_count": null,
      "outputs": []
    },
    {
      "cell_type": "code",
      "metadata": {
        "id": "PrVP6fpl6vqq",
        "colab_type": "code",
        "colab": {}
      },
      "source": [
        ""
      ],
      "execution_count": null,
      "outputs": []
    },
    {
      "cell_type": "code",
      "metadata": {
        "id": "UUI5T0h16vuy",
        "colab_type": "code",
        "colab": {}
      },
      "source": [
        ""
      ],
      "execution_count": null,
      "outputs": []
    },
    {
      "cell_type": "code",
      "metadata": {
        "id": "rIsLCk1g6vyi",
        "colab_type": "code",
        "colab": {}
      },
      "source": [
        ""
      ],
      "execution_count": null,
      "outputs": []
    }
  ]
}