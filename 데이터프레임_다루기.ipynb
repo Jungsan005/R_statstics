{
  "nbformat": 4,
  "nbformat_minor": 0,
  "metadata": {
    "colab": {
      "name": "데이터프레임 다루기.ipynb",
      "provenance": [],
      "authorship_tag": "ABX9TyPcHxHzOXBKZuotDxx+oDAr",
      "include_colab_link": true
    },
    "kernelspec": {
      "name": "ir",
      "display_name": "R"
    }
  },
  "cells": [
    {
      "cell_type": "markdown",
      "metadata": {
        "id": "view-in-github",
        "colab_type": "text"
      },
      "source": [
        "<a href=\"https://colab.research.google.com/github/Jungsan005/R_statstics/blob/master/%EB%8D%B0%EC%9D%B4%ED%84%B0%ED%94%84%EB%A0%88%EC%9E%84_%EB%8B%A4%EB%A3%A8%EA%B8%B0.ipynb\" target=\"_parent\"><img src=\"https://colab.research.google.com/assets/colab-badge.svg\" alt=\"Open In Colab\"/></a>"
      ]
    },
    {
      "cell_type": "code",
      "metadata": {
        "id": "12C9cVUBa3O2",
        "colab_type": "code",
        "colab": {}
      },
      "source": [
        "# 매니저 평점 분석\n",
        "Manager <- c(\"1\",\"2\",\"3\",\"4\",\"5\")\n",
        "Date <- c(\"2014-10-24\", \"2014-10-28\", \"2014-10-01\", \"2014-10/12\",\"2014-05-01\")\n",
        "Country <- c(\"US\",\"US\", \"UK\",  \"UK\", \"UK\")\n",
        "Gender <- c(\"M\",\"F\",\"F\",\"M\",\"F\")\n",
        "Age <- c(32,45,25,39,99)\n",
        "q1 <- c(5,3,3,3,2)\n",
        "q2 <- c(4,5,5,3,2)\n",
        "q3 <- c(5,2,5,4,1)\n",
        "q4 <- c(5,5,5,NA,2)\n",
        "q5 <- c(5,5,2,NA,1)\n",
        "\n",
        "\n",
        "managers <- data.frame(Manager,Date, Country, Gender, Age, q1, q2, q3, q4, q5)"
      ],
      "execution_count": 20,
      "outputs": []
    },
    {
      "cell_type": "code",
      "metadata": {
        "id": "3kqZNQIhedDP",
        "colab_type": "code",
        "colab": {
          "base_uri": "https://localhost:8080/",
          "height": 183
        },
        "outputId": "4f99585e-ae3a-4765-8709-db1624fc4b0f"
      },
      "source": [
        "managers"
      ],
      "execution_count": 59,
      "outputs": [
        {
          "output_type": "display_data",
          "data": {
            "text/plain": [
              "  Manager Date       Country Gender Age q1 q2 q3 q4 q5 ages\n",
              "1 1       2014-10-24 US      M      32  5  4  5   5  5 중년\n",
              "2 2       2014-10-28 US      F      45  3  5  2   5  5 중년\n",
              "3 3       2014-10-01 UK      F      25  3  5  5   5  2 청년\n",
              "4 4       2014-10/12 UK      M      39  3  3  4  NA NA 중년\n",
              "5 5       2014-05-01 UK      F      99  2  2  1   2  1 노년"
            ],
            "text/latex": "A data.frame: 5 × 11\n\\begin{tabular}{lllllllllll}\n Manager & Date & Country & Gender & Age & q1 & q2 & q3 & q4 & q5 & ages\\\\\n <fct> & <fct> & <fct> & <fct> & <dbl> & <dbl> & <dbl> & <dbl> & <dbl> & <dbl> & <chr>\\\\\n\\hline\n\t 1 & 2014-10-24 & US & M & 32 & 5 & 4 & 5 &  5 &  5 & 중년\\\\\n\t 2 & 2014-10-28 & US & F & 45 & 3 & 5 & 2 &  5 &  5 & 중년\\\\\n\t 3 & 2014-10-01 & UK & F & 25 & 3 & 5 & 5 &  5 &  2 & 청년\\\\\n\t 4 & 2014-10/12 & UK & M & 39 & 3 & 3 & 4 & NA & NA & 중년\\\\\n\t 5 & 2014-05-01 & UK & F & 99 & 2 & 2 & 1 &  2 &  1 & 노년\\\\\n\\end{tabular}\n",
            "text/markdown": "\nA data.frame: 5 × 11\n\n| Manager &lt;fct&gt; | Date &lt;fct&gt; | Country &lt;fct&gt; | Gender &lt;fct&gt; | Age &lt;dbl&gt; | q1 &lt;dbl&gt; | q2 &lt;dbl&gt; | q3 &lt;dbl&gt; | q4 &lt;dbl&gt; | q5 &lt;dbl&gt; | ages &lt;chr&gt; |\n|---|---|---|---|---|---|---|---|---|---|---|\n| 1 | 2014-10-24 | US | M | 32 | 5 | 4 | 5 |  5 |  5 | 중년 |\n| 2 | 2014-10-28 | US | F | 45 | 3 | 5 | 2 |  5 |  5 | 중년 |\n| 3 | 2014-10-01 | UK | F | 25 | 3 | 5 | 5 |  5 |  2 | 청년 |\n| 4 | 2014-10/12 | UK | M | 39 | 3 | 3 | 4 | NA | NA | 중년 |\n| 5 | 2014-05-01 | UK | F | 99 | 2 | 2 | 1 |  2 |  1 | 노년 |\n\n",
            "text/html": [
              "<table>\n",
              "<caption>A data.frame: 5 × 11</caption>\n",
              "<thead>\n",
              "\t<tr><th scope=col>Manager</th><th scope=col>Date</th><th scope=col>Country</th><th scope=col>Gender</th><th scope=col>Age</th><th scope=col>q1</th><th scope=col>q2</th><th scope=col>q3</th><th scope=col>q4</th><th scope=col>q5</th><th scope=col>ages</th></tr>\n",
              "\t<tr><th scope=col>&lt;fct&gt;</th><th scope=col>&lt;fct&gt;</th><th scope=col>&lt;fct&gt;</th><th scope=col>&lt;fct&gt;</th><th scope=col>&lt;dbl&gt;</th><th scope=col>&lt;dbl&gt;</th><th scope=col>&lt;dbl&gt;</th><th scope=col>&lt;dbl&gt;</th><th scope=col>&lt;dbl&gt;</th><th scope=col>&lt;dbl&gt;</th><th scope=col>&lt;chr&gt;</th></tr>\n",
              "</thead>\n",
              "<tbody>\n",
              "\t<tr><td>1</td><td>2014-10-24</td><td>US</td><td>M</td><td>32</td><td>5</td><td>4</td><td>5</td><td> 5</td><td> 5</td><td>중년</td></tr>\n",
              "\t<tr><td>2</td><td>2014-10-28</td><td>US</td><td>F</td><td>45</td><td>3</td><td>5</td><td>2</td><td> 5</td><td> 5</td><td>중년</td></tr>\n",
              "\t<tr><td>3</td><td>2014-10-01</td><td>UK</td><td>F</td><td>25</td><td>3</td><td>5</td><td>5</td><td> 5</td><td> 2</td><td>청년</td></tr>\n",
              "\t<tr><td>4</td><td>2014-10/12</td><td>UK</td><td>M</td><td>39</td><td>3</td><td>3</td><td>4</td><td>NA</td><td>NA</td><td>중년</td></tr>\n",
              "\t<tr><td>5</td><td>2014-05-01</td><td>UK</td><td>F</td><td>99</td><td>2</td><td>2</td><td>1</td><td> 2</td><td> 1</td><td>노년</td></tr>\n",
              "</tbody>\n",
              "</table>\n"
            ]
          },
          "metadata": {
            "tags": []
          }
        }
      ]
    },
    {
      "cell_type": "code",
      "metadata": {
        "id": "XjdDnlujbmCZ",
        "colab_type": "code",
        "colab": {
          "base_uri": "https://localhost:8080/",
          "height": 533
        },
        "outputId": "b90666e7-902e-46ca-ca43-74e211d5cce0"
      },
      "source": [
        "# 나이라는 컬럼을 기준으로 age3s라는 새로운 컬러 생성\n",
        "\n",
        "# age: 연속형 => ages: 범주형\n",
        "# 나이 20 ~ 30: 청년\n",
        "# 나이 31 ~ 45: 중년\n",
        "# 나이 46 ~ 65: 장년\n",
        "# 나이 66 ~   : 노년\n",
        "\n",
        "# managers$새로운 컬럼 명 <- 값\n",
        "# 데이터프레임에 존재하지 않는 컴럼을 명시하면 그 이름으로 새롭게 추가됨\n",
        "\n",
        "managers$ages <- c(0,0,0,0,0) # 나이대 컬럼\n",
        "\n",
        "# 데이터프레임 요소 접근하기\n",
        "# 2차원배영릐 일종이므로 배열요소 접근방식 사용\n",
        "# 데이터프레임[행, 열]\n",
        "\n",
        "managers[1,1] # 매니저 번호 중 1번 출력\n",
        "managers[1,'Country'] # 1번 매니저 국적\n",
        "managers[1,c('Country','Gender')] \n",
        "managers[1,c(3,4)] \n",
        "managers[c(2,4), c(3,4)]\n",
        "managers[3,1:10]\n",
        "managers[3,]\n",
        "managers[,5]"
      ],
      "execution_count": 16,
      "outputs": [
        {
          "output_type": "display_data",
          "data": {
            "text/plain": [
              "[1] 1\n",
              "Levels: 1 2 3 4 5"
            ],
            "text/latex": "1\n\\emph{Levels}: \\begin{enumerate*}\n\\item '1'\n\\item '2'\n\\item '3'\n\\item '4'\n\\item '5'\n\\end{enumerate*}\n",
            "text/markdown": "1\n**Levels**: 1. '1'\n2. '2'\n3. '3'\n4. '4'\n5. '5'\n\n\n",
            "text/html": [
              "1\n",
              "<details>\n",
              "\t<summary style=display:list-item;cursor:pointer>\n",
              "\t\t<strong>Levels</strong>:\n",
              "\t</summary>\n",
              "\t<style>\n",
              "\t.list-inline {list-style: none; margin:0; padding: 0}\n",
              "\t.list-inline>li {display: inline-block}\n",
              "\t.list-inline>li:not(:last-child)::after {content: \"\\00b7\"; padding: 0 .5ex}\n",
              "\t</style>\n",
              "\t<ol class=list-inline><li>'1'</li><li>'2'</li><li>'3'</li><li>'4'</li><li>'5'</li></ol>\n",
              "</details>"
            ]
          },
          "metadata": {
            "tags": []
          }
        },
        {
          "output_type": "display_data",
          "data": {
            "text/plain": [
              "[1] US\n",
              "Levels: UK US"
            ],
            "text/latex": "US\n\\emph{Levels}: \\begin{enumerate*}\n\\item 'UK'\n\\item 'US'\n\\end{enumerate*}\n",
            "text/markdown": "US\n**Levels**: 1. 'UK'\n2. 'US'\n\n\n",
            "text/html": [
              "US\n",
              "<details>\n",
              "\t<summary style=display:list-item;cursor:pointer>\n",
              "\t\t<strong>Levels</strong>:\n",
              "\t</summary>\n",
              "\t<style>\n",
              "\t.list-inline {list-style: none; margin:0; padding: 0}\n",
              "\t.list-inline>li {display: inline-block}\n",
              "\t.list-inline>li:not(:last-child)::after {content: \"\\00b7\"; padding: 0 .5ex}\n",
              "\t</style>\n",
              "\t<ol class=list-inline><li>'UK'</li><li>'US'</li></ol>\n",
              "</details>"
            ]
          },
          "metadata": {
            "tags": []
          }
        },
        {
          "output_type": "display_data",
          "data": {
            "text/plain": [
              "  Country Gender\n",
              "1 US      M     "
            ],
            "text/latex": "A data.frame: 1 × 2\n\\begin{tabular}{r|ll}\n  & Country & Gender\\\\\n  & <fct> & <fct>\\\\\n\\hline\n\t1 & US & M\\\\\n\\end{tabular}\n",
            "text/markdown": "\nA data.frame: 1 × 2\n\n| <!--/--> | Country &lt;fct&gt; | Gender &lt;fct&gt; |\n|---|---|---|\n| 1 | US | M |\n\n",
            "text/html": [
              "<table>\n",
              "<caption>A data.frame: 1 × 2</caption>\n",
              "<thead>\n",
              "\t<tr><th></th><th scope=col>Country</th><th scope=col>Gender</th></tr>\n",
              "\t<tr><th></th><th scope=col>&lt;fct&gt;</th><th scope=col>&lt;fct&gt;</th></tr>\n",
              "</thead>\n",
              "<tbody>\n",
              "\t<tr><th scope=row>1</th><td>US</td><td>M</td></tr>\n",
              "</tbody>\n",
              "</table>\n"
            ]
          },
          "metadata": {
            "tags": []
          }
        },
        {
          "output_type": "display_data",
          "data": {
            "text/plain": [
              "  Country Gender\n",
              "1 US      M     "
            ],
            "text/latex": "A data.frame: 1 × 2\n\\begin{tabular}{r|ll}\n  & Country & Gender\\\\\n  & <fct> & <fct>\\\\\n\\hline\n\t1 & US & M\\\\\n\\end{tabular}\n",
            "text/markdown": "\nA data.frame: 1 × 2\n\n| <!--/--> | Country &lt;fct&gt; | Gender &lt;fct&gt; |\n|---|---|---|\n| 1 | US | M |\n\n",
            "text/html": [
              "<table>\n",
              "<caption>A data.frame: 1 × 2</caption>\n",
              "<thead>\n",
              "\t<tr><th></th><th scope=col>Country</th><th scope=col>Gender</th></tr>\n",
              "\t<tr><th></th><th scope=col>&lt;fct&gt;</th><th scope=col>&lt;fct&gt;</th></tr>\n",
              "</thead>\n",
              "<tbody>\n",
              "\t<tr><th scope=row>1</th><td>US</td><td>M</td></tr>\n",
              "</tbody>\n",
              "</table>\n"
            ]
          },
          "metadata": {
            "tags": []
          }
        },
        {
          "output_type": "display_data",
          "data": {
            "text/plain": [
              "  Country Gender\n",
              "2 US      F     \n",
              "4 UK      M     "
            ],
            "text/latex": "A data.frame: 2 × 2\n\\begin{tabular}{r|ll}\n  & Country & Gender\\\\\n  & <fct> & <fct>\\\\\n\\hline\n\t2 & US & F\\\\\n\t4 & UK & M\\\\\n\\end{tabular}\n",
            "text/markdown": "\nA data.frame: 2 × 2\n\n| <!--/--> | Country &lt;fct&gt; | Gender &lt;fct&gt; |\n|---|---|---|\n| 2 | US | F |\n| 4 | UK | M |\n\n",
            "text/html": [
              "<table>\n",
              "<caption>A data.frame: 2 × 2</caption>\n",
              "<thead>\n",
              "\t<tr><th></th><th scope=col>Country</th><th scope=col>Gender</th></tr>\n",
              "\t<tr><th></th><th scope=col>&lt;fct&gt;</th><th scope=col>&lt;fct&gt;</th></tr>\n",
              "</thead>\n",
              "<tbody>\n",
              "\t<tr><th scope=row>2</th><td>US</td><td>F</td></tr>\n",
              "\t<tr><th scope=row>4</th><td>UK</td><td>M</td></tr>\n",
              "</tbody>\n",
              "</table>\n"
            ]
          },
          "metadata": {
            "tags": []
          }
        },
        {
          "output_type": "display_data",
          "data": {
            "text/plain": [
              "  Manager Date       Country Gender Age q1 q2 q3 q4 q5\n",
              "3 3       2014-10-01 UK      F      25  3  5  5  5  2 "
            ],
            "text/latex": "A data.frame: 1 × 10\n\\begin{tabular}{r|llllllllll}\n  & Manager & Date & Country & Gender & Age & q1 & q2 & q3 & q4 & q5\\\\\n  & <fct> & <fct> & <fct> & <fct> & <dbl> & <dbl> & <dbl> & <dbl> & <dbl> & <dbl>\\\\\n\\hline\n\t3 & 3 & 2014-10-01 & UK & F & 25 & 3 & 5 & 5 & 5 & 2\\\\\n\\end{tabular}\n",
            "text/markdown": "\nA data.frame: 1 × 10\n\n| <!--/--> | Manager &lt;fct&gt; | Date &lt;fct&gt; | Country &lt;fct&gt; | Gender &lt;fct&gt; | Age &lt;dbl&gt; | q1 &lt;dbl&gt; | q2 &lt;dbl&gt; | q3 &lt;dbl&gt; | q4 &lt;dbl&gt; | q5 &lt;dbl&gt; |\n|---|---|---|---|---|---|---|---|---|---|---|\n| 3 | 3 | 2014-10-01 | UK | F | 25 | 3 | 5 | 5 | 5 | 2 |\n\n",
            "text/html": [
              "<table>\n",
              "<caption>A data.frame: 1 × 10</caption>\n",
              "<thead>\n",
              "\t<tr><th></th><th scope=col>Manager</th><th scope=col>Date</th><th scope=col>Country</th><th scope=col>Gender</th><th scope=col>Age</th><th scope=col>q1</th><th scope=col>q2</th><th scope=col>q3</th><th scope=col>q4</th><th scope=col>q5</th></tr>\n",
              "\t<tr><th></th><th scope=col>&lt;fct&gt;</th><th scope=col>&lt;fct&gt;</th><th scope=col>&lt;fct&gt;</th><th scope=col>&lt;fct&gt;</th><th scope=col>&lt;dbl&gt;</th><th scope=col>&lt;dbl&gt;</th><th scope=col>&lt;dbl&gt;</th><th scope=col>&lt;dbl&gt;</th><th scope=col>&lt;dbl&gt;</th><th scope=col>&lt;dbl&gt;</th></tr>\n",
              "</thead>\n",
              "<tbody>\n",
              "\t<tr><th scope=row>3</th><td>3</td><td>2014-10-01</td><td>UK</td><td>F</td><td>25</td><td>3</td><td>5</td><td>5</td><td>5</td><td>2</td></tr>\n",
              "</tbody>\n",
              "</table>\n"
            ]
          },
          "metadata": {
            "tags": []
          }
        },
        {
          "output_type": "display_data",
          "data": {
            "text/plain": [
              "  Manager Date       Country Gender Age q1 q2 q3 q4 q5 ages\n",
              "3 3       2014-10-01 UK      F      25  3  5  5  5  2  0   "
            ],
            "text/latex": "A data.frame: 1 × 11\n\\begin{tabular}{r|lllllllllll}\n  & Manager & Date & Country & Gender & Age & q1 & q2 & q3 & q4 & q5 & ages\\\\\n  & <fct> & <fct> & <fct> & <fct> & <dbl> & <dbl> & <dbl> & <dbl> & <dbl> & <dbl> & <dbl>\\\\\n\\hline\n\t3 & 3 & 2014-10-01 & UK & F & 25 & 3 & 5 & 5 & 5 & 2 & 0\\\\\n\\end{tabular}\n",
            "text/markdown": "\nA data.frame: 1 × 11\n\n| <!--/--> | Manager &lt;fct&gt; | Date &lt;fct&gt; | Country &lt;fct&gt; | Gender &lt;fct&gt; | Age &lt;dbl&gt; | q1 &lt;dbl&gt; | q2 &lt;dbl&gt; | q3 &lt;dbl&gt; | q4 &lt;dbl&gt; | q5 &lt;dbl&gt; | ages &lt;dbl&gt; |\n|---|---|---|---|---|---|---|---|---|---|---|---|\n| 3 | 3 | 2014-10-01 | UK | F | 25 | 3 | 5 | 5 | 5 | 2 | 0 |\n\n",
            "text/html": [
              "<table>\n",
              "<caption>A data.frame: 1 × 11</caption>\n",
              "<thead>\n",
              "\t<tr><th></th><th scope=col>Manager</th><th scope=col>Date</th><th scope=col>Country</th><th scope=col>Gender</th><th scope=col>Age</th><th scope=col>q1</th><th scope=col>q2</th><th scope=col>q3</th><th scope=col>q4</th><th scope=col>q5</th><th scope=col>ages</th></tr>\n",
              "\t<tr><th></th><th scope=col>&lt;fct&gt;</th><th scope=col>&lt;fct&gt;</th><th scope=col>&lt;fct&gt;</th><th scope=col>&lt;fct&gt;</th><th scope=col>&lt;dbl&gt;</th><th scope=col>&lt;dbl&gt;</th><th scope=col>&lt;dbl&gt;</th><th scope=col>&lt;dbl&gt;</th><th scope=col>&lt;dbl&gt;</th><th scope=col>&lt;dbl&gt;</th><th scope=col>&lt;dbl&gt;</th></tr>\n",
              "</thead>\n",
              "<tbody>\n",
              "\t<tr><th scope=row>3</th><td>3</td><td>2014-10-01</td><td>UK</td><td>F</td><td>25</td><td>3</td><td>5</td><td>5</td><td>5</td><td>2</td><td>0</td></tr>\n",
              "</tbody>\n",
              "</table>\n"
            ]
          },
          "metadata": {
            "tags": []
          }
        },
        {
          "output_type": "display_data",
          "data": {
            "text/plain": [
              "[1] 32 45 25 39 99"
            ],
            "text/latex": "\\begin{enumerate*}\n\\item 32\n\\item 45\n\\item 25\n\\item 39\n\\item 99\n\\end{enumerate*}\n",
            "text/markdown": "1. 32\n2. 45\n3. 25\n4. 39\n5. 99\n\n\n",
            "text/html": [
              "<style>\n",
              ".list-inline {list-style: none; margin:0; padding: 0}\n",
              ".list-inline>li {display: inline-block}\n",
              ".list-inline>li:not(:last-child)::after {content: \"\\00b7\"; padding: 0 .5ex}\n",
              "</style>\n",
              "<ol class=list-inline><li>32</li><li>45</li><li>25</li><li>39</li><li>99</li></ol>\n"
            ]
          },
          "metadata": {
            "tags": []
          }
        }
      ]
    },
    {
      "cell_type": "code",
      "metadata": {
        "id": "fZ_uVQ8Qftmt",
        "colab_type": "code",
        "colab": {
          "base_uri": "https://localhost:8080/",
          "height": 137
        },
        "outputId": "1105ce8a-4d3b-4e0a-a96e-7e7b02376c84"
      },
      "source": [
        "# 불리언(boolean) 인덱싱\n",
        "# 특정 조건을 만족하는 데이터를 찾을 수 있음\n",
        "# 데이터프레임[조건식]\n",
        "\n",
        "managers$Gender == \"M\"\n",
        "\n",
        "managers[managers$Gender==\"M\",]"
      ],
      "execution_count": 25,
      "outputs": [
        {
          "output_type": "display_data",
          "data": {
            "text/plain": [
              "[1]  TRUE FALSE FALSE  TRUE FALSE"
            ],
            "text/latex": "\\begin{enumerate*}\n\\item TRUE\n\\item FALSE\n\\item FALSE\n\\item TRUE\n\\item FALSE\n\\end{enumerate*}\n",
            "text/markdown": "1. TRUE\n2. FALSE\n3. FALSE\n4. TRUE\n5. FALSE\n\n\n",
            "text/html": [
              "<style>\n",
              ".list-inline {list-style: none; margin:0; padding: 0}\n",
              ".list-inline>li {display: inline-block}\n",
              ".list-inline>li:not(:last-child)::after {content: \"\\00b7\"; padding: 0 .5ex}\n",
              "</style>\n",
              "<ol class=list-inline><li>TRUE</li><li>FALSE</li><li>FALSE</li><li>TRUE</li><li>FALSE</li></ol>\n"
            ]
          },
          "metadata": {
            "tags": []
          }
        },
        {
          "output_type": "display_data",
          "data": {
            "text/plain": [
              "  Manager Date       Country Gender Age q1 q2 q3 q4 q5\n",
              "1 1       2014-10-24 US      M      32  5  4  5   5  5\n",
              "4 4       2014-10/12 UK      M      39  3  3  4  NA NA"
            ],
            "text/latex": "A data.frame: 2 × 10\n\\begin{tabular}{r|llllllllll}\n  & Manager & Date & Country & Gender & Age & q1 & q2 & q3 & q4 & q5\\\\\n  & <fct> & <fct> & <fct> & <fct> & <dbl> & <dbl> & <dbl> & <dbl> & <dbl> & <dbl>\\\\\n\\hline\n\t1 & 1 & 2014-10-24 & US & M & 32 & 5 & 4 & 5 &  5 &  5\\\\\n\t4 & 4 & 2014-10/12 & UK & M & 39 & 3 & 3 & 4 & NA & NA\\\\\n\\end{tabular}\n",
            "text/markdown": "\nA data.frame: 2 × 10\n\n| <!--/--> | Manager &lt;fct&gt; | Date &lt;fct&gt; | Country &lt;fct&gt; | Gender &lt;fct&gt; | Age &lt;dbl&gt; | q1 &lt;dbl&gt; | q2 &lt;dbl&gt; | q3 &lt;dbl&gt; | q4 &lt;dbl&gt; | q5 &lt;dbl&gt; |\n|---|---|---|---|---|---|---|---|---|---|---|\n| 1 | 1 | 2014-10-24 | US | M | 32 | 5 | 4 | 5 |  5 |  5 |\n| 4 | 4 | 2014-10/12 | UK | M | 39 | 3 | 3 | 4 | NA | NA |\n\n",
            "text/html": [
              "<table>\n",
              "<caption>A data.frame: 2 × 10</caption>\n",
              "<thead>\n",
              "\t<tr><th></th><th scope=col>Manager</th><th scope=col>Date</th><th scope=col>Country</th><th scope=col>Gender</th><th scope=col>Age</th><th scope=col>q1</th><th scope=col>q2</th><th scope=col>q3</th><th scope=col>q4</th><th scope=col>q5</th></tr>\n",
              "\t<tr><th></th><th scope=col>&lt;fct&gt;</th><th scope=col>&lt;fct&gt;</th><th scope=col>&lt;fct&gt;</th><th scope=col>&lt;fct&gt;</th><th scope=col>&lt;dbl&gt;</th><th scope=col>&lt;dbl&gt;</th><th scope=col>&lt;dbl&gt;</th><th scope=col>&lt;dbl&gt;</th><th scope=col>&lt;dbl&gt;</th><th scope=col>&lt;dbl&gt;</th></tr>\n",
              "</thead>\n",
              "<tbody>\n",
              "\t<tr><th scope=row>1</th><td>1</td><td>2014-10-24</td><td>US</td><td>M</td><td>32</td><td>5</td><td>4</td><td>5</td><td> 5</td><td> 5</td></tr>\n",
              "\t<tr><th scope=row>4</th><td>4</td><td>2014-10/12</td><td>UK</td><td>M</td><td>39</td><td>3</td><td>3</td><td>4</td><td>NA</td><td>NA</td></tr>\n",
              "</tbody>\n",
              "</table>\n"
            ]
          },
          "metadata": {
            "tags": []
          }
        }
      ]
    },
    {
      "cell_type": "code",
      "metadata": {
        "id": "yFJokip5hme6",
        "colab_type": "code",
        "colab": {
          "base_uri": "https://localhost:8080/",
          "height": 120
        },
        "outputId": "eccbf3d2-f21c-4c54-eccd-2f24842ef9aa"
      },
      "source": [
        "managers[managers$Age > 40,]"
      ],
      "execution_count": 36,
      "outputs": [
        {
          "output_type": "display_data",
          "data": {
            "text/plain": [
              "  Manager Date       Country Gender Age q1 q2 q3 q4 q5\n",
              "2 2       2014-10-28 US      F      45  3  5  2  5  5 \n",
              "5 5       2014-05-01 UK      F      99  2  2  1  2  1 "
            ],
            "text/latex": "A data.frame: 2 × 10\n\\begin{tabular}{r|llllllllll}\n  & Manager & Date & Country & Gender & Age & q1 & q2 & q3 & q4 & q5\\\\\n  & <fct> & <fct> & <fct> & <fct> & <dbl> & <dbl> & <dbl> & <dbl> & <dbl> & <dbl>\\\\\n\\hline\n\t2 & 2 & 2014-10-28 & US & F & 45 & 3 & 5 & 2 & 5 & 5\\\\\n\t5 & 5 & 2014-05-01 & UK & F & 99 & 2 & 2 & 1 & 2 & 1\\\\\n\\end{tabular}\n",
            "text/markdown": "\nA data.frame: 2 × 10\n\n| <!--/--> | Manager &lt;fct&gt; | Date &lt;fct&gt; | Country &lt;fct&gt; | Gender &lt;fct&gt; | Age &lt;dbl&gt; | q1 &lt;dbl&gt; | q2 &lt;dbl&gt; | q3 &lt;dbl&gt; | q4 &lt;dbl&gt; | q5 &lt;dbl&gt; |\n|---|---|---|---|---|---|---|---|---|---|---|\n| 2 | 2 | 2014-10-28 | US | F | 45 | 3 | 5 | 2 | 5 | 5 |\n| 5 | 5 | 2014-05-01 | UK | F | 99 | 2 | 2 | 1 | 2 | 1 |\n\n",
            "text/html": [
              "<table>\n",
              "<caption>A data.frame: 2 × 10</caption>\n",
              "<thead>\n",
              "\t<tr><th></th><th scope=col>Manager</th><th scope=col>Date</th><th scope=col>Country</th><th scope=col>Gender</th><th scope=col>Age</th><th scope=col>q1</th><th scope=col>q2</th><th scope=col>q3</th><th scope=col>q4</th><th scope=col>q5</th></tr>\n",
              "\t<tr><th></th><th scope=col>&lt;fct&gt;</th><th scope=col>&lt;fct&gt;</th><th scope=col>&lt;fct&gt;</th><th scope=col>&lt;fct&gt;</th><th scope=col>&lt;dbl&gt;</th><th scope=col>&lt;dbl&gt;</th><th scope=col>&lt;dbl&gt;</th><th scope=col>&lt;dbl&gt;</th><th scope=col>&lt;dbl&gt;</th><th scope=col>&lt;dbl&gt;</th></tr>\n",
              "</thead>\n",
              "<tbody>\n",
              "\t<tr><th scope=row>2</th><td>2</td><td>2014-10-28</td><td>US</td><td>F</td><td>45</td><td>3</td><td>5</td><td>2</td><td>5</td><td>5</td></tr>\n",
              "\t<tr><th scope=row>5</th><td>5</td><td>2014-05-01</td><td>UK</td><td>F</td><td>99</td><td>2</td><td>2</td><td>1</td><td>2</td><td>1</td></tr>\n",
              "</tbody>\n",
              "</table>\n"
            ]
          },
          "metadata": {
            "tags": []
          }
        }
      ]
    },
    {
      "cell_type": "code",
      "metadata": {
        "id": "hi-5R0Aag8pB",
        "colab_type": "code",
        "colab": {
          "base_uri": "https://localhost:8080/",
          "height": 51
        },
        "outputId": "0d67532b-6037-4fa1-a04e-615a79e01141"
      },
      "source": [
        "managers[managers$Age < 30 & managers$Gender == 'F', 'Country']"
      ],
      "execution_count": 44,
      "outputs": [
        {
          "output_type": "display_data",
          "data": {
            "text/plain": [
              "[1] UK\n",
              "Levels: UK US"
            ],
            "text/latex": "UK\n\\emph{Levels}: \\begin{enumerate*}\n\\item 'UK'\n\\item 'US'\n\\end{enumerate*}\n",
            "text/markdown": "UK\n**Levels**: 1. 'UK'\n2. 'US'\n\n\n",
            "text/html": [
              "UK\n",
              "<details>\n",
              "\t<summary style=display:list-item;cursor:pointer>\n",
              "\t\t<strong>Levels</strong>:\n",
              "\t</summary>\n",
              "\t<style>\n",
              "\t.list-inline {list-style: none; margin:0; padding: 0}\n",
              "\t.list-inline>li {display: inline-block}\n",
              "\t.list-inline>li:not(:last-child)::after {content: \"\\00b7\"; padding: 0 .5ex}\n",
              "\t</style>\n",
              "\t<ol class=list-inline><li>'UK'</li><li>'US'</li></ol>\n",
              "</details>"
            ]
          },
          "metadata": {
            "tags": []
          }
        }
      ]
    },
    {
      "cell_type": "code",
      "metadata": {
        "id": "f5hupaIbij6J",
        "colab_type": "code",
        "colab": {
          "base_uri": "https://localhost:8080/",
          "height": 51
        },
        "outputId": "41671878-9bff-44d0-f771-c403301c39ad"
      },
      "source": [
        "cnd <- managers$Age < 30 & managers$Gender == 'F'\n",
        "managers[cnd, 'Country']"
      ],
      "execution_count": 41,
      "outputs": [
        {
          "output_type": "display_data",
          "data": {
            "text/plain": [
              "[1] UK\n",
              "Levels: UK US"
            ],
            "text/latex": "UK\n\\emph{Levels}: \\begin{enumerate*}\n\\item 'UK'\n\\item 'US'\n\\end{enumerate*}\n",
            "text/markdown": "UK\n**Levels**: 1. 'UK'\n2. 'US'\n\n\n",
            "text/html": [
              "UK\n",
              "<details>\n",
              "\t<summary style=display:list-item;cursor:pointer>\n",
              "\t\t<strong>Levels</strong>:\n",
              "\t</summary>\n",
              "\t<style>\n",
              "\t.list-inline {list-style: none; margin:0; padding: 0}\n",
              "\t.list-inline>li {display: inline-block}\n",
              "\t.list-inline>li:not(:last-child)::after {content: \"\\00b7\"; padding: 0 .5ex}\n",
              "\t</style>\n",
              "\t<ol class=list-inline><li>'UK'</li><li>'US'</li></ol>\n",
              "</details>"
            ]
          },
          "metadata": {
            "tags": []
          }
        }
      ]
    },
    {
      "cell_type": "code",
      "metadata": {
        "id": "0M-lhuwbmuPN",
        "colab_type": "code",
        "colab": {}
      },
      "source": [
        "# 청년\n",
        "cnd <- managers$Age > 20 & managers$Age <= 30\n",
        "managers$ages[cnd] <- '청년'"
      ],
      "execution_count": 55,
      "outputs": []
    },
    {
      "cell_type": "code",
      "metadata": {
        "id": "d3CsKfdTnQwe",
        "colab_type": "code",
        "colab": {}
      },
      "source": [
        "# 중년\n",
        "cnd <- managers$Age > 31 & managers$Age <= 45\n",
        "managers$ages[cnd] <- '중년'"
      ],
      "execution_count": 56,
      "outputs": []
    },
    {
      "cell_type": "code",
      "metadata": {
        "id": "04Ysv4pNnfKd",
        "colab_type": "code",
        "colab": {}
      },
      "source": [
        "# 장년\n",
        "cnd <- managers$Age > 46 & managers$Age <= 65\n",
        "managers$ages[cnd] <- '장년'"
      ],
      "execution_count": 57,
      "outputs": []
    },
    {
      "cell_type": "code",
      "metadata": {
        "id": "PloJ2hlcnnOt",
        "colab_type": "code",
        "colab": {}
      },
      "source": [
        "# 노년\n",
        "cnd <- managers$Age > 66\n",
        "managers$ages[cnd] <- '노년'"
      ],
      "execution_count": 58,
      "outputs": []
    },
    {
      "cell_type": "code",
      "metadata": {
        "id": "p--RMbKIbmer",
        "colab_type": "code",
        "colab": {
          "base_uri": "https://localhost:8080/",
          "height": 183
        },
        "outputId": "f39eb196-fbbb-4dde-c54f-5cffb3e736de"
      },
      "source": [
        "managers"
      ],
      "execution_count": 71,
      "outputs": [
        {
          "output_type": "display_data",
          "data": {
            "text/plain": [
              "  Manager Date       Country Gender Age q1 q2 q3 q4 q5 ages \n",
              "1 1       2014-10-24 US      M      32  5  4  5   5  5 중년 \n",
              "2 2       2014-10-28 US      F      45  3  5  2   5  5 중년 \n",
              "3 3       2014-10-01 UK      F      25  3  5  5   5  2 청년 \n",
              "4 4       2014-10/12 UK      M      39  3  3  4  NA NA 중년 \n",
              "5 5       2014-05-01 UK      F      99  2  2  1   2  1 노년b"
            ],
            "text/latex": "A data.frame: 5 × 11\n\\begin{tabular}{lllllllllll}\n Manager & Date & Country & Gender & Age & q1 & q2 & q3 & q4 & q5 & ages\\\\\n <fct> & <fct> & <fct> & <fct> & <dbl> & <dbl> & <dbl> & <dbl> & <dbl> & <dbl> & <chr>\\\\\n\\hline\n\t 1 & 2014-10-24 & US & M & 32 & 5 & 4 & 5 &  5 &  5 & 중년 \\\\\n\t 2 & 2014-10-28 & US & F & 45 & 3 & 5 & 2 &  5 &  5 & 중년 \\\\\n\t 3 & 2014-10-01 & UK & F & 25 & 3 & 5 & 5 &  5 &  2 & 청년 \\\\\n\t 4 & 2014-10/12 & UK & M & 39 & 3 & 3 & 4 & NA & NA & 중년 \\\\\n\t 5 & 2014-05-01 & UK & F & 99 & 2 & 2 & 1 &  2 &  1 & 노년b\\\\\n\\end{tabular}\n",
            "text/markdown": "\nA data.frame: 5 × 11\n\n| Manager &lt;fct&gt; | Date &lt;fct&gt; | Country &lt;fct&gt; | Gender &lt;fct&gt; | Age &lt;dbl&gt; | q1 &lt;dbl&gt; | q2 &lt;dbl&gt; | q3 &lt;dbl&gt; | q4 &lt;dbl&gt; | q5 &lt;dbl&gt; | ages &lt;chr&gt; |\n|---|---|---|---|---|---|---|---|---|---|---|\n| 1 | 2014-10-24 | US | M | 32 | 5 | 4 | 5 |  5 |  5 | 중년  |\n| 2 | 2014-10-28 | US | F | 45 | 3 | 5 | 2 |  5 |  5 | 중년  |\n| 3 | 2014-10-01 | UK | F | 25 | 3 | 5 | 5 |  5 |  2 | 청년  |\n| 4 | 2014-10/12 | UK | M | 39 | 3 | 3 | 4 | NA | NA | 중년  |\n| 5 | 2014-05-01 | UK | F | 99 | 2 | 2 | 1 |  2 |  1 | 노년b |\n\n",
            "text/html": [
              "<table>\n",
              "<caption>A data.frame: 5 × 11</caption>\n",
              "<thead>\n",
              "\t<tr><th scope=col>Manager</th><th scope=col>Date</th><th scope=col>Country</th><th scope=col>Gender</th><th scope=col>Age</th><th scope=col>q1</th><th scope=col>q2</th><th scope=col>q3</th><th scope=col>q4</th><th scope=col>q5</th><th scope=col>ages</th></tr>\n",
              "\t<tr><th scope=col>&lt;fct&gt;</th><th scope=col>&lt;fct&gt;</th><th scope=col>&lt;fct&gt;</th><th scope=col>&lt;fct&gt;</th><th scope=col>&lt;dbl&gt;</th><th scope=col>&lt;dbl&gt;</th><th scope=col>&lt;dbl&gt;</th><th scope=col>&lt;dbl&gt;</th><th scope=col>&lt;dbl&gt;</th><th scope=col>&lt;dbl&gt;</th><th scope=col>&lt;chr&gt;</th></tr>\n",
              "</thead>\n",
              "<tbody>\n",
              "\t<tr><td>1</td><td>2014-10-24</td><td>US</td><td>M</td><td>32</td><td>5</td><td>4</td><td>5</td><td> 5</td><td> 5</td><td>중년 </td></tr>\n",
              "\t<tr><td>2</td><td>2014-10-28</td><td>US</td><td>F</td><td>45</td><td>3</td><td>5</td><td>2</td><td> 5</td><td> 5</td><td>중년 </td></tr>\n",
              "\t<tr><td>3</td><td>2014-10-01</td><td>UK</td><td>F</td><td>25</td><td>3</td><td>5</td><td>5</td><td> 5</td><td> 2</td><td>청년 </td></tr>\n",
              "\t<tr><td>4</td><td>2014-10/12</td><td>UK</td><td>M</td><td>39</td><td>3</td><td>3</td><td>4</td><td>NA</td><td>NA</td><td>중년 </td></tr>\n",
              "\t<tr><td>5</td><td>2014-05-01</td><td>UK</td><td>F</td><td>99</td><td>2</td><td>2</td><td>1</td><td> 2</td><td> 1</td><td>노년b</td></tr>\n",
              "</tbody>\n",
              "</table>\n"
            ]
          },
          "metadata": {
            "tags": []
          }
        }
      ]
    },
    {
      "cell_type": "code",
      "metadata": {
        "id": "IRqCwu15bmtj",
        "colab_type": "code",
        "colab": {}
      },
      "source": [
        "# 조건식이 둘 이상인 경우 쓸데없이 코드가 길어지고\n",
        "# 가독성도 떨어짐 -> attach, with, within"
      ],
      "execution_count": null,
      "outputs": []
    },
    {
      "cell_type": "code",
      "metadata": {
        "id": "KqLlAD4Ubm3j",
        "colab_type": "code",
        "colab": {
          "base_uri": "https://localhost:8080/",
          "height": 183
        },
        "outputId": "aaa4b3e5-eaf6-4463-bbec-abb2537c7eec"
      },
      "source": [
        "with(managers, ages[Age > 66] <- '노년a')\n",
        "# 특정컬럼 수정 불가\n",
        "managers"
      ],
      "execution_count": 68,
      "outputs": [
        {
          "output_type": "display_data",
          "data": {
            "text/plain": [
              "  Manager Date       Country Gender Age q1 q2 q3 q4 q5 ages\n",
              "1 1       2014-10-24 US      M      32  5  4  5   5  5 중년\n",
              "2 2       2014-10-28 US      F      45  3  5  2   5  5 중년\n",
              "3 3       2014-10-01 UK      F      25  3  5  5   5  2 청년\n",
              "4 4       2014-10/12 UK      M      39  3  3  4  NA NA 중년\n",
              "5 5       2014-05-01 UK      F      99  2  2  1   2  1 노년"
            ],
            "text/latex": "A data.frame: 5 × 11\n\\begin{tabular}{lllllllllll}\n Manager & Date & Country & Gender & Age & q1 & q2 & q3 & q4 & q5 & ages\\\\\n <fct> & <fct> & <fct> & <fct> & <dbl> & <dbl> & <dbl> & <dbl> & <dbl> & <dbl> & <chr>\\\\\n\\hline\n\t 1 & 2014-10-24 & US & M & 32 & 5 & 4 & 5 &  5 &  5 & 중년\\\\\n\t 2 & 2014-10-28 & US & F & 45 & 3 & 5 & 2 &  5 &  5 & 중년\\\\\n\t 3 & 2014-10-01 & UK & F & 25 & 3 & 5 & 5 &  5 &  2 & 청년\\\\\n\t 4 & 2014-10/12 & UK & M & 39 & 3 & 3 & 4 & NA & NA & 중년\\\\\n\t 5 & 2014-05-01 & UK & F & 99 & 2 & 2 & 1 &  2 &  1 & 노년\\\\\n\\end{tabular}\n",
            "text/markdown": "\nA data.frame: 5 × 11\n\n| Manager &lt;fct&gt; | Date &lt;fct&gt; | Country &lt;fct&gt; | Gender &lt;fct&gt; | Age &lt;dbl&gt; | q1 &lt;dbl&gt; | q2 &lt;dbl&gt; | q3 &lt;dbl&gt; | q4 &lt;dbl&gt; | q5 &lt;dbl&gt; | ages &lt;chr&gt; |\n|---|---|---|---|---|---|---|---|---|---|---|\n| 1 | 2014-10-24 | US | M | 32 | 5 | 4 | 5 |  5 |  5 | 중년 |\n| 2 | 2014-10-28 | US | F | 45 | 3 | 5 | 2 |  5 |  5 | 중년 |\n| 3 | 2014-10-01 | UK | F | 25 | 3 | 5 | 5 |  5 |  2 | 청년 |\n| 4 | 2014-10/12 | UK | M | 39 | 3 | 3 | 4 | NA | NA | 중년 |\n| 5 | 2014-05-01 | UK | F | 99 | 2 | 2 | 1 |  2 |  1 | 노년 |\n\n",
            "text/html": [
              "<table>\n",
              "<caption>A data.frame: 5 × 11</caption>\n",
              "<thead>\n",
              "\t<tr><th scope=col>Manager</th><th scope=col>Date</th><th scope=col>Country</th><th scope=col>Gender</th><th scope=col>Age</th><th scope=col>q1</th><th scope=col>q2</th><th scope=col>q3</th><th scope=col>q4</th><th scope=col>q5</th><th scope=col>ages</th></tr>\n",
              "\t<tr><th scope=col>&lt;fct&gt;</th><th scope=col>&lt;fct&gt;</th><th scope=col>&lt;fct&gt;</th><th scope=col>&lt;fct&gt;</th><th scope=col>&lt;dbl&gt;</th><th scope=col>&lt;dbl&gt;</th><th scope=col>&lt;dbl&gt;</th><th scope=col>&lt;dbl&gt;</th><th scope=col>&lt;dbl&gt;</th><th scope=col>&lt;dbl&gt;</th><th scope=col>&lt;chr&gt;</th></tr>\n",
              "</thead>\n",
              "<tbody>\n",
              "\t<tr><td>1</td><td>2014-10-24</td><td>US</td><td>M</td><td>32</td><td>5</td><td>4</td><td>5</td><td> 5</td><td> 5</td><td>중년</td></tr>\n",
              "\t<tr><td>2</td><td>2014-10-28</td><td>US</td><td>F</td><td>45</td><td>3</td><td>5</td><td>2</td><td> 5</td><td> 5</td><td>중년</td></tr>\n",
              "\t<tr><td>3</td><td>2014-10-01</td><td>UK</td><td>F</td><td>25</td><td>3</td><td>5</td><td>5</td><td> 5</td><td> 2</td><td>청년</td></tr>\n",
              "\t<tr><td>4</td><td>2014-10/12</td><td>UK</td><td>M</td><td>39</td><td>3</td><td>3</td><td>4</td><td>NA</td><td>NA</td><td>중년</td></tr>\n",
              "\t<tr><td>5</td><td>2014-05-01</td><td>UK</td><td>F</td><td>99</td><td>2</td><td>2</td><td>1</td><td> 2</td><td> 1</td><td>노년</td></tr>\n",
              "</tbody>\n",
              "</table>\n"
            ]
          },
          "metadata": {
            "tags": []
          }
        }
      ]
    },
    {
      "cell_type": "code",
      "metadata": {
        "id": "_tCHdxcXbm-E",
        "colab_type": "code",
        "colab": {
          "base_uri": "https://localhost:8080/",
          "height": 183
        },
        "outputId": "791a4723-207a-46ab-e1eb-ef3c60509a65"
      },
      "source": [
        "managers <- within(managers, ages[Age > 66] <- '노년b')\n",
        "managers\n",
        "# 수정결과를 반영하려면 within 함수 결과를 \n",
        "# 데이터프레임 변수에 저장해야 함"
      ],
      "execution_count": 72,
      "outputs": [
        {
          "output_type": "display_data",
          "data": {
            "text/plain": [
              "  Manager Date       Country Gender Age q1 q2 q3 q4 q5 ages \n",
              "1 1       2014-10-24 US      M      32  5  4  5   5  5 중년 \n",
              "2 2       2014-10-28 US      F      45  3  5  2   5  5 중년 \n",
              "3 3       2014-10-01 UK      F      25  3  5  5   5  2 청년 \n",
              "4 4       2014-10/12 UK      M      39  3  3  4  NA NA 중년 \n",
              "5 5       2014-05-01 UK      F      99  2  2  1   2  1 노년b"
            ],
            "text/latex": "A data.frame: 5 × 11\n\\begin{tabular}{lllllllllll}\n Manager & Date & Country & Gender & Age & q1 & q2 & q3 & q4 & q5 & ages\\\\\n <fct> & <fct> & <fct> & <fct> & <dbl> & <dbl> & <dbl> & <dbl> & <dbl> & <dbl> & <chr>\\\\\n\\hline\n\t 1 & 2014-10-24 & US & M & 32 & 5 & 4 & 5 &  5 &  5 & 중년 \\\\\n\t 2 & 2014-10-28 & US & F & 45 & 3 & 5 & 2 &  5 &  5 & 중년 \\\\\n\t 3 & 2014-10-01 & UK & F & 25 & 3 & 5 & 5 &  5 &  2 & 청년 \\\\\n\t 4 & 2014-10/12 & UK & M & 39 & 3 & 3 & 4 & NA & NA & 중년 \\\\\n\t 5 & 2014-05-01 & UK & F & 99 & 2 & 2 & 1 &  2 &  1 & 노년b\\\\\n\\end{tabular}\n",
            "text/markdown": "\nA data.frame: 5 × 11\n\n| Manager &lt;fct&gt; | Date &lt;fct&gt; | Country &lt;fct&gt; | Gender &lt;fct&gt; | Age &lt;dbl&gt; | q1 &lt;dbl&gt; | q2 &lt;dbl&gt; | q3 &lt;dbl&gt; | q4 &lt;dbl&gt; | q5 &lt;dbl&gt; | ages &lt;chr&gt; |\n|---|---|---|---|---|---|---|---|---|---|---|\n| 1 | 2014-10-24 | US | M | 32 | 5 | 4 | 5 |  5 |  5 | 중년  |\n| 2 | 2014-10-28 | US | F | 45 | 3 | 5 | 2 |  5 |  5 | 중년  |\n| 3 | 2014-10-01 | UK | F | 25 | 3 | 5 | 5 |  5 |  2 | 청년  |\n| 4 | 2014-10/12 | UK | M | 39 | 3 | 3 | 4 | NA | NA | 중년  |\n| 5 | 2014-05-01 | UK | F | 99 | 2 | 2 | 1 |  2 |  1 | 노년b |\n\n",
            "text/html": [
              "<table>\n",
              "<caption>A data.frame: 5 × 11</caption>\n",
              "<thead>\n",
              "\t<tr><th scope=col>Manager</th><th scope=col>Date</th><th scope=col>Country</th><th scope=col>Gender</th><th scope=col>Age</th><th scope=col>q1</th><th scope=col>q2</th><th scope=col>q3</th><th scope=col>q4</th><th scope=col>q5</th><th scope=col>ages</th></tr>\n",
              "\t<tr><th scope=col>&lt;fct&gt;</th><th scope=col>&lt;fct&gt;</th><th scope=col>&lt;fct&gt;</th><th scope=col>&lt;fct&gt;</th><th scope=col>&lt;dbl&gt;</th><th scope=col>&lt;dbl&gt;</th><th scope=col>&lt;dbl&gt;</th><th scope=col>&lt;dbl&gt;</th><th scope=col>&lt;dbl&gt;</th><th scope=col>&lt;dbl&gt;</th><th scope=col>&lt;chr&gt;</th></tr>\n",
              "</thead>\n",
              "<tbody>\n",
              "\t<tr><td>1</td><td>2014-10-24</td><td>US</td><td>M</td><td>32</td><td>5</td><td>4</td><td>5</td><td> 5</td><td> 5</td><td>중년 </td></tr>\n",
              "\t<tr><td>2</td><td>2014-10-28</td><td>US</td><td>F</td><td>45</td><td>3</td><td>5</td><td>2</td><td> 5</td><td> 5</td><td>중년 </td></tr>\n",
              "\t<tr><td>3</td><td>2014-10-01</td><td>UK</td><td>F</td><td>25</td><td>3</td><td>5</td><td>5</td><td> 5</td><td> 2</td><td>청년 </td></tr>\n",
              "\t<tr><td>4</td><td>2014-10/12</td><td>UK</td><td>M</td><td>39</td><td>3</td><td>3</td><td>4</td><td>NA</td><td>NA</td><td>중년 </td></tr>\n",
              "\t<tr><td>5</td><td>2014-05-01</td><td>UK</td><td>F</td><td>99</td><td>2</td><td>2</td><td>1</td><td> 2</td><td> 1</td><td>노년b</td></tr>\n",
              "</tbody>\n",
              "</table>\n"
            ]
          },
          "metadata": {
            "tags": []
          }
        }
      ]
    },
    {
      "cell_type": "code",
      "metadata": {
        "id": "oB3FRzNqqIDj",
        "colab_type": "code",
        "colab": {}
      },
      "source": [
        "# within 함수를 이용해서 ages2컬럼에 \n",
        "# 나이별 범주값 저장하는 코드 재작성\n",
        "managers$ages2 <- c(0,0,0,0,0) # 나이대 컬럼"
      ],
      "execution_count": 73,
      "outputs": []
    },
    {
      "cell_type": "code",
      "metadata": {
        "id": "Qaew9LgwpDNz",
        "colab_type": "code",
        "colab": {
          "base_uri": "https://localhost:8080/",
          "height": 183
        },
        "outputId": "c8ed5ae4-b862-44f1-c464-5fe773cae62e"
      },
      "source": [
        "within(managers,{\n",
        "       ages2[Age <= 30] <- '청년b'\n",
        "       ages2[Age >= 31] <- '중년b'\n",
        "       ages2[Age >= 46] <- '장년b'\n",
        "       ages2[Age >= 66] <- '노년b'\n",
        "})"
      ],
      "execution_count": 79,
      "outputs": [
        {
          "output_type": "display_data",
          "data": {
            "text/plain": [
              "  Manager Date       Country Gender Age q1 q2 q3 q4 q5 ages  ages2\n",
              "1 1       2014-10-24 US      M      32  5  4  5   5  5 중년  중년b\n",
              "2 2       2014-10-28 US      F      45  3  5  2   5  5 중년  중년b\n",
              "3 3       2014-10-01 UK      F      25  3  5  5   5  2 청년  청년b\n",
              "4 4       2014-10/12 UK      M      39  3  3  4  NA NA 중년  중년b\n",
              "5 5       2014-05-01 UK      F      99  2  2  1   2  1 노년b 노년b"
            ],
            "text/latex": "A data.frame: 5 × 12\n\\begin{tabular}{llllllllllll}\n Manager & Date & Country & Gender & Age & q1 & q2 & q3 & q4 & q5 & ages & ages2\\\\\n <fct> & <fct> & <fct> & <fct> & <dbl> & <dbl> & <dbl> & <dbl> & <dbl> & <dbl> & <chr> & <chr>\\\\\n\\hline\n\t 1 & 2014-10-24 & US & M & 32 & 5 & 4 & 5 &  5 &  5 & 중년  & 중년b\\\\\n\t 2 & 2014-10-28 & US & F & 45 & 3 & 5 & 2 &  5 &  5 & 중년  & 중년b\\\\\n\t 3 & 2014-10-01 & UK & F & 25 & 3 & 5 & 5 &  5 &  2 & 청년  & 청년b\\\\\n\t 4 & 2014-10/12 & UK & M & 39 & 3 & 3 & 4 & NA & NA & 중년  & 중년b\\\\\n\t 5 & 2014-05-01 & UK & F & 99 & 2 & 2 & 1 &  2 &  1 & 노년b & 노년b\\\\\n\\end{tabular}\n",
            "text/markdown": "\nA data.frame: 5 × 12\n\n| Manager &lt;fct&gt; | Date &lt;fct&gt; | Country &lt;fct&gt; | Gender &lt;fct&gt; | Age &lt;dbl&gt; | q1 &lt;dbl&gt; | q2 &lt;dbl&gt; | q3 &lt;dbl&gt; | q4 &lt;dbl&gt; | q5 &lt;dbl&gt; | ages &lt;chr&gt; | ages2 &lt;chr&gt; |\n|---|---|---|---|---|---|---|---|---|---|---|---|\n| 1 | 2014-10-24 | US | M | 32 | 5 | 4 | 5 |  5 |  5 | 중년  | 중년b |\n| 2 | 2014-10-28 | US | F | 45 | 3 | 5 | 2 |  5 |  5 | 중년  | 중년b |\n| 3 | 2014-10-01 | UK | F | 25 | 3 | 5 | 5 |  5 |  2 | 청년  | 청년b |\n| 4 | 2014-10/12 | UK | M | 39 | 3 | 3 | 4 | NA | NA | 중년  | 중년b |\n| 5 | 2014-05-01 | UK | F | 99 | 2 | 2 | 1 |  2 |  1 | 노년b | 노년b |\n\n",
            "text/html": [
              "<table>\n",
              "<caption>A data.frame: 5 × 12</caption>\n",
              "<thead>\n",
              "\t<tr><th scope=col>Manager</th><th scope=col>Date</th><th scope=col>Country</th><th scope=col>Gender</th><th scope=col>Age</th><th scope=col>q1</th><th scope=col>q2</th><th scope=col>q3</th><th scope=col>q4</th><th scope=col>q5</th><th scope=col>ages</th><th scope=col>ages2</th></tr>\n",
              "\t<tr><th scope=col>&lt;fct&gt;</th><th scope=col>&lt;fct&gt;</th><th scope=col>&lt;fct&gt;</th><th scope=col>&lt;fct&gt;</th><th scope=col>&lt;dbl&gt;</th><th scope=col>&lt;dbl&gt;</th><th scope=col>&lt;dbl&gt;</th><th scope=col>&lt;dbl&gt;</th><th scope=col>&lt;dbl&gt;</th><th scope=col>&lt;dbl&gt;</th><th scope=col>&lt;chr&gt;</th><th scope=col>&lt;chr&gt;</th></tr>\n",
              "</thead>\n",
              "<tbody>\n",
              "\t<tr><td>1</td><td>2014-10-24</td><td>US</td><td>M</td><td>32</td><td>5</td><td>4</td><td>5</td><td> 5</td><td> 5</td><td>중년 </td><td>중년b</td></tr>\n",
              "\t<tr><td>2</td><td>2014-10-28</td><td>US</td><td>F</td><td>45</td><td>3</td><td>5</td><td>2</td><td> 5</td><td> 5</td><td>중년 </td><td>중년b</td></tr>\n",
              "\t<tr><td>3</td><td>2014-10-01</td><td>UK</td><td>F</td><td>25</td><td>3</td><td>5</td><td>5</td><td> 5</td><td> 2</td><td>청년 </td><td>청년b</td></tr>\n",
              "\t<tr><td>4</td><td>2014-10/12</td><td>UK</td><td>M</td><td>39</td><td>3</td><td>3</td><td>4</td><td>NA</td><td>NA</td><td>중년 </td><td>중년b</td></tr>\n",
              "\t<tr><td>5</td><td>2014-05-01</td><td>UK</td><td>F</td><td>99</td><td>2</td><td>2</td><td>1</td><td> 2</td><td> 1</td><td>노년b</td><td>노년b</td></tr>\n",
              "</tbody>\n",
              "</table>\n"
            ]
          },
          "metadata": {
            "tags": []
          }
        }
      ]
    },
    {
      "cell_type": "code",
      "metadata": {
        "id": "6-tH42oOpD5t",
        "colab_type": "code",
        "colab": {}
      },
      "source": [
        "managers <- within(managers,{\n",
        "       ages2[Age > 20 & Age <= 30] <- '청년a'\n",
        "       ages2[Age > 31 & Age <= 45] <- '중년a'\n",
        "       ages2[Age > 46 & Age <= 65] <- '장년a'\n",
        "       ages2[Age > 66] <- '노년a'\n",
        "})"
      ],
      "execution_count": 82,
      "outputs": []
    },
    {
      "cell_type": "code",
      "metadata": {
        "id": "pSp-GxawpEFt",
        "colab_type": "code",
        "colab": {
          "base_uri": "https://localhost:8080/",
          "height": 183
        },
        "outputId": "41695ced-2af4-48be-dcfc-68f1291caffb"
      },
      "source": [
        "managers"
      ],
      "execution_count": 83,
      "outputs": [
        {
          "output_type": "display_data",
          "data": {
            "text/plain": [
              "  Manager Date       Country Gender Age q1 q2 q3 q4 q5 ages  ages2\n",
              "1 1       2014-10-24 US      M      32  5  4  5   5  5 중년  중년a\n",
              "2 2       2014-10-28 US      F      45  3  5  2   5  5 중년  중년a\n",
              "3 3       2014-10-01 UK      F      25  3  5  5   5  2 청년  청년a\n",
              "4 4       2014-10/12 UK      M      39  3  3  4  NA NA 중년  중년a\n",
              "5 5       2014-05-01 UK      F      99  2  2  1   2  1 노년b 노년a"
            ],
            "text/latex": "A data.frame: 5 × 12\n\\begin{tabular}{llllllllllll}\n Manager & Date & Country & Gender & Age & q1 & q2 & q3 & q4 & q5 & ages & ages2\\\\\n <fct> & <fct> & <fct> & <fct> & <dbl> & <dbl> & <dbl> & <dbl> & <dbl> & <dbl> & <chr> & <chr>\\\\\n\\hline\n\t 1 & 2014-10-24 & US & M & 32 & 5 & 4 & 5 &  5 &  5 & 중년  & 중년a\\\\\n\t 2 & 2014-10-28 & US & F & 45 & 3 & 5 & 2 &  5 &  5 & 중년  & 중년a\\\\\n\t 3 & 2014-10-01 & UK & F & 25 & 3 & 5 & 5 &  5 &  2 & 청년  & 청년a\\\\\n\t 4 & 2014-10/12 & UK & M & 39 & 3 & 3 & 4 & NA & NA & 중년  & 중년a\\\\\n\t 5 & 2014-05-01 & UK & F & 99 & 2 & 2 & 1 &  2 &  1 & 노년b & 노년a\\\\\n\\end{tabular}\n",
            "text/markdown": "\nA data.frame: 5 × 12\n\n| Manager &lt;fct&gt; | Date &lt;fct&gt; | Country &lt;fct&gt; | Gender &lt;fct&gt; | Age &lt;dbl&gt; | q1 &lt;dbl&gt; | q2 &lt;dbl&gt; | q3 &lt;dbl&gt; | q4 &lt;dbl&gt; | q5 &lt;dbl&gt; | ages &lt;chr&gt; | ages2 &lt;chr&gt; |\n|---|---|---|---|---|---|---|---|---|---|---|---|\n| 1 | 2014-10-24 | US | M | 32 | 5 | 4 | 5 |  5 |  5 | 중년  | 중년a |\n| 2 | 2014-10-28 | US | F | 45 | 3 | 5 | 2 |  5 |  5 | 중년  | 중년a |\n| 3 | 2014-10-01 | UK | F | 25 | 3 | 5 | 5 |  5 |  2 | 청년  | 청년a |\n| 4 | 2014-10/12 | UK | M | 39 | 3 | 3 | 4 | NA | NA | 중년  | 중년a |\n| 5 | 2014-05-01 | UK | F | 99 | 2 | 2 | 1 |  2 |  1 | 노년b | 노년a |\n\n",
            "text/html": [
              "<table>\n",
              "<caption>A data.frame: 5 × 12</caption>\n",
              "<thead>\n",
              "\t<tr><th scope=col>Manager</th><th scope=col>Date</th><th scope=col>Country</th><th scope=col>Gender</th><th scope=col>Age</th><th scope=col>q1</th><th scope=col>q2</th><th scope=col>q3</th><th scope=col>q4</th><th scope=col>q5</th><th scope=col>ages</th><th scope=col>ages2</th></tr>\n",
              "\t<tr><th scope=col>&lt;fct&gt;</th><th scope=col>&lt;fct&gt;</th><th scope=col>&lt;fct&gt;</th><th scope=col>&lt;fct&gt;</th><th scope=col>&lt;dbl&gt;</th><th scope=col>&lt;dbl&gt;</th><th scope=col>&lt;dbl&gt;</th><th scope=col>&lt;dbl&gt;</th><th scope=col>&lt;dbl&gt;</th><th scope=col>&lt;dbl&gt;</th><th scope=col>&lt;chr&gt;</th><th scope=col>&lt;chr&gt;</th></tr>\n",
              "</thead>\n",
              "<tbody>\n",
              "\t<tr><td>1</td><td>2014-10-24</td><td>US</td><td>M</td><td>32</td><td>5</td><td>4</td><td>5</td><td> 5</td><td> 5</td><td>중년 </td><td>중년a</td></tr>\n",
              "\t<tr><td>2</td><td>2014-10-28</td><td>US</td><td>F</td><td>45</td><td>3</td><td>5</td><td>2</td><td> 5</td><td> 5</td><td>중년 </td><td>중년a</td></tr>\n",
              "\t<tr><td>3</td><td>2014-10-01</td><td>UK</td><td>F</td><td>25</td><td>3</td><td>5</td><td>5</td><td> 5</td><td> 2</td><td>청년 </td><td>청년a</td></tr>\n",
              "\t<tr><td>4</td><td>2014-10/12</td><td>UK</td><td>M</td><td>39</td><td>3</td><td>3</td><td>4</td><td>NA</td><td>NA</td><td>중년 </td><td>중년a</td></tr>\n",
              "\t<tr><td>5</td><td>2014-05-01</td><td>UK</td><td>F</td><td>99</td><td>2</td><td>2</td><td>1</td><td> 2</td><td> 1</td><td>노년b</td><td>노년a</td></tr>\n",
              "</tbody>\n",
              "</table>\n"
            ]
          },
          "metadata": {
            "tags": []
          }
        }
      ]
    },
    {
      "cell_type": "code",
      "metadata": {
        "id": "pq5oILXUrDVr",
        "colab_type": "code",
        "colab": {}
      },
      "source": [
        "# 설문문항 컬럼의 총합과 평균을 구해서\n",
        "# sumq, meanq라는 컬럼 생성\n",
        "# 단, NA는 0으로 대체함!\n",
        "managers[4,9] <- 0\n",
        "managers[4,10] <- 0"
      ],
      "execution_count": 100,
      "outputs": []
    },
    {
      "cell_type": "code",
      "metadata": {
        "id": "mECWKa3ltJaC",
        "colab_type": "code",
        "colab": {}
      },
      "source": [
        "managers$sumq <- c(0,0,0,0,0) # 총합\n",
        "managers$meanq <- c(0,0,0,0,0) # 평균"
      ],
      "execution_count": 97,
      "outputs": []
    },
    {
      "cell_type": "code",
      "metadata": {
        "id": "x3BLcuPdtKqi",
        "colab_type": "code",
        "colab": {
          "base_uri": "https://localhost:8080/",
          "height": 183
        },
        "outputId": "87b627a8-e753-4c08-b728-63d36876d3f9"
      },
      "source": [
        "managers"
      ],
      "execution_count": 98,
      "outputs": [
        {
          "output_type": "display_data",
          "data": {
            "text/plain": [
              "  Manager Date       Country Gender Age q1 q2 q3 q4 q5 ages  ages2 sumq meanq\n",
              "1 1       2014-10-24 US      M      32  5  4  5   5  5 중년  중년a 0    0    \n",
              "2 2       2014-10-28 US      F      45  3  5  2   5  5 중년  중년a 0    0    \n",
              "3 3       2014-10-01 UK      F      25  3  5  5   5  2 청년  청년a 0    0    \n",
              "4 4       2014-10/12 UK      M      39  3  3  4  NA NA 중년  중년a 0    0    \n",
              "5 5       2014-05-01 UK      F      99  2  2  1   2  1 노년b 노년a 0    0    "
            ],
            "text/latex": "A data.frame: 5 × 14\n\\begin{tabular}{llllllllllllll}\n Manager & Date & Country & Gender & Age & q1 & q2 & q3 & q4 & q5 & ages & ages2 & sumq & meanq\\\\\n <fct> & <fct> & <fct> & <fct> & <dbl> & <dbl> & <dbl> & <dbl> & <dbl> & <dbl> & <chr> & <chr> & <dbl> & <dbl>\\\\\n\\hline\n\t 1 & 2014-10-24 & US & M & 32 & 5 & 4 & 5 &  5 &  5 & 중년  & 중년a & 0 & 0\\\\\n\t 2 & 2014-10-28 & US & F & 45 & 3 & 5 & 2 &  5 &  5 & 중년  & 중년a & 0 & 0\\\\\n\t 3 & 2014-10-01 & UK & F & 25 & 3 & 5 & 5 &  5 &  2 & 청년  & 청년a & 0 & 0\\\\\n\t 4 & 2014-10/12 & UK & M & 39 & 3 & 3 & 4 & NA & NA & 중년  & 중년a & 0 & 0\\\\\n\t 5 & 2014-05-01 & UK & F & 99 & 2 & 2 & 1 &  2 &  1 & 노년b & 노년a & 0 & 0\\\\\n\\end{tabular}\n",
            "text/markdown": "\nA data.frame: 5 × 14\n\n| Manager &lt;fct&gt; | Date &lt;fct&gt; | Country &lt;fct&gt; | Gender &lt;fct&gt; | Age &lt;dbl&gt; | q1 &lt;dbl&gt; | q2 &lt;dbl&gt; | q3 &lt;dbl&gt; | q4 &lt;dbl&gt; | q5 &lt;dbl&gt; | ages &lt;chr&gt; | ages2 &lt;chr&gt; | sumq &lt;dbl&gt; | meanq &lt;dbl&gt; |\n|---|---|---|---|---|---|---|---|---|---|---|---|---|---|\n| 1 | 2014-10-24 | US | M | 32 | 5 | 4 | 5 |  5 |  5 | 중년  | 중년a | 0 | 0 |\n| 2 | 2014-10-28 | US | F | 45 | 3 | 5 | 2 |  5 |  5 | 중년  | 중년a | 0 | 0 |\n| 3 | 2014-10-01 | UK | F | 25 | 3 | 5 | 5 |  5 |  2 | 청년  | 청년a | 0 | 0 |\n| 4 | 2014-10/12 | UK | M | 39 | 3 | 3 | 4 | NA | NA | 중년  | 중년a | 0 | 0 |\n| 5 | 2014-05-01 | UK | F | 99 | 2 | 2 | 1 |  2 |  1 | 노년b | 노년a | 0 | 0 |\n\n",
            "text/html": [
              "<table>\n",
              "<caption>A data.frame: 5 × 14</caption>\n",
              "<thead>\n",
              "\t<tr><th scope=col>Manager</th><th scope=col>Date</th><th scope=col>Country</th><th scope=col>Gender</th><th scope=col>Age</th><th scope=col>q1</th><th scope=col>q2</th><th scope=col>q3</th><th scope=col>q4</th><th scope=col>q5</th><th scope=col>ages</th><th scope=col>ages2</th><th scope=col>sumq</th><th scope=col>meanq</th></tr>\n",
              "\t<tr><th scope=col>&lt;fct&gt;</th><th scope=col>&lt;fct&gt;</th><th scope=col>&lt;fct&gt;</th><th scope=col>&lt;fct&gt;</th><th scope=col>&lt;dbl&gt;</th><th scope=col>&lt;dbl&gt;</th><th scope=col>&lt;dbl&gt;</th><th scope=col>&lt;dbl&gt;</th><th scope=col>&lt;dbl&gt;</th><th scope=col>&lt;dbl&gt;</th><th scope=col>&lt;chr&gt;</th><th scope=col>&lt;chr&gt;</th><th scope=col>&lt;dbl&gt;</th><th scope=col>&lt;dbl&gt;</th></tr>\n",
              "</thead>\n",
              "<tbody>\n",
              "\t<tr><td>1</td><td>2014-10-24</td><td>US</td><td>M</td><td>32</td><td>5</td><td>4</td><td>5</td><td> 5</td><td> 5</td><td>중년 </td><td>중년a</td><td>0</td><td>0</td></tr>\n",
              "\t<tr><td>2</td><td>2014-10-28</td><td>US</td><td>F</td><td>45</td><td>3</td><td>5</td><td>2</td><td> 5</td><td> 5</td><td>중년 </td><td>중년a</td><td>0</td><td>0</td></tr>\n",
              "\t<tr><td>3</td><td>2014-10-01</td><td>UK</td><td>F</td><td>25</td><td>3</td><td>5</td><td>5</td><td> 5</td><td> 2</td><td>청년 </td><td>청년a</td><td>0</td><td>0</td></tr>\n",
              "\t<tr><td>4</td><td>2014-10/12</td><td>UK</td><td>M</td><td>39</td><td>3</td><td>3</td><td>4</td><td>NA</td><td>NA</td><td>중년 </td><td>중년a</td><td>0</td><td>0</td></tr>\n",
              "\t<tr><td>5</td><td>2014-05-01</td><td>UK</td><td>F</td><td>99</td><td>2</td><td>2</td><td>1</td><td> 2</td><td> 1</td><td>노년b</td><td>노년a</td><td>0</td><td>0</td></tr>\n",
              "</tbody>\n",
              "</table>\n"
            ]
          },
          "metadata": {
            "tags": []
          }
        }
      ]
    },
    {
      "cell_type": "code",
      "metadata": {
        "id": "f7_rKq4TtK4S",
        "colab_type": "code",
        "colab": {}
      },
      "source": [
        "managers$sumq <- managers$q1+managers$q2+managers$q3+managers$q4+managers$q5"
      ],
      "execution_count": 93,
      "outputs": []
    },
    {
      "cell_type": "code",
      "metadata": {
        "id": "rwQnHaI0wQh4",
        "colab_type": "code",
        "colab": {}
      },
      "source": [
        "managers$meanq <- managers$sumq /5"
      ],
      "execution_count": 95,
      "outputs": []
    },
    {
      "cell_type": "code",
      "metadata": {
        "id": "CGU6pHkzwQxx",
        "colab_type": "code",
        "colab": {
          "base_uri": "https://localhost:8080/",
          "height": 183
        },
        "outputId": "468a121f-35b3-4292-a092-7c34cdd2ab14"
      },
      "source": [
        "managers <- within(managers,{\n",
        "       sumq <- q1+q2+q3+q4+q5\n",
        "       meanq <- sumq/5\n",
        "})\n",
        "managers"
      ],
      "execution_count": 103,
      "outputs": [
        {
          "output_type": "display_data",
          "data": {
            "text/plain": [
              "  Manager Date       Country Gender Age q1 q2 q3 q4 q5 ages  ages2 sumq meanq\n",
              "1 1       2014-10-24 US      M      32  5  4  5  5  5  중년  중년a 24   4.8  \n",
              "2 2       2014-10-28 US      F      45  3  5  2  5  5  중년  중년a 20   4.0  \n",
              "3 3       2014-10-01 UK      F      25  3  5  5  5  2  청년  청년a 20   4.0  \n",
              "4 4       2014-10/12 UK      M      39  3  3  4  0  0  중년  중년a 10   2.0  \n",
              "5 5       2014-05-01 UK      F      99  2  2  1  2  1  노년b 노년a  8   1.6  "
            ],
            "text/latex": "A data.frame: 5 × 14\n\\begin{tabular}{llllllllllllll}\n Manager & Date & Country & Gender & Age & q1 & q2 & q3 & q4 & q5 & ages & ages2 & sumq & meanq\\\\\n <fct> & <fct> & <fct> & <fct> & <dbl> & <dbl> & <dbl> & <dbl> & <dbl> & <dbl> & <chr> & <chr> & <dbl> & <dbl>\\\\\n\\hline\n\t 1 & 2014-10-24 & US & M & 32 & 5 & 4 & 5 & 5 & 5 & 중년  & 중년a & 24 & 4.8\\\\\n\t 2 & 2014-10-28 & US & F & 45 & 3 & 5 & 2 & 5 & 5 & 중년  & 중년a & 20 & 4.0\\\\\n\t 3 & 2014-10-01 & UK & F & 25 & 3 & 5 & 5 & 5 & 2 & 청년  & 청년a & 20 & 4.0\\\\\n\t 4 & 2014-10/12 & UK & M & 39 & 3 & 3 & 4 & 0 & 0 & 중년  & 중년a & 10 & 2.0\\\\\n\t 5 & 2014-05-01 & UK & F & 99 & 2 & 2 & 1 & 2 & 1 & 노년b & 노년a &  8 & 1.6\\\\\n\\end{tabular}\n",
            "text/markdown": "\nA data.frame: 5 × 14\n\n| Manager &lt;fct&gt; | Date &lt;fct&gt; | Country &lt;fct&gt; | Gender &lt;fct&gt; | Age &lt;dbl&gt; | q1 &lt;dbl&gt; | q2 &lt;dbl&gt; | q3 &lt;dbl&gt; | q4 &lt;dbl&gt; | q5 &lt;dbl&gt; | ages &lt;chr&gt; | ages2 &lt;chr&gt; | sumq &lt;dbl&gt; | meanq &lt;dbl&gt; |\n|---|---|---|---|---|---|---|---|---|---|---|---|---|---|\n| 1 | 2014-10-24 | US | M | 32 | 5 | 4 | 5 | 5 | 5 | 중년  | 중년a | 24 | 4.8 |\n| 2 | 2014-10-28 | US | F | 45 | 3 | 5 | 2 | 5 | 5 | 중년  | 중년a | 20 | 4.0 |\n| 3 | 2014-10-01 | UK | F | 25 | 3 | 5 | 5 | 5 | 2 | 청년  | 청년a | 20 | 4.0 |\n| 4 | 2014-10/12 | UK | M | 39 | 3 | 3 | 4 | 0 | 0 | 중년  | 중년a | 10 | 2.0 |\n| 5 | 2014-05-01 | UK | F | 99 | 2 | 2 | 1 | 2 | 1 | 노년b | 노년a |  8 | 1.6 |\n\n",
            "text/html": [
              "<table>\n",
              "<caption>A data.frame: 5 × 14</caption>\n",
              "<thead>\n",
              "\t<tr><th scope=col>Manager</th><th scope=col>Date</th><th scope=col>Country</th><th scope=col>Gender</th><th scope=col>Age</th><th scope=col>q1</th><th scope=col>q2</th><th scope=col>q3</th><th scope=col>q4</th><th scope=col>q5</th><th scope=col>ages</th><th scope=col>ages2</th><th scope=col>sumq</th><th scope=col>meanq</th></tr>\n",
              "\t<tr><th scope=col>&lt;fct&gt;</th><th scope=col>&lt;fct&gt;</th><th scope=col>&lt;fct&gt;</th><th scope=col>&lt;fct&gt;</th><th scope=col>&lt;dbl&gt;</th><th scope=col>&lt;dbl&gt;</th><th scope=col>&lt;dbl&gt;</th><th scope=col>&lt;dbl&gt;</th><th scope=col>&lt;dbl&gt;</th><th scope=col>&lt;dbl&gt;</th><th scope=col>&lt;chr&gt;</th><th scope=col>&lt;chr&gt;</th><th scope=col>&lt;dbl&gt;</th><th scope=col>&lt;dbl&gt;</th></tr>\n",
              "</thead>\n",
              "<tbody>\n",
              "\t<tr><td>1</td><td>2014-10-24</td><td>US</td><td>M</td><td>32</td><td>5</td><td>4</td><td>5</td><td>5</td><td>5</td><td>중년 </td><td>중년a</td><td>24</td><td>4.8</td></tr>\n",
              "\t<tr><td>2</td><td>2014-10-28</td><td>US</td><td>F</td><td>45</td><td>3</td><td>5</td><td>2</td><td>5</td><td>5</td><td>중년 </td><td>중년a</td><td>20</td><td>4.0</td></tr>\n",
              "\t<tr><td>3</td><td>2014-10-01</td><td>UK</td><td>F</td><td>25</td><td>3</td><td>5</td><td>5</td><td>5</td><td>2</td><td>청년 </td><td>청년a</td><td>20</td><td>4.0</td></tr>\n",
              "\t<tr><td>4</td><td>2014-10/12</td><td>UK</td><td>M</td><td>39</td><td>3</td><td>3</td><td>4</td><td>0</td><td>0</td><td>중년 </td><td>중년a</td><td>10</td><td>2.0</td></tr>\n",
              "\t<tr><td>5</td><td>2014-05-01</td><td>UK</td><td>F</td><td>99</td><td>2</td><td>2</td><td>1</td><td>2</td><td>1</td><td>노년b</td><td>노년a</td><td> 8</td><td>1.6</td></tr>\n",
              "</tbody>\n",
              "</table>\n"
            ]
          },
          "metadata": {
            "tags": []
          }
        }
      ]
    },
    {
      "cell_type": "code",
      "metadata": {
        "id": "xfWs_OZ8wQ8J",
        "colab_type": "code",
        "colab": {}
      },
      "source": [
        ""
      ],
      "execution_count": null,
      "outputs": []
    },
    {
      "cell_type": "code",
      "metadata": {
        "id": "tGODpXedwRDg",
        "colab_type": "code",
        "colab": {}
      },
      "source": [
        ""
      ],
      "execution_count": null,
      "outputs": []
    },
    {
      "cell_type": "code",
      "metadata": {
        "id": "FmRyqcTxwRJr",
        "colab_type": "code",
        "colab": {}
      },
      "source": [
        ""
      ],
      "execution_count": null,
      "outputs": []
    },
    {
      "cell_type": "code",
      "metadata": {
        "id": "5ure_ReEwRXR",
        "colab_type": "code",
        "colab": {}
      },
      "source": [
        ""
      ],
      "execution_count": null,
      "outputs": []
    }
  ]
}