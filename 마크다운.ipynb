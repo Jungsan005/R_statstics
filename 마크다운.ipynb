{
  "nbformat": 4,
  "nbformat_minor": 0,
  "metadata": {
    "colab": {
      "name": "마크다운.ipynb",
      "provenance": [],
      "collapsed_sections": [],
      "authorship_tag": "ABX9TyMVQW1982MIW2nwRvVFqNWK",
      "include_colab_link": true
    },
    "kernelspec": {
      "name": "ir",
      "display_name": "R"
    }
  },
  "cells": [
    {
      "cell_type": "markdown",
      "metadata": {
        "id": "view-in-github",
        "colab_type": "text"
      },
      "source": [
        "<a href=\"https://colab.research.google.com/github/Jungsan005/R_statstics_01/blob/master/%EB%A7%88%ED%81%AC%EB%8B%A4%EC%9A%B4.ipynb\" target=\"_parent\"><img src=\"https://colab.research.google.com/assets/colab-badge.svg\" alt=\"Open In Colab\"/></a>"
      ]
    },
    {
      "cell_type": "markdown",
      "metadata": {
        "id": "0zDs6vKsGi_d",
        "colab_type": "text"
      },
      "source": [
        "# 마크다운 제목 작성:#\n",
        "# 제목1\n",
        "## 제목2\n",
        "### 제목3\n",
        "#### 제목4\n",
        "##### 제목5"
      ]
    },
    {
      "cell_type": "markdown",
      "metadata": {
        "id": "_rkMYuFqHYl1",
        "colab_type": "text"
      },
      "source": [
        "# 줄바꿈: 스페이스바 2번 입력 후 엔터 or /br태크\n",
        "마크다운  \n",
        "마크다운  \n",
        "\n",
        "마크다운<br>\n",
        "마크다운\n",
        "\n",
        "# 글자꾸미기: 진하게 (앞뒤로 별표)\n",
        "**진하게 보이나요**<br>\n",
        "*강조하기*<br>\n",
        "~취소선~<br>\n",
        "\n",
        "# 구분선: 하이픈 여러개\n",
        "___\n",
        "\n",
        "# 인용구: 크다 부등호\n",
        "> t시간은 금이라구, 친구!\n",
        "\n",
        "# 순서있는 목록: 숫자기호\n",
        "* 좋아하는 게임들\n",
        "1. 디아블로4\n",
        "2. 월드오브워크래프트\n",
        "3. 스타크래프트\n",
        "4. 콜오브듀티\n",
        "\n",
        "# 순서없는 목록: 기호 기호, 들여쓰기\n",
        "## 좋아하는 게임들\n",
        "* 블리자드  \n",
        " + 디아블로4\n",
        " + 스타크래프트\n",
        "* 마이크로소프트  \n",
        " + 윈도우\n",
        "* 소니\n",
        "* 액티비션\n",
        "\n",
        "# 링크: 대괄호로 링크제목, 괄호로 링크주소\n",
        "[네이버](http://naver.com)<br>\n",
        "[구글](http://google.com)\n",
        "\n",
        "# 이미지: 느낌표와 괄호\n",
        "![]()\n",
        "\n",
        "# 표 작성\n",
        "|이름|국어|영어|수학|\n",
        "|----|----|----|----|\n",
        "|수지|98|78|23|\n",
        "|지현|98|78|23|\n",
        "|혜교|98|78|23|\n",
        "\n",
        "# 수학식: 달러기호\n",
        "$\\bar{X}= {1\\over n}(x_1 +x_2)$"
      ]
    }
  ]
}