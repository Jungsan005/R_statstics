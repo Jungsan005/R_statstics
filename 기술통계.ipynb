{
  "nbformat": 4,
  "nbformat_minor": 0,
  "metadata": {
    "colab": {
      "name": "기술통계.ipynb",
      "provenance": [],
      "collapsed_sections": [],
      "authorship_tag": "ABX9TyMqz+p4ji7OWs8HfQtVIDXh",
      "include_colab_link": true
    },
    "kernelspec": {
      "name": "ir",
      "display_name": "R"
    }
  },
  "cells": [
    {
      "cell_type": "markdown",
      "metadata": {
        "id": "view-in-github",
        "colab_type": "text"
      },
      "source": [
        "<a href=\"https://colab.research.google.com/github/Jungsan005/R_statstics/blob/master/%EA%B8%B0%EC%88%A0%ED%86%B5%EA%B3%84.ipynb\" target=\"_parent\"><img src=\"https://colab.research.google.com/assets/colab-badge.svg\" alt=\"Open In Colab\"/></a>"
      ]
    },
    {
      "cell_type": "markdown",
      "metadata": {
        "id": "92MmJ-eWG0F8",
        "colab_type": "text"
      },
      "source": [
        "# 표본추출\n",
        "## 복원추출\n",
        " + 표본을 뽑은 후 다시 모집단에 넣은 후 그 다음 표본을 추출하는 방식<br>\n",
        "\n",
        "## 비복원추출\n",
        " + 표본을 뽑은 후 다시 모집단에 다시 넣지않고, 그 다음 표본을 추출하는 방식\n",
        "### R에서는 sample함수를 이용해서 표본을 추출할 수 있음<br>\n",
        " + sample(모집단, 표본수, 복원/비복원여부)\n",
        "\n",
        "sample(x=1:10, 5) - 비복원 추출<br>\n",
        "sample(x=1:10, 5, replace=F) - 비복원 추출<br>\n",
        "sample(x=1:10, 5, replace=T) - 복원 추출\n"
      ]
    },
    {
      "cell_type": "code",
      "metadata": {
        "id": "tmJ6hQBR_m3I",
        "colab_type": "code",
        "colab": {
          "base_uri": "https://localhost:8080/",
          "height": 34
        },
        "outputId": "c03c358b-311d-483e-e333-b61ab6682b7a"
      },
      "source": [
        " sample(x=1:10, 5)  #비복원 추출"
      ],
      "execution_count": null,
      "outputs": [
        {
          "output_type": "display_data",
          "data": {
            "text/plain": [
              "[1] 1 3 2 9 4"
            ],
            "text/latex": "\\begin{enumerate*}\n\\item 1\n\\item 3\n\\item 2\n\\item 9\n\\item 4\n\\end{enumerate*}\n",
            "text/markdown": "1. 1\n2. 3\n3. 2\n4. 9\n5. 4\n\n\n",
            "text/html": [
              "<style>\n",
              ".list-inline {list-style: none; margin:0; padding: 0}\n",
              ".list-inline>li {display: inline-block}\n",
              ".list-inline>li:not(:last-child)::after {content: \"\\00b7\"; padding: 0 .5ex}\n",
              "</style>\n",
              "<ol class=list-inline><li>1</li><li>3</li><li>2</li><li>9</li><li>4</li></ol>\n"
            ]
          },
          "metadata": {
            "tags": []
          }
        }
      ]
    },
    {
      "cell_type": "code",
      "metadata": {
        "id": "xG2uVzEjXLaL",
        "colab_type": "code",
        "colab": {
          "base_uri": "https://localhost:8080/",
          "height": 34
        },
        "outputId": "958d11a3-cb25-480b-fcdf-0c12e34ebf69"
      },
      "source": [
        "sample(x=1:10, 5, replace=T)  #복원 추출"
      ],
      "execution_count": null,
      "outputs": [
        {
          "output_type": "display_data",
          "data": {
            "text/plain": [
              "[1] 2 1 1 9 4"
            ],
            "text/latex": "\\begin{enumerate*}\n\\item 2\n\\item 1\n\\item 1\n\\item 9\n\\item 4\n\\end{enumerate*}\n",
            "text/markdown": "1. 2\n2. 1\n3. 1\n4. 9\n5. 4\n\n\n",
            "text/html": [
              "<style>\n",
              ".list-inline {list-style: none; margin:0; padding: 0}\n",
              ".list-inline>li {display: inline-block}\n",
              ".list-inline>li:not(:last-child)::after {content: \"\\00b7\"; padding: 0 .5ex}\n",
              "</style>\n",
              "<ol class=list-inline><li>2</li><li>1</li><li>1</li><li>9</li><li>4</li></ol>\n"
            ]
          },
          "metadata": {
            "tags": []
          }
        }
      ]
    },
    {
      "cell_type": "code",
      "metadata": {
        "id": "NiXghKYLXbzY",
        "colab_type": "code",
        "colab": {
          "base_uri": "https://localhost:8080/",
          "height": 34
        },
        "outputId": "01250080-e285-453b-ec45-68be8dea2827"
      },
      "source": [
        " sample(x=1:45, 6) # 로또 샘플링"
      ],
      "execution_count": null,
      "outputs": [
        {
          "output_type": "display_data",
          "data": {
            "text/plain": [
              "[1] 10 14  3  8 34 35"
            ],
            "text/latex": "\\begin{enumerate*}\n\\item 10\n\\item 14\n\\item 3\n\\item 8\n\\item 34\n\\item 35\n\\end{enumerate*}\n",
            "text/markdown": "1. 10\n2. 14\n3. 3\n4. 8\n5. 34\n6. 35\n\n\n",
            "text/html": [
              "<style>\n",
              ".list-inline {list-style: none; margin:0; padding: 0}\n",
              ".list-inline>li {display: inline-block}\n",
              ".list-inline>li:not(:last-child)::after {content: \"\\00b7\"; padding: 0 .5ex}\n",
              "</style>\n",
              "<ol class=list-inline><li>10</li><li>14</li><li>3</li><li>8</li><li>34</li><li>35</li></ol>\n"
            ]
          },
          "metadata": {
            "tags": []
          }
        }
      ]
    },
    {
      "cell_type": "code",
      "metadata": {
        "id": "Fb97R_xUXcTE",
        "colab_type": "code",
        "colab": {
          "base_uri": "https://localhost:8080/",
          "height": 823
        },
        "outputId": "c279e6d4-d009-442d-bb34-623db41163c8"
      },
      "source": [
        "# 데이터 요약\n",
        "summermedals <- read.csv('https://raw.githubusercontent.com/Jungsan005/R_statstics/master/datasets/summermedals.csv')\n",
        "head(summermedals)\n",
        "tail(summermedals)\n",
        "summary(summermedals)\n",
        "# 질적 자료 시각화\n",
        "# 양적자료 시각화"
      ],
      "execution_count": null,
      "outputs": [
        {
          "output_type": "display_data",
          "data": {
            "text/plain": [
              "  Year City   Sport    Discipline Athlete               Country Gender\n",
              "1 1896 Athens Aquatics Swimming   HAJOS, Alfred         HUN     Men   \n",
              "2 1896 Athens Aquatics Swimming   HERSCHMANN, Otto      AUT     Men   \n",
              "3 1896 Athens Aquatics Swimming   DRIVAS, Dimitrios     GRE     Men   \n",
              "4 1896 Athens Aquatics Swimming   MALOKINIS, Ioannis    GRE     Men   \n",
              "5 1896 Athens Aquatics Swimming   CHASAPIS, Spiridon    GRE     Men   \n",
              "6 1896 Athens Aquatics Swimming   CHOROPHAS, Efstathios GRE     Men   \n",
              "  Event                      Medal \n",
              "1 100M Freestyle             Gold  \n",
              "2 100M Freestyle             Silver\n",
              "3 100M Freestyle For Sailors Bronze\n",
              "4 100M Freestyle For Sailors Gold  \n",
              "5 100M Freestyle For Sailors Silver\n",
              "6 1200M Freestyle            Bronze"
            ],
            "text/latex": "A data.frame: 6 × 9\n\\begin{tabular}{r|lllllllll}\n  & Year & City & Sport & Discipline & Athlete & Country & Gender & Event & Medal\\\\\n  & <int> & <fct> & <fct> & <fct> & <fct> & <fct> & <fct> & <fct> & <fct>\\\\\n\\hline\n\t1 & 1896 & Athens & Aquatics & Swimming & HAJOS, Alfred         & HUN & Men & 100M Freestyle             & Gold  \\\\\n\t2 & 1896 & Athens & Aquatics & Swimming & HERSCHMANN, Otto      & AUT & Men & 100M Freestyle             & Silver\\\\\n\t3 & 1896 & Athens & Aquatics & Swimming & DRIVAS, Dimitrios     & GRE & Men & 100M Freestyle For Sailors & Bronze\\\\\n\t4 & 1896 & Athens & Aquatics & Swimming & MALOKINIS, Ioannis    & GRE & Men & 100M Freestyle For Sailors & Gold  \\\\\n\t5 & 1896 & Athens & Aquatics & Swimming & CHASAPIS, Spiridon    & GRE & Men & 100M Freestyle For Sailors & Silver\\\\\n\t6 & 1896 & Athens & Aquatics & Swimming & CHOROPHAS, Efstathios & GRE & Men & 1200M Freestyle            & Bronze\\\\\n\\end{tabular}\n",
            "text/markdown": "\nA data.frame: 6 × 9\n\n| <!--/--> | Year &lt;int&gt; | City &lt;fct&gt; | Sport &lt;fct&gt; | Discipline &lt;fct&gt; | Athlete &lt;fct&gt; | Country &lt;fct&gt; | Gender &lt;fct&gt; | Event &lt;fct&gt; | Medal &lt;fct&gt; |\n|---|---|---|---|---|---|---|---|---|---|\n| 1 | 1896 | Athens | Aquatics | Swimming | HAJOS, Alfred         | HUN | Men | 100M Freestyle             | Gold   |\n| 2 | 1896 | Athens | Aquatics | Swimming | HERSCHMANN, Otto      | AUT | Men | 100M Freestyle             | Silver |\n| 3 | 1896 | Athens | Aquatics | Swimming | DRIVAS, Dimitrios     | GRE | Men | 100M Freestyle For Sailors | Bronze |\n| 4 | 1896 | Athens | Aquatics | Swimming | MALOKINIS, Ioannis    | GRE | Men | 100M Freestyle For Sailors | Gold   |\n| 5 | 1896 | Athens | Aquatics | Swimming | CHASAPIS, Spiridon    | GRE | Men | 100M Freestyle For Sailors | Silver |\n| 6 | 1896 | Athens | Aquatics | Swimming | CHOROPHAS, Efstathios | GRE | Men | 1200M Freestyle            | Bronze |\n\n",
            "text/html": [
              "<table>\n",
              "<caption>A data.frame: 6 × 9</caption>\n",
              "<thead>\n",
              "\t<tr><th></th><th scope=col>Year</th><th scope=col>City</th><th scope=col>Sport</th><th scope=col>Discipline</th><th scope=col>Athlete</th><th scope=col>Country</th><th scope=col>Gender</th><th scope=col>Event</th><th scope=col>Medal</th></tr>\n",
              "\t<tr><th></th><th scope=col>&lt;int&gt;</th><th scope=col>&lt;fct&gt;</th><th scope=col>&lt;fct&gt;</th><th scope=col>&lt;fct&gt;</th><th scope=col>&lt;fct&gt;</th><th scope=col>&lt;fct&gt;</th><th scope=col>&lt;fct&gt;</th><th scope=col>&lt;fct&gt;</th><th scope=col>&lt;fct&gt;</th></tr>\n",
              "</thead>\n",
              "<tbody>\n",
              "\t<tr><th scope=row>1</th><td>1896</td><td>Athens</td><td>Aquatics</td><td>Swimming</td><td>HAJOS, Alfred        </td><td>HUN</td><td>Men</td><td>100M Freestyle            </td><td>Gold  </td></tr>\n",
              "\t<tr><th scope=row>2</th><td>1896</td><td>Athens</td><td>Aquatics</td><td>Swimming</td><td>HERSCHMANN, Otto     </td><td>AUT</td><td>Men</td><td>100M Freestyle            </td><td>Silver</td></tr>\n",
              "\t<tr><th scope=row>3</th><td>1896</td><td>Athens</td><td>Aquatics</td><td>Swimming</td><td>DRIVAS, Dimitrios    </td><td>GRE</td><td>Men</td><td>100M Freestyle For Sailors</td><td>Bronze</td></tr>\n",
              "\t<tr><th scope=row>4</th><td>1896</td><td>Athens</td><td>Aquatics</td><td>Swimming</td><td>MALOKINIS, Ioannis   </td><td>GRE</td><td>Men</td><td>100M Freestyle For Sailors</td><td>Gold  </td></tr>\n",
              "\t<tr><th scope=row>5</th><td>1896</td><td>Athens</td><td>Aquatics</td><td>Swimming</td><td>CHASAPIS, Spiridon   </td><td>GRE</td><td>Men</td><td>100M Freestyle For Sailors</td><td>Silver</td></tr>\n",
              "\t<tr><th scope=row>6</th><td>1896</td><td>Athens</td><td>Aquatics</td><td>Swimming</td><td>CHOROPHAS, Efstathios</td><td>GRE</td><td>Men</td><td>1200M Freestyle           </td><td>Bronze</td></tr>\n",
              "</tbody>\n",
              "</table>\n"
            ]
          },
          "metadata": {
            "tags": []
          }
        },
        {
          "output_type": "display_data",
          "data": {
            "text/plain": [
              "      Year City   Sport     Discipline          Athlete                  \n",
              "31160 2012 London Wrestling Wrestling Freestyle GAJIYEV, Danyal          \n",
              "31161 2012 London Wrestling Wrestling Freestyle JANIKOWSKI, Damian       \n",
              "31162 2012 London Wrestling Wrestling Freestyle REZAEI, Ghasem Gholamreza\n",
              "31163 2012 London Wrestling Wrestling Freestyle TOTROV, Rustam           \n",
              "31164 2012 London Wrestling Wrestling Freestyle ALEKSANYAN, Artur        \n",
              "31165 2012 London Wrestling Wrestling Freestyle LIDBERG, Jimmy           \n",
              "      Country Gender Event    Medal \n",
              "31160 KAZ     Men    Wg 84 KG Bronze\n",
              "31161 POL     Men    Wg 84 KG Bronze\n",
              "31162 IRI     Men    Wg 96 KG Gold  \n",
              "31163 RUS     Men    Wg 96 KG Silver\n",
              "31164 ARM     Men    Wg 96 KG Bronze\n",
              "31165 SWE     Men    Wg 96 KG Bronze"
            ],
            "text/latex": "A data.frame: 6 × 9\n\\begin{tabular}{r|lllllllll}\n  & Year & City & Sport & Discipline & Athlete & Country & Gender & Event & Medal\\\\\n  & <int> & <fct> & <fct> & <fct> & <fct> & <fct> & <fct> & <fct> & <fct>\\\\\n\\hline\n\t31160 & 2012 & London & Wrestling & Wrestling Freestyle & GAJIYEV, Danyal           & KAZ & Men & Wg 84 KG & Bronze\\\\\n\t31161 & 2012 & London & Wrestling & Wrestling Freestyle & JANIKOWSKI, Damian        & POL & Men & Wg 84 KG & Bronze\\\\\n\t31162 & 2012 & London & Wrestling & Wrestling Freestyle & REZAEI, Ghasem Gholamreza & IRI & Men & Wg 96 KG & Gold  \\\\\n\t31163 & 2012 & London & Wrestling & Wrestling Freestyle & TOTROV, Rustam            & RUS & Men & Wg 96 KG & Silver\\\\\n\t31164 & 2012 & London & Wrestling & Wrestling Freestyle & ALEKSANYAN, Artur         & ARM & Men & Wg 96 KG & Bronze\\\\\n\t31165 & 2012 & London & Wrestling & Wrestling Freestyle & LIDBERG, Jimmy            & SWE & Men & Wg 96 KG & Bronze\\\\\n\\end{tabular}\n",
            "text/markdown": "\nA data.frame: 6 × 9\n\n| <!--/--> | Year &lt;int&gt; | City &lt;fct&gt; | Sport &lt;fct&gt; | Discipline &lt;fct&gt; | Athlete &lt;fct&gt; | Country &lt;fct&gt; | Gender &lt;fct&gt; | Event &lt;fct&gt; | Medal &lt;fct&gt; |\n|---|---|---|---|---|---|---|---|---|---|\n| 31160 | 2012 | London | Wrestling | Wrestling Freestyle | GAJIYEV, Danyal           | KAZ | Men | Wg 84 KG | Bronze |\n| 31161 | 2012 | London | Wrestling | Wrestling Freestyle | JANIKOWSKI, Damian        | POL | Men | Wg 84 KG | Bronze |\n| 31162 | 2012 | London | Wrestling | Wrestling Freestyle | REZAEI, Ghasem Gholamreza | IRI | Men | Wg 96 KG | Gold   |\n| 31163 | 2012 | London | Wrestling | Wrestling Freestyle | TOTROV, Rustam            | RUS | Men | Wg 96 KG | Silver |\n| 31164 | 2012 | London | Wrestling | Wrestling Freestyle | ALEKSANYAN, Artur         | ARM | Men | Wg 96 KG | Bronze |\n| 31165 | 2012 | London | Wrestling | Wrestling Freestyle | LIDBERG, Jimmy            | SWE | Men | Wg 96 KG | Bronze |\n\n",
            "text/html": [
              "<table>\n",
              "<caption>A data.frame: 6 × 9</caption>\n",
              "<thead>\n",
              "\t<tr><th></th><th scope=col>Year</th><th scope=col>City</th><th scope=col>Sport</th><th scope=col>Discipline</th><th scope=col>Athlete</th><th scope=col>Country</th><th scope=col>Gender</th><th scope=col>Event</th><th scope=col>Medal</th></tr>\n",
              "\t<tr><th></th><th scope=col>&lt;int&gt;</th><th scope=col>&lt;fct&gt;</th><th scope=col>&lt;fct&gt;</th><th scope=col>&lt;fct&gt;</th><th scope=col>&lt;fct&gt;</th><th scope=col>&lt;fct&gt;</th><th scope=col>&lt;fct&gt;</th><th scope=col>&lt;fct&gt;</th><th scope=col>&lt;fct&gt;</th></tr>\n",
              "</thead>\n",
              "<tbody>\n",
              "\t<tr><th scope=row>31160</th><td>2012</td><td>London</td><td>Wrestling</td><td>Wrestling Freestyle</td><td>GAJIYEV, Danyal          </td><td>KAZ</td><td>Men</td><td>Wg 84 KG</td><td>Bronze</td></tr>\n",
              "\t<tr><th scope=row>31161</th><td>2012</td><td>London</td><td>Wrestling</td><td>Wrestling Freestyle</td><td>JANIKOWSKI, Damian       </td><td>POL</td><td>Men</td><td>Wg 84 KG</td><td>Bronze</td></tr>\n",
              "\t<tr><th scope=row>31162</th><td>2012</td><td>London</td><td>Wrestling</td><td>Wrestling Freestyle</td><td>REZAEI, Ghasem Gholamreza</td><td>IRI</td><td>Men</td><td>Wg 96 KG</td><td>Gold  </td></tr>\n",
              "\t<tr><th scope=row>31163</th><td>2012</td><td>London</td><td>Wrestling</td><td>Wrestling Freestyle</td><td>TOTROV, Rustam           </td><td>RUS</td><td>Men</td><td>Wg 96 KG</td><td>Silver</td></tr>\n",
              "\t<tr><th scope=row>31164</th><td>2012</td><td>London</td><td>Wrestling</td><td>Wrestling Freestyle</td><td>ALEKSANYAN, Artur        </td><td>ARM</td><td>Men</td><td>Wg 96 KG</td><td>Bronze</td></tr>\n",
              "\t<tr><th scope=row>31165</th><td>2012</td><td>London</td><td>Wrestling</td><td>Wrestling Freestyle</td><td>LIDBERG, Jimmy           </td><td>SWE</td><td>Men</td><td>Wg 96 KG</td><td>Bronze</td></tr>\n",
              "</tbody>\n",
              "</table>\n"
            ]
          },
          "metadata": {
            "tags": []
          }
        },
        {
          "output_type": "display_data",
          "data": {
            "text/plain": [
              "      Year               City              Sport             Discipline   \n",
              " Min.   :1896   London     : 3567   Aquatics  : 4170   Athletics  : 3638  \n",
              " 1st Qu.:1948   Athens     : 2149   Athletics : 3638   Rowing     : 2667  \n",
              " Median :1980   Los Angeles: 2074   Rowing    : 2667   Swimming   : 2628  \n",
              " Mean   :1970   Beijing    : 2042   Gymnastics: 2307   Artistic G.: 2103  \n",
              " 3rd Qu.:2000   Sydney     : 2015   Fencing   : 1613   Fencing    : 1613  \n",
              " Max.   :2012   Atlanta    : 1859   Football  : 1497   Football   : 1497  \n",
              "                (Other)    :17459   (Other)   :15273   (Other)    :17019  \n",
              "                 Athlete         Country        Gender     \n",
              " PHELPS, Michael     :   22   USA    : 4585   Men  :22746  \n",
              " LATYNINA, Larisa    :   18   URS    : 2049   Women: 8419  \n",
              " ANDRIANOV, Nikolay  :   15   GBR    : 1720                \n",
              " MANGIAROTTI, Edoardo:   13   FRA    : 1396                \n",
              " ONO, Takashi        :   13   GER    : 1305                \n",
              " SHAKHLIN, Boris     :   13   ITA    : 1296                \n",
              " (Other)             :31071   (Other):18814                \n",
              "              Event          Medal      \n",
              " Football        : 1497   Bronze:10369  \n",
              " Hockey          : 1422   Gold  :10486  \n",
              " Team Competition: 1147   Silver:10310  \n",
              " Basketball      : 1012                 \n",
              " Handball        :  973                 \n",
              " Water Polo      :  958                 \n",
              " (Other)         :24156                 "
            ]
          },
          "metadata": {
            "tags": []
          }
        }
      ]
    },
    {
      "cell_type": "code",
      "metadata": {
        "id": "DiLUYwKkYFer",
        "colab_type": "code",
        "colab": {
          "base_uri": "https://localhost:8080/",
          "height": 193
        },
        "outputId": "38dee5d2-c91b-428f-ce23-9d923a41df48"
      },
      "source": [
        "# 데이터 구조\n",
        "str(summermedals)"
      ],
      "execution_count": null,
      "outputs": [
        {
          "output_type": "stream",
          "text": [
            "'data.frame':\t31165 obs. of  9 variables:\n",
            " $ Year      : int  1896 1896 1896 1896 1896 1896 1896 1896 1896 1896 ...\n",
            " $ City      : Factor w/ 22 levels \"Amsterdam\",\"Antwerp\",..: 3 3 3 3 3 3 3 3 3 3 ...\n",
            " $ Sport     : Factor w/ 43 levels \"Aquatics\",\"Archery\",..: 1 1 1 1 1 1 1 1 1 1 ...\n",
            " $ Discipline: Factor w/ 67 levels \"Archery\",\"Artistic G.\",..: 50 50 50 50 50 50 50 50 50 50 ...\n",
            " $ Athlete   : Factor w/ 22762 levels \"AABYE, Edgar\",..: 7412 8021 4894 12438 3157 3339 7412 503 3339 14271 ...\n",
            " $ Country   : Factor w/ 148 levels \"\",\"AFG\",\"AHO\",..: 60 9 54 54 54 54 60 54 54 9 ...\n",
            " $ Gender    : Factor w/ 2 levels \"Men\",\"Women\": 1 1 1 1 1 1 1 1 1 1 ...\n",
            " $ Event     : Factor w/ 666 levels \"- 47.63KG (Flyweight)\",..: 79 79 80 80 80 105 105 105 162 162 ...\n",
            " $ Medal     : Factor w/ 3 levels \"Bronze\",\"Gold\",..: 2 3 1 2 3 1 2 3 1 2 ...\n"
          ],
          "name": "stdout"
        }
      ]
    },
    {
      "cell_type": "code",
      "metadata": {
        "id": "pUYZ0FiTaS1m",
        "colab_type": "code",
        "colab": {
          "base_uri": "https://localhost:8080/",
          "height": 193
        },
        "outputId": "a2280fec-2905-47ef-fb04-6a80b3129c5d"
      },
      "source": [
        "# 문자형을 명목형으로 자동 변화하지 않음\n",
        "summermedals2 <- read.csv('https://raw.githubusercontent.com/Jungsan005/R_statstics/master/datasets/summermedals.csv', stringsAsFactors = F)\n",
        "str(summermedals2)"
      ],
      "execution_count": null,
      "outputs": [
        {
          "output_type": "stream",
          "text": [
            "'data.frame':\t31165 obs. of  9 variables:\n",
            " $ Year      : int  1896 1896 1896 1896 1896 1896 1896 1896 1896 1896 ...\n",
            " $ City      : chr  \"Athens\" \"Athens\" \"Athens\" \"Athens\" ...\n",
            " $ Sport     : chr  \"Aquatics\" \"Aquatics\" \"Aquatics\" \"Aquatics\" ...\n",
            " $ Discipline: chr  \"Swimming\" \"Swimming\" \"Swimming\" \"Swimming\" ...\n",
            " $ Athlete   : chr  \"HAJOS, Alfred\" \"HERSCHMANN, Otto\" \"DRIVAS, Dimitrios\" \"MALOKINIS, Ioannis\" ...\n",
            " $ Country   : chr  \"HUN\" \"AUT\" \"GRE\" \"GRE\" ...\n",
            " $ Gender    : chr  \"Men\" \"Men\" \"Men\" \"Men\" ...\n",
            " $ Event     : chr  \"100M Freestyle\" \"100M Freestyle\" \"100M Freestyle For Sailors\" \"100M Freestyle For Sailors\" ...\n",
            " $ Medal     : chr  \"Gold\" \"Silver\" \"Bronze\" \"Gold\" ...\n"
          ],
          "name": "stdout"
        }
      ]
    },
    {
      "cell_type": "code",
      "metadata": {
        "id": "As3tPdeqaS68",
        "colab_type": "code",
        "colab": {
          "base_uri": "https://localhost:8080/",
          "height": 490
        },
        "outputId": "f922a49a-b8ac-4a35-a2c1-956cb3f0f0dc"
      },
      "source": [
        "# 성별 선수 현황\n",
        "# 데이터프레임명$변수명\n",
        "# 빈도표 작성: table\n",
        "frq_gender <- table(summermedals$Gender)\n",
        "frq_gender\n",
        "barplot(frq_gender)"
      ],
      "execution_count": null,
      "outputs": [
        {
          "output_type": "display_data",
          "data": {
            "text/plain": [
              "\n",
              "  Men Women \n",
              "22746  8419 "
            ]
          },
          "metadata": {
            "tags": []
          }
        },
        {
          "output_type": "display_data",
          "data": {
            "image/png": "[encoded data removed]",
            "text/plain": [
              "plot without title"
            ]
          },
          "metadata": {
            "tags": [],
            "image/png": {
              "width": 420,
              "height": 420
            }
          }
        }
      ]
    },
    {
      "cell_type": "code",
      "metadata": {
        "id": "mV1D4HnjaTKu",
        "colab_type": "code",
        "colab": {
          "base_uri": "https://localhost:8080/",
          "height": 1000
        },
        "outputId": "2b33cb97-ae1b-4370-e8ab-8ba8052e85d3"
      },
      "source": [
        "iris"
      ],
      "execution_count": null,
      "outputs": [
        {
          "output_type": "display_data",
          "data": {
            "text/plain": [
              "    Sepal.Length Sepal.Width Petal.Length Petal.Width Species  \n",
              "1   5.1          3.5         1.4          0.2         setosa   \n",
              "2   4.9          3.0         1.4          0.2         setosa   \n",
              "3   4.7          3.2         1.3          0.2         setosa   \n",
              "4   4.6          3.1         1.5          0.2         setosa   \n",
              "5   5.0          3.6         1.4          0.2         setosa   \n",
              "6   5.4          3.9         1.7          0.4         setosa   \n",
              "7   4.6          3.4         1.4          0.3         setosa   \n",
              "8   5.0          3.4         1.5          0.2         setosa   \n",
              "9   4.4          2.9         1.4          0.2         setosa   \n",
              "10  4.9          3.1         1.5          0.1         setosa   \n",
              "11  5.4          3.7         1.5          0.2         setosa   \n",
              "12  4.8          3.4         1.6          0.2         setosa   \n",
              "13  4.8          3.0         1.4          0.1         setosa   \n",
              "14  4.3          3.0         1.1          0.1         setosa   \n",
              "15  5.8          4.0         1.2          0.2         setosa   \n",
              "16  5.7          4.4         1.5          0.4         setosa   \n",
              "17  5.4          3.9         1.3          0.4         setosa   \n",
              "18  5.1          3.5         1.4          0.3         setosa   \n",
              "19  5.7          3.8         1.7          0.3         setosa   \n",
              "20  5.1          3.8         1.5          0.3         setosa   \n",
              "21  5.4          3.4         1.7          0.2         setosa   \n",
              "22  5.1          3.7         1.5          0.4         setosa   \n",
              "23  4.6          3.6         1.0          0.2         setosa   \n",
              "24  5.1          3.3         1.7          0.5         setosa   \n",
              "25  4.8          3.4         1.9          0.2         setosa   \n",
              "26  5.0          3.0         1.6          0.2         setosa   \n",
              "27  5.0          3.4         1.6          0.4         setosa   \n",
              "28  5.2          3.5         1.5          0.2         setosa   \n",
              "29  5.2          3.4         1.4          0.2         setosa   \n",
              "30  4.7          3.2         1.6          0.2         setosa   \n",
              "⋮   ⋮            ⋮           ⋮            ⋮           ⋮        \n",
              "121 6.9          3.2         5.7          2.3         virginica\n",
              "122 5.6          2.8         4.9          2.0         virginica\n",
              "123 7.7          2.8         6.7          2.0         virginica\n",
              "124 6.3          2.7         4.9          1.8         virginica\n",
              "125 6.7          3.3         5.7          2.1         virginica\n",
              "126 7.2          3.2         6.0          1.8         virginica\n",
              "127 6.2          2.8         4.8          1.8         virginica\n",
              "128 6.1          3.0         4.9          1.8         virginica\n",
              "129 6.4          2.8         5.6          2.1         virginica\n",
              "130 7.2          3.0         5.8          1.6         virginica\n",
              "131 7.4          2.8         6.1          1.9         virginica\n",
              "132 7.9          3.8         6.4          2.0         virginica\n",
              "133 6.4          2.8         5.6          2.2         virginica\n",
              "134 6.3          2.8         5.1          1.5         virginica\n",
              "135 6.1          2.6         5.6          1.4         virginica\n",
              "136 7.7          3.0         6.1          2.3         virginica\n",
              "137 6.3          3.4         5.6          2.4         virginica\n",
              "138 6.4          3.1         5.5          1.8         virginica\n",
              "139 6.0          3.0         4.8          1.8         virginica\n",
              "140 6.9          3.1         5.4          2.1         virginica\n",
              "141 6.7          3.1         5.6          2.4         virginica\n",
              "142 6.9          3.1         5.1          2.3         virginica\n",
              "143 5.8          2.7         5.1          1.9         virginica\n",
              "144 6.8          3.2         5.9          2.3         virginica\n",
              "145 6.7          3.3         5.7          2.5         virginica\n",
              "146 6.7          3.0         5.2          2.3         virginica\n",
              "147 6.3          2.5         5.0          1.9         virginica\n",
              "148 6.5          3.0         5.2          2.0         virginica\n",
              "149 6.2          3.4         5.4          2.3         virginica\n",
              "150 5.9          3.0         5.1          1.8         virginica"
            ],
            "text/latex": "A data.frame: 150 × 5\n\\begin{tabular}{lllll}\n Sepal.Length & Sepal.Width & Petal.Length & Petal.Width & Species\\\\\n <dbl> & <dbl> & <dbl> & <dbl> & <fct>\\\\\n\\hline\n\t 5.1 & 3.5 & 1.4 & 0.2 & setosa\\\\\n\t 4.9 & 3.0 & 1.4 & 0.2 & setosa\\\\\n\t 4.7 & 3.2 & 1.3 & 0.2 & setosa\\\\\n\t 4.6 & 3.1 & 1.5 & 0.2 & setosa\\\\\n\t 5.0 & 3.6 & 1.4 & 0.2 & setosa\\\\\n\t 5.4 & 3.9 & 1.7 & 0.4 & setosa\\\\\n\t 4.6 & 3.4 & 1.4 & 0.3 & setosa\\\\\n\t 5.0 & 3.4 & 1.5 & 0.2 & setosa\\\\\n\t 4.4 & 2.9 & 1.4 & 0.2 & setosa\\\\\n\t 4.9 & 3.1 & 1.5 & 0.1 & setosa\\\\\n\t 5.4 & 3.7 & 1.5 & 0.2 & setosa\\\\\n\t 4.8 & 3.4 & 1.6 & 0.2 & setosa\\\\\n\t 4.8 & 3.0 & 1.4 & 0.1 & setosa\\\\\n\t 4.3 & 3.0 & 1.1 & 0.1 & setosa\\\\\n\t 5.8 & 4.0 & 1.2 & 0.2 & setosa\\\\\n\t 5.7 & 4.4 & 1.5 & 0.4 & setosa\\\\\n\t 5.4 & 3.9 & 1.3 & 0.4 & setosa\\\\\n\t 5.1 & 3.5 & 1.4 & 0.3 & setosa\\\\\n\t 5.7 & 3.8 & 1.7 & 0.3 & setosa\\\\\n\t 5.1 & 3.8 & 1.5 & 0.3 & setosa\\\\\n\t 5.4 & 3.4 & 1.7 & 0.2 & setosa\\\\\n\t 5.1 & 3.7 & 1.5 & 0.4 & setosa\\\\\n\t 4.6 & 3.6 & 1.0 & 0.2 & setosa\\\\\n\t 5.1 & 3.3 & 1.7 & 0.5 & setosa\\\\\n\t 4.8 & 3.4 & 1.9 & 0.2 & setosa\\\\\n\t 5.0 & 3.0 & 1.6 & 0.2 & setosa\\\\\n\t 5.0 & 3.4 & 1.6 & 0.4 & setosa\\\\\n\t 5.2 & 3.5 & 1.5 & 0.2 & setosa\\\\\n\t 5.2 & 3.4 & 1.4 & 0.2 & setosa\\\\\n\t 4.7 & 3.2 & 1.6 & 0.2 & setosa\\\\\n\t ⋮ & ⋮ & ⋮ & ⋮ & ⋮\\\\\n\t 6.9 & 3.2 & 5.7 & 2.3 & virginica\\\\\n\t 5.6 & 2.8 & 4.9 & 2.0 & virginica\\\\\n\t 7.7 & 2.8 & 6.7 & 2.0 & virginica\\\\\n\t 6.3 & 2.7 & 4.9 & 1.8 & virginica\\\\\n\t 6.7 & 3.3 & 5.7 & 2.1 & virginica\\\\\n\t 7.2 & 3.2 & 6.0 & 1.8 & virginica\\\\\n\t 6.2 & 2.8 & 4.8 & 1.8 & virginica\\\\\n\t 6.1 & 3.0 & 4.9 & 1.8 & virginica\\\\\n\t 6.4 & 2.8 & 5.6 & 2.1 & virginica\\\\\n\t 7.2 & 3.0 & 5.8 & 1.6 & virginica\\\\\n\t 7.4 & 2.8 & 6.1 & 1.9 & virginica\\\\\n\t 7.9 & 3.8 & 6.4 & 2.0 & virginica\\\\\n\t 6.4 & 2.8 & 5.6 & 2.2 & virginica\\\\\n\t 6.3 & 2.8 & 5.1 & 1.5 & virginica\\\\\n\t 6.1 & 2.6 & 5.6 & 1.4 & virginica\\\\\n\t 7.7 & 3.0 & 6.1 & 2.3 & virginica\\\\\n\t 6.3 & 3.4 & 5.6 & 2.4 & virginica\\\\\n\t 6.4 & 3.1 & 5.5 & 1.8 & virginica\\\\\n\t 6.0 & 3.0 & 4.8 & 1.8 & virginica\\\\\n\t 6.9 & 3.1 & 5.4 & 2.1 & virginica\\\\\n\t 6.7 & 3.1 & 5.6 & 2.4 & virginica\\\\\n\t 6.9 & 3.1 & 5.1 & 2.3 & virginica\\\\\n\t 5.8 & 2.7 & 5.1 & 1.9 & virginica\\\\\n\t 6.8 & 3.2 & 5.9 & 2.3 & virginica\\\\\n\t 6.7 & 3.3 & 5.7 & 2.5 & virginica\\\\\n\t 6.7 & 3.0 & 5.2 & 2.3 & virginica\\\\\n\t 6.3 & 2.5 & 5.0 & 1.9 & virginica\\\\\n\t 6.5 & 3.0 & 5.2 & 2.0 & virginica\\\\\n\t 6.2 & 3.4 & 5.4 & 2.3 & virginica\\\\\n\t 5.9 & 3.0 & 5.1 & 1.8 & virginica\\\\\n\\end{tabular}\n",
            "text/markdown": "\nA data.frame: 150 × 5\n\n| Sepal.Length &lt;dbl&gt; | Sepal.Width &lt;dbl&gt; | Petal.Length &lt;dbl&gt; | Petal.Width &lt;dbl&gt; | Species &lt;fct&gt; |\n|---|---|---|---|---|\n| 5.1 | 3.5 | 1.4 | 0.2 | setosa |\n| 4.9 | 3.0 | 1.4 | 0.2 | setosa |\n| 4.7 | 3.2 | 1.3 | 0.2 | setosa |\n| 4.6 | 3.1 | 1.5 | 0.2 | setosa |\n| 5.0 | 3.6 | 1.4 | 0.2 | setosa |\n| 5.4 | 3.9 | 1.7 | 0.4 | setosa |\n| 4.6 | 3.4 | 1.4 | 0.3 | setosa |\n| 5.0 | 3.4 | 1.5 | 0.2 | setosa |\n| 4.4 | 2.9 | 1.4 | 0.2 | setosa |\n| 4.9 | 3.1 | 1.5 | 0.1 | setosa |\n| 5.4 | 3.7 | 1.5 | 0.2 | setosa |\n| 4.8 | 3.4 | 1.6 | 0.2 | setosa |\n| 4.8 | 3.0 | 1.4 | 0.1 | setosa |\n| 4.3 | 3.0 | 1.1 | 0.1 | setosa |\n| 5.8 | 4.0 | 1.2 | 0.2 | setosa |\n| 5.7 | 4.4 | 1.5 | 0.4 | setosa |\n| 5.4 | 3.9 | 1.3 | 0.4 | setosa |\n| 5.1 | 3.5 | 1.4 | 0.3 | setosa |\n| 5.7 | 3.8 | 1.7 | 0.3 | setosa |\n| 5.1 | 3.8 | 1.5 | 0.3 | setosa |\n| 5.4 | 3.4 | 1.7 | 0.2 | setosa |\n| 5.1 | 3.7 | 1.5 | 0.4 | setosa |\n| 4.6 | 3.6 | 1.0 | 0.2 | setosa |\n| 5.1 | 3.3 | 1.7 | 0.5 | setosa |\n| 4.8 | 3.4 | 1.9 | 0.2 | setosa |\n| 5.0 | 3.0 | 1.6 | 0.2 | setosa |\n| 5.0 | 3.4 | 1.6 | 0.4 | setosa |\n| 5.2 | 3.5 | 1.5 | 0.2 | setosa |\n| 5.2 | 3.4 | 1.4 | 0.2 | setosa |\n| 4.7 | 3.2 | 1.6 | 0.2 | setosa |\n| ⋮ | ⋮ | ⋮ | ⋮ | ⋮ |\n| 6.9 | 3.2 | 5.7 | 2.3 | virginica |\n| 5.6 | 2.8 | 4.9 | 2.0 | virginica |\n| 7.7 | 2.8 | 6.7 | 2.0 | virginica |\n| 6.3 | 2.7 | 4.9 | 1.8 | virginica |\n| 6.7 | 3.3 | 5.7 | 2.1 | virginica |\n| 7.2 | 3.2 | 6.0 | 1.8 | virginica |\n| 6.2 | 2.8 | 4.8 | 1.8 | virginica |\n| 6.1 | 3.0 | 4.9 | 1.8 | virginica |\n| 6.4 | 2.8 | 5.6 | 2.1 | virginica |\n| 7.2 | 3.0 | 5.8 | 1.6 | virginica |\n| 7.4 | 2.8 | 6.1 | 1.9 | virginica |\n| 7.9 | 3.8 | 6.4 | 2.0 | virginica |\n| 6.4 | 2.8 | 5.6 | 2.2 | virginica |\n| 6.3 | 2.8 | 5.1 | 1.5 | virginica |\n| 6.1 | 2.6 | 5.6 | 1.4 | virginica |\n| 7.7 | 3.0 | 6.1 | 2.3 | virginica |\n| 6.3 | 3.4 | 5.6 | 2.4 | virginica |\n| 6.4 | 3.1 | 5.5 | 1.8 | virginica |\n| 6.0 | 3.0 | 4.8 | 1.8 | virginica |\n| 6.9 | 3.1 | 5.4 | 2.1 | virginica |\n| 6.7 | 3.1 | 5.6 | 2.4 | virginica |\n| 6.9 | 3.1 | 5.1 | 2.3 | virginica |\n| 5.8 | 2.7 | 5.1 | 1.9 | virginica |\n| 6.8 | 3.2 | 5.9 | 2.3 | virginica |\n| 6.7 | 3.3 | 5.7 | 2.5 | virginica |\n| 6.7 | 3.0 | 5.2 | 2.3 | virginica |\n| 6.3 | 2.5 | 5.0 | 1.9 | virginica |\n| 6.5 | 3.0 | 5.2 | 2.0 | virginica |\n| 6.2 | 3.4 | 5.4 | 2.3 | virginica |\n| 5.9 | 3.0 | 5.1 | 1.8 | virginica |\n\n",
            "text/html": [
              "<table>\n",
              "<caption>A data.frame: 150 × 5</caption>\n",
              "<thead>\n",
              "\t<tr><th scope=col>Sepal.Length</th><th scope=col>Sepal.Width</th><th scope=col>Petal.Length</th><th scope=col>Petal.Width</th><th scope=col>Species</th></tr>\n",
              "\t<tr><th scope=col>&lt;dbl&gt;</th><th scope=col>&lt;dbl&gt;</th><th scope=col>&lt;dbl&gt;</th><th scope=col>&lt;dbl&gt;</th><th scope=col>&lt;fct&gt;</th></tr>\n",
              "</thead>\n",
              "<tbody>\n",
              "\t<tr><td>5.1</td><td>3.5</td><td>1.4</td><td>0.2</td><td>setosa</td></tr>\n",
              "\t<tr><td>4.9</td><td>3.0</td><td>1.4</td><td>0.2</td><td>setosa</td></tr>\n",
              "\t<tr><td>4.7</td><td>3.2</td><td>1.3</td><td>0.2</td><td>setosa</td></tr>\n",
              "\t<tr><td>4.6</td><td>3.1</td><td>1.5</td><td>0.2</td><td>setosa</td></tr>\n",
              "\t<tr><td>5.0</td><td>3.6</td><td>1.4</td><td>0.2</td><td>setosa</td></tr>\n",
              "\t<tr><td>5.4</td><td>3.9</td><td>1.7</td><td>0.4</td><td>setosa</td></tr>\n",
              "\t<tr><td>4.6</td><td>3.4</td><td>1.4</td><td>0.3</td><td>setosa</td></tr>\n",
              "\t<tr><td>5.0</td><td>3.4</td><td>1.5</td><td>0.2</td><td>setosa</td></tr>\n",
              "\t<tr><td>4.4</td><td>2.9</td><td>1.4</td><td>0.2</td><td>setosa</td></tr>\n",
              "\t<tr><td>4.9</td><td>3.1</td><td>1.5</td><td>0.1</td><td>setosa</td></tr>\n",
              "\t<tr><td>5.4</td><td>3.7</td><td>1.5</td><td>0.2</td><td>setosa</td></tr>\n",
              "\t<tr><td>4.8</td><td>3.4</td><td>1.6</td><td>0.2</td><td>setosa</td></tr>\n",
              "\t<tr><td>4.8</td><td>3.0</td><td>1.4</td><td>0.1</td><td>setosa</td></tr>\n",
              "\t<tr><td>4.3</td><td>3.0</td><td>1.1</td><td>0.1</td><td>setosa</td></tr>\n",
              "\t<tr><td>5.8</td><td>4.0</td><td>1.2</td><td>0.2</td><td>setosa</td></tr>\n",
              "\t<tr><td>5.7</td><td>4.4</td><td>1.5</td><td>0.4</td><td>setosa</td></tr>\n",
              "\t<tr><td>5.4</td><td>3.9</td><td>1.3</td><td>0.4</td><td>setosa</td></tr>\n",
              "\t<tr><td>5.1</td><td>3.5</td><td>1.4</td><td>0.3</td><td>setosa</td></tr>\n",
              "\t<tr><td>5.7</td><td>3.8</td><td>1.7</td><td>0.3</td><td>setosa</td></tr>\n",
              "\t<tr><td>5.1</td><td>3.8</td><td>1.5</td><td>0.3</td><td>setosa</td></tr>\n",
              "\t<tr><td>5.4</td><td>3.4</td><td>1.7</td><td>0.2</td><td>setosa</td></tr>\n",
              "\t<tr><td>5.1</td><td>3.7</td><td>1.5</td><td>0.4</td><td>setosa</td></tr>\n",
              "\t<tr><td>4.6</td><td>3.6</td><td>1.0</td><td>0.2</td><td>setosa</td></tr>\n",
              "\t<tr><td>5.1</td><td>3.3</td><td>1.7</td><td>0.5</td><td>setosa</td></tr>\n",
              "\t<tr><td>4.8</td><td>3.4</td><td>1.9</td><td>0.2</td><td>setosa</td></tr>\n",
              "\t<tr><td>5.0</td><td>3.0</td><td>1.6</td><td>0.2</td><td>setosa</td></tr>\n",
              "\t<tr><td>5.0</td><td>3.4</td><td>1.6</td><td>0.4</td><td>setosa</td></tr>\n",
              "\t<tr><td>5.2</td><td>3.5</td><td>1.5</td><td>0.2</td><td>setosa</td></tr>\n",
              "\t<tr><td>5.2</td><td>3.4</td><td>1.4</td><td>0.2</td><td>setosa</td></tr>\n",
              "\t<tr><td>4.7</td><td>3.2</td><td>1.6</td><td>0.2</td><td>setosa</td></tr>\n",
              "\t<tr><td>⋮</td><td>⋮</td><td>⋮</td><td>⋮</td><td>⋮</td></tr>\n",
              "\t<tr><td>6.9</td><td>3.2</td><td>5.7</td><td>2.3</td><td>virginica</td></tr>\n",
              "\t<tr><td>5.6</td><td>2.8</td><td>4.9</td><td>2.0</td><td>virginica</td></tr>\n",
              "\t<tr><td>7.7</td><td>2.8</td><td>6.7</td><td>2.0</td><td>virginica</td></tr>\n",
              "\t<tr><td>6.3</td><td>2.7</td><td>4.9</td><td>1.8</td><td>virginica</td></tr>\n",
              "\t<tr><td>6.7</td><td>3.3</td><td>5.7</td><td>2.1</td><td>virginica</td></tr>\n",
              "\t<tr><td>7.2</td><td>3.2</td><td>6.0</td><td>1.8</td><td>virginica</td></tr>\n",
              "\t<tr><td>6.2</td><td>2.8</td><td>4.8</td><td>1.8</td><td>virginica</td></tr>\n",
              "\t<tr><td>6.1</td><td>3.0</td><td>4.9</td><td>1.8</td><td>virginica</td></tr>\n",
              "\t<tr><td>6.4</td><td>2.8</td><td>5.6</td><td>2.1</td><td>virginica</td></tr>\n",
              "\t<tr><td>7.2</td><td>3.0</td><td>5.8</td><td>1.6</td><td>virginica</td></tr>\n",
              "\t<tr><td>7.4</td><td>2.8</td><td>6.1</td><td>1.9</td><td>virginica</td></tr>\n",
              "\t<tr><td>7.9</td><td>3.8</td><td>6.4</td><td>2.0</td><td>virginica</td></tr>\n",
              "\t<tr><td>6.4</td><td>2.8</td><td>5.6</td><td>2.2</td><td>virginica</td></tr>\n",
              "\t<tr><td>6.3</td><td>2.8</td><td>5.1</td><td>1.5</td><td>virginica</td></tr>\n",
              "\t<tr><td>6.1</td><td>2.6</td><td>5.6</td><td>1.4</td><td>virginica</td></tr>\n",
              "\t<tr><td>7.7</td><td>3.0</td><td>6.1</td><td>2.3</td><td>virginica</td></tr>\n",
              "\t<tr><td>6.3</td><td>3.4</td><td>5.6</td><td>2.4</td><td>virginica</td></tr>\n",
              "\t<tr><td>6.4</td><td>3.1</td><td>5.5</td><td>1.8</td><td>virginica</td></tr>\n",
              "\t<tr><td>6.0</td><td>3.0</td><td>4.8</td><td>1.8</td><td>virginica</td></tr>\n",
              "\t<tr><td>6.9</td><td>3.1</td><td>5.4</td><td>2.1</td><td>virginica</td></tr>\n",
              "\t<tr><td>6.7</td><td>3.1</td><td>5.6</td><td>2.4</td><td>virginica</td></tr>\n",
              "\t<tr><td>6.9</td><td>3.1</td><td>5.1</td><td>2.3</td><td>virginica</td></tr>\n",
              "\t<tr><td>5.8</td><td>2.7</td><td>5.1</td><td>1.9</td><td>virginica</td></tr>\n",
              "\t<tr><td>6.8</td><td>3.2</td><td>5.9</td><td>2.3</td><td>virginica</td></tr>\n",
              "\t<tr><td>6.7</td><td>3.3</td><td>5.7</td><td>2.5</td><td>virginica</td></tr>\n",
              "\t<tr><td>6.7</td><td>3.0</td><td>5.2</td><td>2.3</td><td>virginica</td></tr>\n",
              "\t<tr><td>6.3</td><td>2.5</td><td>5.0</td><td>1.9</td><td>virginica</td></tr>\n",
              "\t<tr><td>6.5</td><td>3.0</td><td>5.2</td><td>2.0</td><td>virginica</td></tr>\n",
              "\t<tr><td>6.2</td><td>3.4</td><td>5.4</td><td>2.3</td><td>virginica</td></tr>\n",
              "\t<tr><td>5.9</td><td>3.0</td><td>5.1</td><td>1.8</td><td>virginica</td></tr>\n",
              "</tbody>\n",
              "</table>\n"
            ]
          },
          "metadata": {
            "tags": []
          }
        }
      ]
    },
    {
      "cell_type": "code",
      "metadata": {
        "id": "RGEDAJO0IW0U",
        "colab_type": "code",
        "colab": {}
      },
      "source": [
        "?iris"
      ],
      "execution_count": null,
      "outputs": []
    },
    {
      "cell_type": "code",
      "metadata": {
        "id": "fEGCE0pHIa9q",
        "colab_type": "code",
        "colab": {
          "base_uri": "https://localhost:8080/",
          "height": 125
        },
        "outputId": "bbca70cd-01d9-4f03-98b0-c31418a05476"
      },
      "source": [
        "str(iris)"
      ],
      "execution_count": null,
      "outputs": [
        {
          "output_type": "stream",
          "text": [
            "'data.frame':\t150 obs. of  5 variables:\n",
            " $ Sepal.Length: num  5.1 4.9 4.7 4.6 5 5.4 4.6 5 4.4 4.9 ...\n",
            " $ Sepal.Width : num  3.5 3 3.2 3.1 3.6 3.9 3.4 3.4 2.9 3.1 ...\n",
            " $ Petal.Length: num  1.4 1.4 1.3 1.5 1.4 1.7 1.4 1.5 1.4 1.5 ...\n",
            " $ Petal.Width : num  0.2 0.2 0.2 0.2 0.2 0.4 0.3 0.2 0.2 0.1 ...\n",
            " $ Species     : Factor w/ 3 levels \"setosa\",\"versicolor\",..: 1 1 1 1 1 1 1 1 1 1 ...\n"
          ],
          "name": "stdout"
        }
      ]
    },
    {
      "cell_type": "code",
      "metadata": {
        "id": "MaXQjBzvIm-K",
        "colab_type": "code",
        "colab": {
          "base_uri": "https://localhost:8080/",
          "height": 269
        },
        "outputId": "2b2c43f9-9aac-4b7d-af5b-c14d0804e819"
      },
      "source": [
        "summary(iris)"
      ],
      "execution_count": null,
      "outputs": [
        {
          "output_type": "display_data",
          "data": {
            "text/plain": [
              "  Sepal.Length    Sepal.Width     Petal.Length    Petal.Width   \n",
              " Min.   :4.300   Min.   :2.000   Min.   :1.000   Min.   :0.100  \n",
              " 1st Qu.:5.100   1st Qu.:2.800   1st Qu.:1.600   1st Qu.:0.300  \n",
              " Median :5.800   Median :3.000   Median :4.350   Median :1.300  \n",
              " Mean   :5.843   Mean   :3.057   Mean   :3.758   Mean   :1.199  \n",
              " 3rd Qu.:6.400   3rd Qu.:3.300   3rd Qu.:5.100   3rd Qu.:1.800  \n",
              " Max.   :7.900   Max.   :4.400   Max.   :6.900   Max.   :2.500  \n",
              "       Species  \n",
              " setosa    :50  \n",
              " versicolor:50  \n",
              " virginica :50  \n",
              "                \n",
              "                \n",
              "                "
            ]
          },
          "metadata": {
            "tags": []
          }
        }
      ]
    },
    {
      "cell_type": "code",
      "metadata": {
        "id": "IFD2gwwyJG2j",
        "colab_type": "code",
        "colab": {}
      },
      "source": [
        "frq_sp <- table(iris$Species)"
      ],
      "execution_count": null,
      "outputs": []
    },
    {
      "cell_type": "code",
      "metadata": {
        "id": "TwWcx01nJTXK",
        "colab_type": "code",
        "colab": {
          "base_uri": "https://localhost:8080/",
          "height": 71
        },
        "outputId": "d5232b5e-73e9-4d21-fb65-11886a317690"
      },
      "source": [
        "frq_sp"
      ],
      "execution_count": null,
      "outputs": [
        {
          "output_type": "display_data",
          "data": {
            "text/plain": [
              "\n",
              "    setosa versicolor  virginica \n",
              "        50         50         50 "
            ]
          },
          "metadata": {
            "tags": []
          }
        }
      ]
    },
    {
      "cell_type": "code",
      "metadata": {
        "id": "N5rVe9sVJVoR",
        "colab_type": "code",
        "colab": {
          "base_uri": "https://localhost:8080/",
          "height": 437
        },
        "outputId": "98eee4eb-e427-42c7-c6df-7973e9fa8d1d"
      },
      "source": [
        "barplot(frq_sp, col='red')"
      ],
      "execution_count": null,
      "outputs": [
        {
          "output_type": "display_data",
          "data": {
            "image/png": "[encoded data removed]",
            "text/plain": [
              "plot without title"
            ]
          },
          "metadata": {
            "tags": [],
            "image/png": {
              "width": 420,
              "height": 420
            }
          }
        }
      ]
    },
    {
      "cell_type": "code",
      "metadata": {
        "id": "QTkjl0E-KK_E",
        "colab_type": "code",
        "colab": {
          "base_uri": "https://localhost:8080/",
          "height": 437
        },
        "outputId": "235e60e3-f76c-4c03-cee7-965c72376795"
      },
      "source": [
        "barplot(frq_sp, col=c('red','green','blue'))"
      ],
      "execution_count": null,
      "outputs": [
        {
          "output_type": "display_data",
          "data": {
            "image/png": "[encoded data removed]",
            "text/plain": [
              "plot without title"
            ]
          },
          "metadata": {
            "tags": [],
            "image/png": {
              "width": 420,
              "height": 420
            }
          }
        }
      ]
    },
    {
      "cell_type": "code",
      "metadata": {
        "id": "EJ_Nfb-3KZxK",
        "colab_type": "code",
        "colab": {
          "base_uri": "https://localhost:8080/",
          "height": 437
        },
        "outputId": "44555b7a-8b07-462b-997a-4aefc462cd4f"
      },
      "source": [
        "barplot(frq_sp, col=rainbow(3))"
      ],
      "execution_count": null,
      "outputs": [
        {
          "output_type": "display_data",
          "data": {
            "image/png": "[encoded data removed]",
            "text/plain": [
              "plot without title"
            ]
          },
          "metadata": {
            "tags": [],
            "image/png": {
              "width": 420,
              "height": 420
            }
          }
        }
      ]
    },
    {
      "cell_type": "code",
      "metadata": {
        "id": "NZBuWQ6-P8I4",
        "colab_type": "code",
        "colab": {
          "base_uri": "https://localhost:8080/",
          "height": 34
        },
        "outputId": "66b80d4d-e8a2-46b2-d6be-b108c2b5eabf"
      },
      "source": [
        "10^2"
      ],
      "execution_count": null,
      "outputs": [
        {
          "output_type": "display_data",
          "data": {
            "text/plain": [
              "[1] 100"
            ],
            "text/latex": "100",
            "text/markdown": "100",
            "text/html": [
              "100"
            ]
          },
          "metadata": {
            "tags": []
          }
        }
      ]
    },
    {
      "cell_type": "code",
      "metadata": {
        "id": "EJjhQ6H4P60z",
        "colab_type": "code",
        "colab": {
          "base_uri": "https://localhost:8080/",
          "height": 34
        },
        "outputId": "ad8a654f-3691-40fc-a303-27dfee13e586"
      },
      "source": [
        "10%%2"
      ],
      "execution_count": null,
      "outputs": [
        {
          "output_type": "display_data",
          "data": {
            "text/plain": [
              "[1] 0"
            ],
            "text/latex": "0",
            "text/markdown": "0",
            "text/html": [
              "0"
            ]
          },
          "metadata": {
            "tags": []
          }
        }
      ]
    },
    {
      "cell_type": "code",
      "metadata": {
        "id": "h3IWbG8pXYGR",
        "colab_type": "code",
        "colab": {
          "base_uri": "https://localhost:8080/",
          "height": 103
        },
        "outputId": "3ac19f00-be16-4707-e14a-ae7c9db77990"
      },
      "source": [
        "#변수 자료형\n",
        "a<-123\n",
        "b<-456.78\n",
        "c<-\"Hello, World!!\"\n",
        "d<-T\n",
        "e<-NULL\n",
        "\n",
        "a\n",
        "b\n",
        "c\n",
        "d\n",
        "e"
      ],
      "execution_count": null,
      "outputs": [
        {
          "output_type": "display_data",
          "data": {
            "text/plain": [
              "[1] 123"
            ],
            "text/latex": "123",
            "text/markdown": "123",
            "text/html": [
              "123"
            ]
          },
          "metadata": {
            "tags": []
          }
        },
        {
          "output_type": "display_data",
          "data": {
            "text/plain": [
              "[1] 456.78"
            ],
            "text/latex": "456.78",
            "text/markdown": "456.78",
            "text/html": [
              "456.78"
            ]
          },
          "metadata": {
            "tags": []
          }
        },
        {
          "output_type": "display_data",
          "data": {
            "text/plain": [
              "[1] \"Hello, World!!\""
            ],
            "text/latex": "'Hello, World!!'",
            "text/markdown": "'Hello, World!!'",
            "text/html": [
              "'Hello, World!!'"
            ]
          },
          "metadata": {
            "tags": []
          }
        },
        {
          "output_type": "display_data",
          "data": {
            "text/plain": [
              "[1] TRUE"
            ],
            "text/latex": "TRUE",
            "text/markdown": "TRUE",
            "text/html": [
              "TRUE"
            ]
          },
          "metadata": {
            "tags": []
          }
        },
        {
          "output_type": "display_data",
          "data": {
            "text/plain": [
              "NULL"
            ]
          },
          "metadata": {
            "tags": []
          }
        }
      ]
    },
    {
      "cell_type": "code",
      "metadata": {
        "id": "nllcbGuTX2ic",
        "colab_type": "code",
        "colab": {
          "base_uri": "https://localhost:8080/",
          "height": 51
        },
        "outputId": "b60f6987-571d-4da6-c6c4-254d3360569f"
      },
      "source": [
        "# 성적프로그램 1\n",
        "name<-\"혜교\"\n",
        "kor<-99\n",
        "eng<-98\n",
        "mat<-78\n",
        "\n",
        "tot<-kor+eng+mat\n",
        "tot\n",
        "\n",
        "avg<-tot/3\n",
        "avg"
      ],
      "execution_count": null,
      "outputs": [
        {
          "output_type": "display_data",
          "data": {
            "text/plain": [
              "[1] 275"
            ],
            "text/latex": "275",
            "text/markdown": "275",
            "text/html": [
              "275"
            ]
          },
          "metadata": {
            "tags": []
          }
        },
        {
          "output_type": "display_data",
          "data": {
            "text/plain": [
              "[1] 91.66667"
            ],
            "text/latex": "91.6666666666667",
            "text/markdown": "91.6666666666667",
            "text/html": [
              "91.6666666666667"
            ]
          },
          "metadata": {
            "tags": []
          }
        }
      ]
    },
    {
      "cell_type": "code",
      "metadata": {
        "id": "TEzI-piBZHQr",
        "colab_type": "code",
        "colab": {
          "base_uri": "https://localhost:8080/",
          "height": 153
        },
        "outputId": "a46d4f55-4b00-42ce-a9bd-eb46c962a5b5"
      },
      "source": [
        "# 벡터:동일한 자료형으로 구성된 데이터의 집합(배열)\n",
        "# C(값,값, 값,...)\n",
        "\n",
        "# 성적프로그램 2\n",
        "\n",
        "weight<-c(56,67,84,63,65,56,49,90)\n",
        "\n",
        "# 1~10까지의 정수를 num이라는 벡터로 선언\n",
        "# sequence 값 생성 => stnum:endnum\n",
        "#                  => seq(st, end, 간격)\n",
        "num2<-c(1:100)\n",
        "num2\n",
        "\n",
        "num3<-seq(1,100)\n",
        "num3\n",
        "\n",
        "# 1~100까지의 정수 중 짝수만을 num4이라는 벡터로 선언\n",
        "num4<-seq(2,100,2)\n",
        "num4"
      ],
      "execution_count": null,
      "outputs": [
        {
          "output_type": "display_data",
          "data": {
            "text/plain": [
              "  [1]   1   2   3   4   5   6   7   8   9  10  11  12  13  14  15  16  17  18\n",
              " [19]  19  20  21  22  23  24  25  26  27  28  29  30  31  32  33  34  35  36\n",
              " [37]  37  38  39  40  41  42  43  44  45  46  47  48  49  50  51  52  53  54\n",
              " [55]  55  56  57  58  59  60  61  62  63  64  65  66  67  68  69  70  71  72\n",
              " [73]  73  74  75  76  77  78  79  80  81  82  83  84  85  86  87  88  89  90\n",
              " [91]  91  92  93  94  95  96  97  98  99 100"
            ],
            "text/latex": "\\begin{enumerate*}\n\\item 1\n\\item 2\n\\item 3\n\\item 4\n\\item 5\n\\item 6\n\\item 7\n\\item 8\n\\item 9\n\\item 10\n\\item 11\n\\item 12\n\\item 13\n\\item 14\n\\item 15\n\\item 16\n\\item 17\n\\item 18\n\\item 19\n\\item 20\n\\item 21\n\\item 22\n\\item 23\n\\item 24\n\\item 25\n\\item 26\n\\item 27\n\\item 28\n\\item 29\n\\item 30\n\\item 31\n\\item 32\n\\item 33\n\\item 34\n\\item 35\n\\item 36\n\\item 37\n\\item 38\n\\item 39\n\\item 40\n\\item 41\n\\item 42\n\\item 43\n\\item 44\n\\item 45\n\\item 46\n\\item 47\n\\item 48\n\\item 49\n\\item 50\n\\item 51\n\\item 52\n\\item 53\n\\item 54\n\\item 55\n\\item 56\n\\item 57\n\\item 58\n\\item 59\n\\item 60\n\\item 61\n\\item 62\n\\item 63\n\\item 64\n\\item 65\n\\item 66\n\\item 67\n\\item 68\n\\item 69\n\\item 70\n\\item 71\n\\item 72\n\\item 73\n\\item 74\n\\item 75\n\\item 76\n\\item 77\n\\item 78\n\\item 79\n\\item 80\n\\item 81\n\\item 82\n\\item 83\n\\item 84\n\\item 85\n\\item 86\n\\item 87\n\\item 88\n\\item 89\n\\item 90\n\\item 91\n\\item 92\n\\item 93\n\\item 94\n\\item 95\n\\item 96\n\\item 97\n\\item 98\n\\item 99\n\\item 100\n\\end{enumerate*}\n",
            "text/markdown": "1. 1\n2. 2\n3. 3\n4. 4\n5. 5\n6. 6\n7. 7\n8. 8\n9. 9\n10. 10\n11. 11\n12. 12\n13. 13\n14. 14\n15. 15\n16. 16\n17. 17\n18. 18\n19. 19\n20. 20\n21. 21\n22. 22\n23. 23\n24. 24\n25. 25\n26. 26\n27. 27\n28. 28\n29. 29\n30. 30\n31. 31\n32. 32\n33. 33\n34. 34\n35. 35\n36. 36\n37. 37\n38. 38\n39. 39\n40. 40\n41. 41\n42. 42\n43. 43\n44. 44\n45. 45\n46. 46\n47. 47\n48. 48\n49. 49\n50. 50\n51. 51\n52. 52\n53. 53\n54. 54\n55. 55\n56. 56\n57. 57\n58. 58\n59. 59\n60. 60\n61. 61\n62. 62\n63. 63\n64. 64\n65. 65\n66. 66\n67. 67\n68. 68\n69. 69\n70. 70\n71. 71\n72. 72\n73. 73\n74. 74\n75. 75\n76. 76\n77. 77\n78. 78\n79. 79\n80. 80\n81. 81\n82. 82\n83. 83\n84. 84\n85. 85\n86. 86\n87. 87\n88. 88\n89. 89\n90. 90\n91. 91\n92. 92\n93. 93\n94. 94\n95. 95\n96. 96\n97. 97\n98. 98\n99. 99\n100. 100\n\n\n",
            "text/html": [
              "<style>\n",
              ".list-inline {list-style: none; margin:0; padding: 0}\n",
              ".list-inline>li {display: inline-block}\n",
              ".list-inline>li:not(:last-child)::after {content: \"\\00b7\"; padding: 0 .5ex}\n",
              "</style>\n",
              "<ol class=list-inline><li>1</li><li>2</li><li>3</li><li>4</li><li>5</li><li>6</li><li>7</li><li>8</li><li>9</li><li>10</li><li>11</li><li>12</li><li>13</li><li>14</li><li>15</li><li>16</li><li>17</li><li>18</li><li>19</li><li>20</li><li>21</li><li>22</li><li>23</li><li>24</li><li>25</li><li>26</li><li>27</li><li>28</li><li>29</li><li>30</li><li>31</li><li>32</li><li>33</li><li>34</li><li>35</li><li>36</li><li>37</li><li>38</li><li>39</li><li>40</li><li>41</li><li>42</li><li>43</li><li>44</li><li>45</li><li>46</li><li>47</li><li>48</li><li>49</li><li>50</li><li>51</li><li>52</li><li>53</li><li>54</li><li>55</li><li>56</li><li>57</li><li>58</li><li>59</li><li>60</li><li>61</li><li>62</li><li>63</li><li>64</li><li>65</li><li>66</li><li>67</li><li>68</li><li>69</li><li>70</li><li>71</li><li>72</li><li>73</li><li>74</li><li>75</li><li>76</li><li>77</li><li>78</li><li>79</li><li>80</li><li>81</li><li>82</li><li>83</li><li>84</li><li>85</li><li>86</li><li>87</li><li>88</li><li>89</li><li>90</li><li>91</li><li>92</li><li>93</li><li>94</li><li>95</li><li>96</li><li>97</li><li>98</li><li>99</li><li>100</li></ol>\n"
            ]
          },
          "metadata": {
            "tags": []
          }
        },
        {
          "output_type": "display_data",
          "data": {
            "text/plain": [
              "  [1]   1   2   3   4   5   6   7   8   9  10  11  12  13  14  15  16  17  18\n",
              " [19]  19  20  21  22  23  24  25  26  27  28  29  30  31  32  33  34  35  36\n",
              " [37]  37  38  39  40  41  42  43  44  45  46  47  48  49  50  51  52  53  54\n",
              " [55]  55  56  57  58  59  60  61  62  63  64  65  66  67  68  69  70  71  72\n",
              " [73]  73  74  75  76  77  78  79  80  81  82  83  84  85  86  87  88  89  90\n",
              " [91]  91  92  93  94  95  96  97  98  99 100"
            ],
            "text/latex": "\\begin{enumerate*}\n\\item 1\n\\item 2\n\\item 3\n\\item 4\n\\item 5\n\\item 6\n\\item 7\n\\item 8\n\\item 9\n\\item 10\n\\item 11\n\\item 12\n\\item 13\n\\item 14\n\\item 15\n\\item 16\n\\item 17\n\\item 18\n\\item 19\n\\item 20\n\\item 21\n\\item 22\n\\item 23\n\\item 24\n\\item 25\n\\item 26\n\\item 27\n\\item 28\n\\item 29\n\\item 30\n\\item 31\n\\item 32\n\\item 33\n\\item 34\n\\item 35\n\\item 36\n\\item 37\n\\item 38\n\\item 39\n\\item 40\n\\item 41\n\\item 42\n\\item 43\n\\item 44\n\\item 45\n\\item 46\n\\item 47\n\\item 48\n\\item 49\n\\item 50\n\\item 51\n\\item 52\n\\item 53\n\\item 54\n\\item 55\n\\item 56\n\\item 57\n\\item 58\n\\item 59\n\\item 60\n\\item 61\n\\item 62\n\\item 63\n\\item 64\n\\item 65\n\\item 66\n\\item 67\n\\item 68\n\\item 69\n\\item 70\n\\item 71\n\\item 72\n\\item 73\n\\item 74\n\\item 75\n\\item 76\n\\item 77\n\\item 78\n\\item 79\n\\item 80\n\\item 81\n\\item 82\n\\item 83\n\\item 84\n\\item 85\n\\item 86\n\\item 87\n\\item 88\n\\item 89\n\\item 90\n\\item 91\n\\item 92\n\\item 93\n\\item 94\n\\item 95\n\\item 96\n\\item 97\n\\item 98\n\\item 99\n\\item 100\n\\end{enumerate*}\n",
            "text/markdown": "1. 1\n2. 2\n3. 3\n4. 4\n5. 5\n6. 6\n7. 7\n8. 8\n9. 9\n10. 10\n11. 11\n12. 12\n13. 13\n14. 14\n15. 15\n16. 16\n17. 17\n18. 18\n19. 19\n20. 20\n21. 21\n22. 22\n23. 23\n24. 24\n25. 25\n26. 26\n27. 27\n28. 28\n29. 29\n30. 30\n31. 31\n32. 32\n33. 33\n34. 34\n35. 35\n36. 36\n37. 37\n38. 38\n39. 39\n40. 40\n41. 41\n42. 42\n43. 43\n44. 44\n45. 45\n46. 46\n47. 47\n48. 48\n49. 49\n50. 50\n51. 51\n52. 52\n53. 53\n54. 54\n55. 55\n56. 56\n57. 57\n58. 58\n59. 59\n60. 60\n61. 61\n62. 62\n63. 63\n64. 64\n65. 65\n66. 66\n67. 67\n68. 68\n69. 69\n70. 70\n71. 71\n72. 72\n73. 73\n74. 74\n75. 75\n76. 76\n77. 77\n78. 78\n79. 79\n80. 80\n81. 81\n82. 82\n83. 83\n84. 84\n85. 85\n86. 86\n87. 87\n88. 88\n89. 89\n90. 90\n91. 91\n92. 92\n93. 93\n94. 94\n95. 95\n96. 96\n97. 97\n98. 98\n99. 99\n100. 100\n\n\n",
            "text/html": [
              "<style>\n",
              ".list-inline {list-style: none; margin:0; padding: 0}\n",
              ".list-inline>li {display: inline-block}\n",
              ".list-inline>li:not(:last-child)::after {content: \"\\00b7\"; padding: 0 .5ex}\n",
              "</style>\n",
              "<ol class=list-inline><li>1</li><li>2</li><li>3</li><li>4</li><li>5</li><li>6</li><li>7</li><li>8</li><li>9</li><li>10</li><li>11</li><li>12</li><li>13</li><li>14</li><li>15</li><li>16</li><li>17</li><li>18</li><li>19</li><li>20</li><li>21</li><li>22</li><li>23</li><li>24</li><li>25</li><li>26</li><li>27</li><li>28</li><li>29</li><li>30</li><li>31</li><li>32</li><li>33</li><li>34</li><li>35</li><li>36</li><li>37</li><li>38</li><li>39</li><li>40</li><li>41</li><li>42</li><li>43</li><li>44</li><li>45</li><li>46</li><li>47</li><li>48</li><li>49</li><li>50</li><li>51</li><li>52</li><li>53</li><li>54</li><li>55</li><li>56</li><li>57</li><li>58</li><li>59</li><li>60</li><li>61</li><li>62</li><li>63</li><li>64</li><li>65</li><li>66</li><li>67</li><li>68</li><li>69</li><li>70</li><li>71</li><li>72</li><li>73</li><li>74</li><li>75</li><li>76</li><li>77</li><li>78</li><li>79</li><li>80</li><li>81</li><li>82</li><li>83</li><li>84</li><li>85</li><li>86</li><li>87</li><li>88</li><li>89</li><li>90</li><li>91</li><li>92</li><li>93</li><li>94</li><li>95</li><li>96</li><li>97</li><li>98</li><li>99</li><li>100</li></ol>\n"
            ]
          },
          "metadata": {
            "tags": []
          }
        },
        {
          "output_type": "display_data",
          "data": {
            "text/plain": [
              " [1]   2   4   6   8  10  12  14  16  18  20  22  24  26  28  30  32  34  36  38\n",
              "[20]  40  42  44  46  48  50  52  54  56  58  60  62  64  66  68  70  72  74  76\n",
              "[39]  78  80  82  84  86  88  90  92  94  96  98 100"
            ],
            "text/latex": "\\begin{enumerate*}\n\\item 2\n\\item 4\n\\item 6\n\\item 8\n\\item 10\n\\item 12\n\\item 14\n\\item 16\n\\item 18\n\\item 20\n\\item 22\n\\item 24\n\\item 26\n\\item 28\n\\item 30\n\\item 32\n\\item 34\n\\item 36\n\\item 38\n\\item 40\n\\item 42\n\\item 44\n\\item 46\n\\item 48\n\\item 50\n\\item 52\n\\item 54\n\\item 56\n\\item 58\n\\item 60\n\\item 62\n\\item 64\n\\item 66\n\\item 68\n\\item 70\n\\item 72\n\\item 74\n\\item 76\n\\item 78\n\\item 80\n\\item 82\n\\item 84\n\\item 86\n\\item 88\n\\item 90\n\\item 92\n\\item 94\n\\item 96\n\\item 98\n\\item 100\n\\end{enumerate*}\n",
            "text/markdown": "1. 2\n2. 4\n3. 6\n4. 8\n5. 10\n6. 12\n7. 14\n8. 16\n9. 18\n10. 20\n11. 22\n12. 24\n13. 26\n14. 28\n15. 30\n16. 32\n17. 34\n18. 36\n19. 38\n20. 40\n21. 42\n22. 44\n23. 46\n24. 48\n25. 50\n26. 52\n27. 54\n28. 56\n29. 58\n30. 60\n31. 62\n32. 64\n33. 66\n34. 68\n35. 70\n36. 72\n37. 74\n38. 76\n39. 78\n40. 80\n41. 82\n42. 84\n43. 86\n44. 88\n45. 90\n46. 92\n47. 94\n48. 96\n49. 98\n50. 100\n\n\n",
            "text/html": [
              "<style>\n",
              ".list-inline {list-style: none; margin:0; padding: 0}\n",
              ".list-inline>li {display: inline-block}\n",
              ".list-inline>li:not(:last-child)::after {content: \"\\00b7\"; padding: 0 .5ex}\n",
              "</style>\n",
              "<ol class=list-inline><li>2</li><li>4</li><li>6</li><li>8</li><li>10</li><li>12</li><li>14</li><li>16</li><li>18</li><li>20</li><li>22</li><li>24</li><li>26</li><li>28</li><li>30</li><li>32</li><li>34</li><li>36</li><li>38</li><li>40</li><li>42</li><li>44</li><li>46</li><li>48</li><li>50</li><li>52</li><li>54</li><li>56</li><li>58</li><li>60</li><li>62</li><li>64</li><li>66</li><li>68</li><li>70</li><li>72</li><li>74</li><li>76</li><li>78</li><li>80</li><li>82</li><li>84</li><li>86</li><li>88</li><li>90</li><li>92</li><li>94</li><li>96</li><li>98</li><li>100</li></ol>\n"
            ]
          },
          "metadata": {
            "tags": []
          }
        }
      ]
    },
    {
      "cell_type": "code",
      "metadata": {
        "id": "hiwY1ICpZBpT",
        "colab_type": "code",
        "colab": {
          "base_uri": "https://localhost:8080/",
          "height": 200
        },
        "outputId": "fd00f1f0-ab11-4ee7-eb7c-0a0236943bc7"
      },
      "source": [
        "# 성적데이터를 벡터로 정의\n",
        "names <- c(\"김철수\", \"전혜련\", \"강재국\", \"최원식\", \"정대열\")\n",
        "kors<-c(90,95,85,70,80)\n",
        "engs<-c(85,90,70,65,80)\n",
        "mats<-c(60,85,75,80,85)\n",
        "\n",
        "names\n",
        "\n",
        "df<-data.frame(names, kors, engs, mats)\n",
        "df"
      ],
      "execution_count": null,
      "outputs": [
        {
          "output_type": "display_data",
          "data": {
            "text/plain": [
              "[1] \"김철수\" \"전혜련\" \"강재국\" \"최원식\" \"정대열\""
            ],
            "text/latex": "\\begin{enumerate*}\n\\item '김철수'\n\\item '전혜련'\n\\item '강재국'\n\\item '최원식'\n\\item '정대열'\n\\end{enumerate*}\n",
            "text/markdown": "1. '김철수'\n2. '전혜련'\n3. '강재국'\n4. '최원식'\n5. '정대열'\n\n\n",
            "text/html": [
              "<style>\n",
              ".list-inline {list-style: none; margin:0; padding: 0}\n",
              ".list-inline>li {display: inline-block}\n",
              ".list-inline>li:not(:last-child)::after {content: \"\\00b7\"; padding: 0 .5ex}\n",
              "</style>\n",
              "<ol class=list-inline><li>'김철수'</li><li>'전혜련'</li><li>'강재국'</li><li>'최원식'</li><li>'정대열'</li></ol>\n"
            ]
          },
          "metadata": {
            "tags": []
          }
        },
        {
          "output_type": "display_data",
          "data": {
            "text/plain": [
              "  names  kors engs mats\n",
              "1 김철수 90   85   60  \n",
              "2 전혜련 95   90   85  \n",
              "3 강재국 85   70   75  \n",
              "4 최원식 70   65   80  \n",
              "5 정대열 80   80   85  "
            ],
            "text/latex": "A data.frame: 5 × 4\n\\begin{tabular}{llll}\n names & kors & engs & mats\\\\\n <fct> & <dbl> & <dbl> & <dbl>\\\\\n\\hline\n\t 김철수 & 90 & 85 & 60\\\\\n\t 전혜련 & 95 & 90 & 85\\\\\n\t 강재국 & 85 & 70 & 75\\\\\n\t 최원식 & 70 & 65 & 80\\\\\n\t 정대열 & 80 & 80 & 85\\\\\n\\end{tabular}\n",
            "text/markdown": "\nA data.frame: 5 × 4\n\n| names &lt;fct&gt; | kors &lt;dbl&gt; | engs &lt;dbl&gt; | mats &lt;dbl&gt; |\n|---|---|---|---|\n| 김철수 | 90 | 85 | 60 |\n| 전혜련 | 95 | 90 | 85 |\n| 강재국 | 85 | 70 | 75 |\n| 최원식 | 70 | 65 | 80 |\n| 정대열 | 80 | 80 | 85 |\n\n",
            "text/html": [
              "<table>\n",
              "<caption>A data.frame: 5 × 4</caption>\n",
              "<thead>\n",
              "\t<tr><th scope=col>names</th><th scope=col>kors</th><th scope=col>engs</th><th scope=col>mats</th></tr>\n",
              "\t<tr><th scope=col>&lt;fct&gt;</th><th scope=col>&lt;dbl&gt;</th><th scope=col>&lt;dbl&gt;</th><th scope=col>&lt;dbl&gt;</th></tr>\n",
              "</thead>\n",
              "<tbody>\n",
              "\t<tr><td>김철수</td><td>90</td><td>85</td><td>60</td></tr>\n",
              "\t<tr><td>전혜련</td><td>95</td><td>90</td><td>85</td></tr>\n",
              "\t<tr><td>강재국</td><td>85</td><td>70</td><td>75</td></tr>\n",
              "\t<tr><td>최원식</td><td>70</td><td>65</td><td>80</td></tr>\n",
              "\t<tr><td>정대열</td><td>80</td><td>80</td><td>85</td></tr>\n",
              "</tbody>\n",
              "</table>\n"
            ]
          },
          "metadata": {
            "tags": []
          }
        }
      ]
    },
    {
      "cell_type": "code",
      "metadata": {
        "id": "hA1S79XNc2KO",
        "colab_type": "code",
        "colab": {
          "base_uri": "https://localhost:8080/",
          "height": 85
        },
        "outputId": "16ca4716-084d-43a2-9d16-d035aa367ca8"
      },
      "source": [
        "#벡터 연산\n",
        "tots<-kors+engs+mats\n",
        "tots\n",
        "\n",
        "avgs<-tots/3\n",
        "\n",
        "# 통계함수\n",
        "mean(kors)\n",
        "max(engs)\n",
        "min(mats)\n"
      ],
      "execution_count": null,
      "outputs": [
        {
          "output_type": "display_data",
          "data": {
            "text/plain": [
              "[1] 235 270 230 215 245"
            ],
            "text/latex": "\\begin{enumerate*}\n\\item 235\n\\item 270\n\\item 230\n\\item 215\n\\item 245\n\\end{enumerate*}\n",
            "text/markdown": "1. 235\n2. 270\n3. 230\n4. 215\n5. 245\n\n\n",
            "text/html": [
              "<style>\n",
              ".list-inline {list-style: none; margin:0; padding: 0}\n",
              ".list-inline>li {display: inline-block}\n",
              ".list-inline>li:not(:last-child)::after {content: \"\\00b7\"; padding: 0 .5ex}\n",
              "</style>\n",
              "<ol class=list-inline><li>235</li><li>270</li><li>230</li><li>215</li><li>245</li></ol>\n"
            ]
          },
          "metadata": {
            "tags": []
          }
        },
        {
          "output_type": "display_data",
          "data": {
            "text/plain": [
              "[1] 84"
            ],
            "text/latex": "84",
            "text/markdown": "84",
            "text/html": [
              "84"
            ]
          },
          "metadata": {
            "tags": []
          }
        },
        {
          "output_type": "display_data",
          "data": {
            "text/plain": [
              "[1] 90"
            ],
            "text/latex": "90",
            "text/markdown": "90",
            "text/html": [
              "90"
            ]
          },
          "metadata": {
            "tags": []
          }
        },
        {
          "output_type": "display_data",
          "data": {
            "text/plain": [
              "[1] 60"
            ],
            "text/latex": "60",
            "text/markdown": "60",
            "text/html": [
              "60"
            ]
          },
          "metadata": {
            "tags": []
          }
        }
      ]
    },
    {
      "cell_type": "code",
      "metadata": {
        "id": "9tPNCb2-c5GC",
        "colab_type": "code",
        "colab": {
          "base_uri": "https://localhost:8080/",
          "height": 273
        },
        "outputId": "c3389500-15f9-442d-834b-d9d0de045d12"
      },
      "source": [
        "# 데이터프레임: 2차원 데이블 자료구조\n",
        "# 서로 다른 자료형으로 구성된 데이터들을 다룸\n",
        "# data.frame(벡터, 벡터, 벡터, 옵션)\n",
        "sj<-data.frame(names, kors, engs, mats)\n",
        "sj\n",
        "\n",
        "str(sj)"
      ],
      "execution_count": null,
      "outputs": [
        {
          "output_type": "display_data",
          "data": {
            "text/plain": [
              "  names  kors engs mats\n",
              "1 김철수 90   85   60  \n",
              "2 전혜련 95   90   85  \n",
              "3 강재국 85   70   75  \n",
              "4 최원식 70   65   80  \n",
              "5 정대열 80   80   85  "
            ],
            "text/latex": "A data.frame: 5 × 4\n\\begin{tabular}{llll}\n names & kors & engs & mats\\\\\n <fct> & <dbl> & <dbl> & <dbl>\\\\\n\\hline\n\t 김철수 & 90 & 85 & 60\\\\\n\t 전혜련 & 95 & 90 & 85\\\\\n\t 강재국 & 85 & 70 & 75\\\\\n\t 최원식 & 70 & 65 & 80\\\\\n\t 정대열 & 80 & 80 & 85\\\\\n\\end{tabular}\n",
            "text/markdown": "\nA data.frame: 5 × 4\n\n| names &lt;fct&gt; | kors &lt;dbl&gt; | engs &lt;dbl&gt; | mats &lt;dbl&gt; |\n|---|---|---|---|\n| 김철수 | 90 | 85 | 60 |\n| 전혜련 | 95 | 90 | 85 |\n| 강재국 | 85 | 70 | 75 |\n| 최원식 | 70 | 65 | 80 |\n| 정대열 | 80 | 80 | 85 |\n\n",
            "text/html": [
              "<table>\n",
              "<caption>A data.frame: 5 × 4</caption>\n",
              "<thead>\n",
              "\t<tr><th scope=col>names</th><th scope=col>kors</th><th scope=col>engs</th><th scope=col>mats</th></tr>\n",
              "\t<tr><th scope=col>&lt;fct&gt;</th><th scope=col>&lt;dbl&gt;</th><th scope=col>&lt;dbl&gt;</th><th scope=col>&lt;dbl&gt;</th></tr>\n",
              "</thead>\n",
              "<tbody>\n",
              "\t<tr><td>김철수</td><td>90</td><td>85</td><td>60</td></tr>\n",
              "\t<tr><td>전혜련</td><td>95</td><td>90</td><td>85</td></tr>\n",
              "\t<tr><td>강재국</td><td>85</td><td>70</td><td>75</td></tr>\n",
              "\t<tr><td>최원식</td><td>70</td><td>65</td><td>80</td></tr>\n",
              "\t<tr><td>정대열</td><td>80</td><td>80</td><td>85</td></tr>\n",
              "</tbody>\n",
              "</table>\n"
            ]
          },
          "metadata": {
            "tags": []
          }
        },
        {
          "output_type": "stream",
          "text": [
            "'data.frame':\t5 obs. of  4 variables:\n",
            " $ names: Factor w/ 5 levels \"강재국\",\"김철수\",..: 2 3 1 5 4\n",
            " $ kors : num  90 95 85 70 80\n",
            " $ engs : num  85 90 70 65 80\n",
            " $ mats : num  60 85 75 80 85\n"
          ],
          "name": "stdout"
        }
      ]
    },
    {
      "cell_type": "code",
      "metadata": {
        "id": "RLVBM_blc52Z",
        "colab_type": "code",
        "colab": {
          "base_uri": "https://localhost:8080/",
          "height": 197
        },
        "outputId": "ec62bd4f-4412-44a2-d150-82b37a1147f3"
      },
      "source": [
        "str(sj)\n",
        "# 이름이 범주형(Factor)으로 정의되어 있음\n",
        "\n",
        "sj$names <- as.character(sj$names)\n",
        "\n",
        "str(sj)"
      ],
      "execution_count": null,
      "outputs": [
        {
          "output_type": "stream",
          "text": [
            "'data.frame':\t5 obs. of  4 variables:\n",
            " $ names: chr  \"김철수\" \"전혜련\" \"강재국\" \"최원식\" ...\n",
            " $ kors : num  90 95 85 70 80\n",
            " $ engs : num  85 90 70 65 80\n",
            " $ mats : num  60 85 75 80 85\n",
            "'data.frame':\t5 obs. of  4 variables:\n",
            " $ names: chr  \"김철수\" \"전혜련\" \"강재국\" \"최원식\" ...\n",
            " $ kors : num  90 95 85 70 80\n",
            " $ engs : num  85 90 70 65 80\n",
            " $ mats : num  60 85 75 80 85\n"
          ],
          "name": "stdout"
        }
      ]
    },
    {
      "cell_type": "code",
      "metadata": {
        "id": "IZj1u935jDBc",
        "colab_type": "code",
        "colab": {
          "base_uri": "https://localhost:8080/",
          "height": 107
        },
        "outputId": "2e56a221-de33-4dd9-b6e6-8959d49de274"
      },
      "source": [
        "# 범주형을 문자형으로 변경2\n",
        "# sj2<-data.frame(as.character(sj$names),\n",
        "# kors, engs, mats)   안됨\n",
        "\n",
        "str(sj2)"
      ],
      "execution_count": null,
      "outputs": [
        {
          "output_type": "stream",
          "text": [
            "'data.frame':\t5 obs. of  4 variables:\n",
            " $ as.character.sj.names.: Factor w/ 5 levels \"강재국\",\"김철수\",..: 2 3 1 5 4\n",
            " $ kors                  : num  90 95 85 70 80\n",
            " $ engs                  : num  85 90 70 65 80\n",
            " $ mats                  : num  60 85 75 80 85\n"
          ],
          "name": "stdout"
        }
      ]
    },
    {
      "cell_type": "code",
      "metadata": {
        "id": "LSGoxsFsjk1G",
        "colab_type": "code",
        "colab": {
          "base_uri": "https://localhost:8080/",
          "height": 107
        },
        "outputId": "886a3334-5dbc-45d9-f0fa-c9c8ad329360"
      },
      "source": [
        "# 범주형을 문자형으로 변경3\n",
        "sj3<-data.frame(names, kors, engs, mats, stringsAsFactors = F)\n",
        "\n",
        "str(sj3)\n"
      ],
      "execution_count": null,
      "outputs": [
        {
          "output_type": "stream",
          "text": [
            "'data.frame':\t5 obs. of  4 variables:\n",
            " $ names: chr  \"김철수\" \"전혜련\" \"강재국\" \"최원식\" ...\n",
            " $ kors : num  90 95 85 70 80\n",
            " $ engs : num  85 90 70 65 80\n",
            " $ mats : num  60 85 75 80 85\n"
          ],
          "name": "stdout"
        }
      ]
    },
    {
      "cell_type": "code",
      "metadata": {
        "id": "NppexOtCk1sG",
        "colab_type": "code",
        "colab": {
          "base_uri": "https://localhost:8080/",
          "height": 71
        },
        "outputId": "81b2bd8c-1651-4c1f-d3cc-0c9396d524e4"
      },
      "source": [
        "# 신생아 월별 몸무게 변화\n",
        "\n",
        "\n",
        "age <- c(01,03,05,02,11,9,03,09,12,03)\n",
        "weight <- c(4.4, 5.3, 7.2, 5.2, 8.5, 7.3, 6.0, 10.4, 10.2, 6.1)\n",
        "\n",
        "baby <- data.frame(age, weight)\n",
        "\n",
        "str(baby)"
      ],
      "execution_count": null,
      "outputs": [
        {
          "output_type": "stream",
          "text": [
            "'data.frame':\t10 obs. of  2 variables:\n",
            " $ age   : num  1 3 5 2 11 9 3 9 12 3\n",
            " $ weight: num  4.4 5.3 7.2 5.2 8.5 7.3 6 10.4 10.2 6.1\n"
          ],
          "name": "stdout"
        }
      ]
    },
    {
      "cell_type": "code",
      "metadata": {
        "id": "og3N_vqKqDMg",
        "colab_type": "code",
        "colab": {
          "base_uri": "https://localhost:8080/",
          "height": 563
        },
        "outputId": "6366c476-2021-4cd5-fe7d-9f072104b91e"
      },
      "source": [
        "#월별 몸무게 변화\n",
        "summary(baby)\n",
        "\n",
        "plot(age, weight)"
      ],
      "execution_count": null,
      "outputs": [
        {
          "output_type": "display_data",
          "data": {
            "text/plain": [
              "  age...weight   \n",
              " Min.   : 5.400  \n",
              " 1st Qu.: 8.475  \n",
              " Median :10.650  \n",
              " Mean   :12.860  \n",
              " 3rd Qu.:18.625  \n",
              " Max.   :22.200  "
            ]
          },
          "metadata": {
            "tags": []
          }
        },
        {
          "output_type": "display_data",
          "data": {
            "image/png": "[encoded data removed]",
            "text/plain": [
              "plot without title"
            ]
          },
          "metadata": {
            "tags": [],
            "image/png": {
              "width": 420,
              "height": 420
            }
          }
        }
      ]
    },
    {
      "cell_type": "code",
      "metadata": {
        "id": "U-exl3hMrVHi",
        "colab_type": "code",
        "colab": {
          "base_uri": "https://localhost:8080/",
          "height": 437
        },
        "outputId": "f929a754-0685-4245-a3db-08acab7bb8a6"
      },
      "source": [
        "library(ggplot2)\n",
        "\n",
        "ggplot(data=baby, aes(x=age, y=weight))+geom_point()"
      ],
      "execution_count": null,
      "outputs": [
        {
          "output_type": "display_data",
          "data": {
            "image/png": "[encoded data removed]",
            "text/plain": [
              "plot without title"
            ]
          },
          "metadata": {
            "tags": [],
            "image/png": {
              "width": 420,
              "height": 420
            }
          }
        }
      ]
    },
    {
      "cell_type": "code",
      "metadata": {
        "id": "uszHfAWpq46Y",
        "colab_type": "code",
        "colab": {
          "base_uri": "https://localhost:8080/",
          "height": 143
        },
        "outputId": "efeefc18-bd50-4324-91d7-b19fc4492253"
      },
      "source": [
        "# 회귀모형: a + bx +e\n",
        "lm(weight~age)"
      ],
      "execution_count": null,
      "outputs": [
        {
          "output_type": "display_data",
          "data": {
            "text/plain": [
              "\n",
              "Call:\n",
              "lm(formula = weight ~ age)\n",
              "\n",
              "Coefficients:\n",
              "(Intercept)          age  \n",
              "     4.3596       0.4656  \n"
            ]
          },
          "metadata": {
            "tags": []
          }
        }
      ]
    },
    {
      "cell_type": "code",
      "metadata": {
        "id": "s4jujJywuioW",
        "colab_type": "code",
        "colab": {
          "base_uri": "https://localhost:8080/",
          "height": 437
        },
        "outputId": "0b3373ce-d180-4d03-c571-4e965f25bf84"
      },
      "source": [
        "# 회귀선 시각화\n",
        "plot(age, weight)\n",
        "m <- lm(weight~age)\n",
        "abline(m, col='red')"
      ],
      "execution_count": null,
      "outputs": [
        {
          "output_type": "display_data",
          "data": {
            "image/png": "[encoded data removed]",
            "text/plain": [
              "plot without title"
            ]
          },
          "metadata": {
            "tags": [],
            "image/png": {
              "width": 420,
              "height": 420
            }
          }
        }
      ]
    },
    {
      "cell_type": "code",
      "metadata": {
        "id": "rbgA_q_FlqUN",
        "colab_type": "code",
        "colab": {
          "base_uri": "https://localhost:8080/",
          "height": 215
        },
        "outputId": "e22b8212-a30f-4482-d4c2-fb7c61836d6c"
      },
      "source": [
        "# 매니저 평점 분석\n",
        "Manager <- c(\"1\",\"2\",\"3\",\"4\",\"5\")\n",
        "Date <- c(\"2014-10-24\", \"2014-10-28\", \"2014-10-01\", \"2014-10/12\",\"2014-05-01\")\n",
        "Country <- c(\"US\",\"US\", \"UK\",  \"UK\", \"UK\")\n",
        "Gender <- c(\"M\",\"F\",\"F\",\"M\",\"F\")\n",
        "Age <- c(32,45,25,39,99)\n",
        "q1 <- c(5,3,3,3,2)\n",
        "q2 <- c(4,5,5,3,2)\n",
        "q3 <- c(5,2,5,4,1)\n",
        "q4 <- c(5,5,5,NA,2)\n",
        "q5 <- c(5,5,2,NA,1)\n",
        "\n",
        "managers <- data.frame(Manager,Date, Country, Gender, Age, q1, q2, q3, q4, q5)\n",
        "\n",
        "str(managers)\n",
        "\n"
      ],
      "execution_count": null,
      "outputs": [
        {
          "output_type": "stream",
          "text": [
            "'data.frame':\t5 obs. of  10 variables:\n",
            " $ Manager: Factor w/ 5 levels \"1\",\"2\",\"3\",\"4\",..: 1 2 3 4 5\n",
            " $ Date   : Factor w/ 5 levels \"2014-05-01\",\"2014-10-01\",..: 3 4 2 5 1\n",
            " $ Country: Factor w/ 2 levels \"UK\",\"US\": 2 2 1 1 1\n",
            " $ Gender : Factor w/ 2 levels \"F\",\"M\": 2 1 1 2 1\n",
            " $ Age    : num  32 45 25 39 99\n",
            " $ q1     : num  5 3 3 3 2\n",
            " $ q2     : num  4 5 5 3 2\n",
            " $ q3     : num  5 2 5 4 1\n",
            " $ q4     : num  5 5 5 NA 2\n",
            " $ q5     : num  5 5 2 NA 1\n"
          ],
          "name": "stdout"
        }
      ]
    },
    {
      "cell_type": "code",
      "metadata": {
        "id": "iSuuV7yMnfpa",
        "colab_type": "code",
        "colab": {}
      },
      "source": [
        "#매니저 입사일이 범주형으로 변함\n",
        "managers$Date<-as.character(managers$Date)\n",
        "\n",
        "# managers$Date<-as.Date.factor(managers$Date)"
      ],
      "execution_count": null,
      "outputs": []
    },
    {
      "cell_type": "code",
      "metadata": {
        "id": "QXlfEAZ9oXT1",
        "colab_type": "code",
        "colab": {
          "base_uri": "https://localhost:8080/",
          "height": 215
        },
        "outputId": "7a51f157-f04e-434d-f3a4-8291a76dc01b"
      },
      "source": [
        "str(managers)"
      ],
      "execution_count": null,
      "outputs": [
        {
          "output_type": "stream",
          "text": [
            "'data.frame':\t5 obs. of  10 variables:\n",
            " $ Manager: Factor w/ 5 levels \"1\",\"2\",\"3\",\"4\",..: 1 2 3 4 5\n",
            " $ Date   : chr  \"2014-10-24\" \"2014-10-28\" \"2014-10-01\" \"2014-10/12\" ...\n",
            " $ Country: Factor w/ 2 levels \"UK\",\"US\": 2 2 1 1 1\n",
            " $ Gender : Factor w/ 2 levels \"F\",\"M\": 2 1 1 2 1\n",
            " $ Age    : num  32 45 25 39 99\n",
            " $ q1     : num  5 3 3 3 2\n",
            " $ q2     : num  4 5 5 3 2\n",
            " $ q3     : num  5 2 5 4 1\n",
            " $ q4     : num  5 5 5 NA 2\n",
            " $ q5     : num  5 5 2 NA 1\n"
          ],
          "name": "stdout"
        }
      ]
    },
    {
      "cell_type": "code",
      "metadata": {
        "id": "VboSfNG5vWCR",
        "colab_type": "code",
        "colab": {
          "base_uri": "https://localhost:8080/",
          "height": 51
        },
        "outputId": "6f8b99f8-1572-4d25-bc60-21e641c9fa90"
      },
      "source": [
        "# 설문문항에 대한 통계함수 적용\n",
        "# qmean <- mean(q1, q2, q3, q4, q5) 안됨\n",
        "qsum <- q1+q2+q3+q4+q5\n",
        "qsum\n",
        "\n",
        "qmean <- qsum/5\n",
        "qmean  # NA 포함되면 연산결과도 NA"
      ],
      "execution_count": null,
      "outputs": [
        {
          "output_type": "display_data",
          "data": {
            "text/plain": [
              "[1] 24 20 20 NA  8"
            ],
            "text/latex": "\\begin{enumerate*}\n\\item 24\n\\item 20\n\\item 20\n\\item <NA>\n\\item 8\n\\end{enumerate*}\n",
            "text/markdown": "1. 24\n2. 20\n3. 20\n4. &lt;NA&gt;\n5. 8\n\n\n",
            "text/html": [
              "<style>\n",
              ".list-inline {list-style: none; margin:0; padding: 0}\n",
              ".list-inline>li {display: inline-block}\n",
              ".list-inline>li:not(:last-child)::after {content: \"\\00b7\"; padding: 0 .5ex}\n",
              "</style>\n",
              "<ol class=list-inline><li>24</li><li>20</li><li>20</li><li>&lt;NA&gt;</li><li>8</li></ol>\n"
            ]
          },
          "metadata": {
            "tags": []
          }
        },
        {
          "output_type": "display_data",
          "data": {
            "text/plain": [
              "[1] 4.8 4.0 4.0  NA 1.6"
            ],
            "text/latex": "\\begin{enumerate*}\n\\item 4.8\n\\item 4\n\\item 4\n\\item <NA>\n\\item 1.6\n\\end{enumerate*}\n",
            "text/markdown": "1. 4.8\n2. 4\n3. 4\n4. &lt;NA&gt;\n5. 1.6\n\n\n",
            "text/html": [
              "<style>\n",
              ".list-inline {list-style: none; margin:0; padding: 0}\n",
              ".list-inline>li {display: inline-block}\n",
              ".list-inline>li:not(:last-child)::after {content: \"\\00b7\"; padding: 0 .5ex}\n",
              "</style>\n",
              "<ol class=list-inline><li>4.8</li><li>4</li><li>4</li><li>&lt;NA&gt;</li><li>1.6</li></ol>\n"
            ]
          },
          "metadata": {
            "tags": []
          }
        }
      ]
    },
    {
      "cell_type": "code",
      "metadata": {
        "id": "Pp1Tz585wiyE",
        "colab_type": "code",
        "colab": {
          "base_uri": "https://localhost:8080/",
          "height": 51
        },
        "outputId": "9200dbf6-9606-48d9-a78d-061184807dfe"
      },
      "source": [
        "# NA가 포함된 벡터에 통계함수 적용\n",
        "mean(q4)\n",
        "mean(q4, na.rm = T) # 연산대상에 결측치 제외\n"
      ],
      "execution_count": null,
      "outputs": [
        {
          "output_type": "display_data",
          "data": {
            "text/plain": [
              "[1] NA"
            ],
            "text/latex": "<NA>",
            "text/markdown": "&lt;NA&gt;",
            "text/html": [
              "&lt;NA&gt;"
            ]
          },
          "metadata": {
            "tags": []
          }
        },
        {
          "output_type": "display_data",
          "data": {
            "text/plain": [
              "[1] 4.25"
            ],
            "text/latex": "4.25",
            "text/markdown": "4.25",
            "text/html": [
              "4.25"
            ]
          },
          "metadata": {
            "tags": []
          }
        }
      ]
    },
    {
      "cell_type": "code",
      "metadata": {
        "id": "wiAu6Adew6DB",
        "colab_type": "code",
        "colab": {
          "base_uri": "https://localhost:8080/",
          "height": 179
        },
        "outputId": "2ce78e6b-b1b0-46d2-8faf-8874f9dd8a14"
      },
      "source": [
        "# NA통계\n",
        "# is.na(대상): 결측치 존재여부를 T,F로 출력\n",
        "is.na(managers)\n",
        "colSums(is.na(managers))\n",
        "# table(is.na(managers))"
      ],
      "execution_count": null,
      "outputs": [
        {
          "output_type": "display_data",
          "data": {
            "text/plain": [
              "     Manager Date  Country Gender Age   q1    q2    q3    q4    q5   \n",
              "[1,] FALSE   FALSE FALSE   FALSE  FALSE FALSE FALSE FALSE FALSE FALSE\n",
              "[2,] FALSE   FALSE FALSE   FALSE  FALSE FALSE FALSE FALSE FALSE FALSE\n",
              "[3,] FALSE   FALSE FALSE   FALSE  FALSE FALSE FALSE FALSE FALSE FALSE\n",
              "[4,] FALSE   FALSE FALSE   FALSE  FALSE FALSE FALSE FALSE  TRUE  TRUE\n",
              "[5,] FALSE   FALSE FALSE   FALSE  FALSE FALSE FALSE FALSE FALSE FALSE"
            ],
            "text/latex": "A matrix: 5 × 10 of type lgl\n\\begin{tabular}{llllllllll}\n Manager & Date & Country & Gender & Age & q1 & q2 & q3 & q4 & q5\\\\\n\\hline\n\t FALSE & FALSE & FALSE & FALSE & FALSE & FALSE & FALSE & FALSE & FALSE & FALSE\\\\\n\t FALSE & FALSE & FALSE & FALSE & FALSE & FALSE & FALSE & FALSE & FALSE & FALSE\\\\\n\t FALSE & FALSE & FALSE & FALSE & FALSE & FALSE & FALSE & FALSE & FALSE & FALSE\\\\\n\t FALSE & FALSE & FALSE & FALSE & FALSE & FALSE & FALSE & FALSE &  TRUE &  TRUE\\\\\n\t FALSE & FALSE & FALSE & FALSE & FALSE & FALSE & FALSE & FALSE & FALSE & FALSE\\\\\n\\end{tabular}\n",
            "text/markdown": "\nA matrix: 5 × 10 of type lgl\n\n| Manager | Date | Country | Gender | Age | q1 | q2 | q3 | q4 | q5 |\n|---|---|---|---|---|---|---|---|---|---|\n| FALSE | FALSE | FALSE | FALSE | FALSE | FALSE | FALSE | FALSE | FALSE | FALSE |\n| FALSE | FALSE | FALSE | FALSE | FALSE | FALSE | FALSE | FALSE | FALSE | FALSE |\n| FALSE | FALSE | FALSE | FALSE | FALSE | FALSE | FALSE | FALSE | FALSE | FALSE |\n| FALSE | FALSE | FALSE | FALSE | FALSE | FALSE | FALSE | FALSE |  TRUE |  TRUE |\n| FALSE | FALSE | FALSE | FALSE | FALSE | FALSE | FALSE | FALSE | FALSE | FALSE |\n\n",
            "text/html": [
              "<table>\n",
              "<caption>A matrix: 5 × 10 of type lgl</caption>\n",
              "<thead>\n",
              "\t<tr><th scope=col>Manager</th><th scope=col>Date</th><th scope=col>Country</th><th scope=col>Gender</th><th scope=col>Age</th><th scope=col>q1</th><th scope=col>q2</th><th scope=col>q3</th><th scope=col>q4</th><th scope=col>q5</th></tr>\n",
              "</thead>\n",
              "<tbody>\n",
              "\t<tr><td>FALSE</td><td>FALSE</td><td>FALSE</td><td>FALSE</td><td>FALSE</td><td>FALSE</td><td>FALSE</td><td>FALSE</td><td>FALSE</td><td>FALSE</td></tr>\n",
              "\t<tr><td>FALSE</td><td>FALSE</td><td>FALSE</td><td>FALSE</td><td>FALSE</td><td>FALSE</td><td>FALSE</td><td>FALSE</td><td>FALSE</td><td>FALSE</td></tr>\n",
              "\t<tr><td>FALSE</td><td>FALSE</td><td>FALSE</td><td>FALSE</td><td>FALSE</td><td>FALSE</td><td>FALSE</td><td>FALSE</td><td>FALSE</td><td>FALSE</td></tr>\n",
              "\t<tr><td>FALSE</td><td>FALSE</td><td>FALSE</td><td>FALSE</td><td>FALSE</td><td>FALSE</td><td>FALSE</td><td>FALSE</td><td> TRUE</td><td> TRUE</td></tr>\n",
              "\t<tr><td>FALSE</td><td>FALSE</td><td>FALSE</td><td>FALSE</td><td>FALSE</td><td>FALSE</td><td>FALSE</td><td>FALSE</td><td>FALSE</td><td>FALSE</td></tr>\n",
              "</tbody>\n",
              "</table>\n"
            ]
          },
          "metadata": {
            "tags": []
          }
        },
        {
          "output_type": "display_data",
          "data": {
            "text/plain": [
              "Manager    Date Country  Gender     Age      q1      q2      q3      q4      q5 \n",
              "      0       0       0       0       0       0       0       0       1       1 "
            ],
            "text/latex": "\\begin{description*}\n\\item[Manager] 0\n\\item[Date] 0\n\\item[Country] 0\n\\item[Gender] 0\n\\item[Age] 0\n\\item[q1] 0\n\\item[q2] 0\n\\item[q3] 0\n\\item[q4] 1\n\\item[q5] 1\n\\end{description*}\n",
            "text/markdown": "Manager\n:   0Date\n:   0Country\n:   0Gender\n:   0Age\n:   0q1\n:   0q2\n:   0q3\n:   0q4\n:   1q5\n:   1\n\n",
            "text/html": [
              "<style>\n",
              ".dl-inline {width: auto; margin:0; padding: 0}\n",
              ".dl-inline>dt, .dl-inline>dd {float: none; width: auto; display: inline-block}\n",
              ".dl-inline>dt::after {content: \":\\0020\"; padding-right: .5ex}\n",
              ".dl-inline>dt:not(:first-of-type) {padding-left: .5ex}\n",
              "</style><dl class=dl-inline><dt>Manager</dt><dd>0</dd><dt>Date</dt><dd>0</dd><dt>Country</dt><dd>0</dd><dt>Gender</dt><dd>0</dd><dt>Age</dt><dd>0</dd><dt>q1</dt><dd>0</dd><dt>q2</dt><dd>0</dd><dt>q3</dt><dd>0</dd><dt>q4</dt><dd>1</dd><dt>q5</dt><dd>1</dd></dl>\n"
            ]
          },
          "metadata": {
            "tags": []
          }
        }
      ]
    },
    {
      "cell_type": "code",
      "metadata": {
        "id": "-ccGhzZRyAqP",
        "colab_type": "code",
        "colab": {
          "base_uri": "https://localhost:8080/",
          "height": 233
        },
        "outputId": "17727dc2-13e8-40c7-b04d-92d808de15b2"
      },
      "source": [
        "# 타이타닉 데이터 불러오기\n",
        "titanic <- read.csv('https://raw.githubusercontent.com/Jungsan005/R_statstics/master/datasets/titanic.csv')\n",
        "\n",
        "str(titanic)"
      ],
      "execution_count": null,
      "outputs": [
        {
          "output_type": "stream",
          "text": [
            "'data.frame':\t1310 obs. of  11 variables:\n",
            " $ pclass  : int  1 1 1 1 1 1 1 1 1 1 ...\n",
            " $ survived: int  1 1 0 0 0 1 1 0 1 0 ...\n",
            " $ name    : Factor w/ 1308 levels \"\",\"Abbing, Mr. Anthony\",..: 23 25 26 27 28 32 47 48 52 56 ...\n",
            " $ sex     : Factor w/ 3 levels \"\",\"female\",\"male\": 2 3 2 3 2 3 2 3 2 3 ...\n",
            " $ age     : num  29 0.917 2 30 25 ...\n",
            " $ sibsp   : int  0 1 1 1 1 0 1 0 2 0 ...\n",
            " $ parch   : int  0 2 2 2 2 0 0 0 0 0 ...\n",
            " $ ticket  : Factor w/ 930 levels \"\",\"110152\",\"110413\",..: 189 51 51 51 51 126 94 17 78 827 ...\n",
            " $ fare    : num  211 152 152 152 152 ...\n",
            " $ cabin   : Factor w/ 187 levels \"\",\"A10\",\"A11\",..: 45 81 81 81 81 151 147 17 63 1 ...\n",
            " $ embarked: Factor w/ 4 levels \"\",\"C\",\"Q\",\"S\": 4 4 4 4 4 4 4 4 4 2 ...\n"
          ],
          "name": "stdout"
        }
      ]
    },
    {
      "cell_type": "code",
      "metadata": {
        "id": "oVuvZ_C41Qii",
        "colab_type": "code",
        "colab": {
          "base_uri": "https://localhost:8080/",
          "height": 537
        },
        "outputId": "b46a3a1e-59df-4710-f7b5-80951ac63ee7"
      },
      "source": [
        "# 탐색적 분석\n",
        "summary(titanic)\n",
        "\n",
        "# 결측치 분석\n",
        "colSums(is.na(titanic))\n",
        "table(is.na(titanic))"
      ],
      "execution_count": null,
      "outputs": [
        {
          "output_type": "display_data",
          "data": {
            "text/plain": [
              "     pclass         survived                                name     \n",
              " Min.   :1.000   Min.   :0.000   Connolly, Miss. Kate         :   2  \n",
              " 1st Qu.:2.000   1st Qu.:0.000   Kelly, Mr. James             :   2  \n",
              " Median :3.000   Median :0.000                                :   1  \n",
              " Mean   :2.295   Mean   :0.382   Abbing, Mr. Anthony          :   1  \n",
              " 3rd Qu.:3.000   3rd Qu.:1.000   Abbott, Master. Eugene Joseph:   1  \n",
              " Max.   :3.000   Max.   :1.000   Abbott, Mr. Rossmore Edward  :   1  \n",
              " NA's   :1       NA's   :1       (Other)                      :1302  \n",
              "     sex           age              sibsp            parch      \n",
              "       :  1   Min.   : 0.1667   Min.   :0.0000   Min.   :0.000  \n",
              " female:466   1st Qu.:21.0000   1st Qu.:0.0000   1st Qu.:0.000  \n",
              " male  :843   Median :28.0000   Median :0.0000   Median :0.000  \n",
              "              Mean   :29.8811   Mean   :0.4989   Mean   :0.385  \n",
              "              3rd Qu.:39.0000   3rd Qu.:1.0000   3rd Qu.:0.000  \n",
              "              Max.   :80.0000   Max.   :8.0000   Max.   :9.000  \n",
              "              NA's   :264       NA's   :1        NA's   :1      \n",
              "      ticket          fare                     cabin      embarked\n",
              " CA. 2343:  11   Min.   :  0.000                  :1015    :  3   \n",
              " 1601    :   8   1st Qu.:  7.896   C23 C25 C27    :   6   C:270   \n",
              " CA 2144 :   8   Median : 14.454   B57 B59 B63 B66:   5   Q:123   \n",
              " 3101295 :   7   Mean   : 33.295   G6             :   5   S:914   \n",
              " 347077  :   7   3rd Qu.: 31.275   B96 B98        :   4           \n",
              " 347082  :   7   Max.   :512.329   C22 C26        :   4           \n",
              " (Other) :1262   NA's   :2         (Other)        : 271           "
            ]
          },
          "metadata": {
            "tags": []
          }
        },
        {
          "output_type": "display_data",
          "data": {
            "text/plain": [
              "  pclass survived     name      sex      age    sibsp    parch   ticket \n",
              "       1        1        0        0      264        1        1        0 \n",
              "    fare    cabin embarked \n",
              "       2        0        0 "
            ],
            "text/latex": "\\begin{description*}\n\\item[pclass] 1\n\\item[survived] 1\n\\item[name] 0\n\\item[sex] 0\n\\item[age] 264\n\\item[sibsp] 1\n\\item[parch] 1\n\\item[ticket] 0\n\\item[fare] 2\n\\item[cabin] 0\n\\item[embarked] 0\n\\end{description*}\n",
            "text/markdown": "pclass\n:   1survived\n:   1name\n:   0sex\n:   0age\n:   264sibsp\n:   1parch\n:   1ticket\n:   0fare\n:   2cabin\n:   0embarked\n:   0\n\n",
            "text/html": [
              "<style>\n",
              ".dl-inline {width: auto; margin:0; padding: 0}\n",
              ".dl-inline>dt, .dl-inline>dd {float: none; width: auto; display: inline-block}\n",
              ".dl-inline>dt::after {content: \":\\0020\"; padding-right: .5ex}\n",
              ".dl-inline>dt:not(:first-of-type) {padding-left: .5ex}\n",
              "</style><dl class=dl-inline><dt>pclass</dt><dd>1</dd><dt>survived</dt><dd>1</dd><dt>name</dt><dd>0</dd><dt>sex</dt><dd>0</dd><dt>age</dt><dd>264</dd><dt>sibsp</dt><dd>1</dd><dt>parch</dt><dd>1</dd><dt>ticket</dt><dd>0</dd><dt>fare</dt><dd>2</dd><dt>cabin</dt><dd>0</dd><dt>embarked</dt><dd>0</dd></dl>\n"
            ]
          },
          "metadata": {
            "tags": []
          }
        },
        {
          "output_type": "display_data",
          "data": {
            "text/plain": [
              "\n",
              "FALSE  TRUE \n",
              "14140   270 "
            ]
          },
          "metadata": {
            "tags": []
          }
        }
      ]
    },
    {
      "cell_type": "code",
      "metadata": {
        "id": "3nQASbXC1_JK",
        "colab_type": "code",
        "colab": {
          "base_uri": "https://localhost:8080/",
          "height": 71
        },
        "outputId": "f0b3a61c-821b-46b9-947c-49376a1e7f6b"
      },
      "source": [
        "# 승선객 중 사망/생존(survived) 현황\n",
        "# !is.na(titanic$survived)\n",
        "# table(!is.na(titanic$survived))\n",
        "\n",
        "table(titanic$survived)"
      ],
      "execution_count": null,
      "outputs": [
        {
          "output_type": "display_data",
          "data": {
            "text/plain": [
              "\n",
              "  0   1 \n",
              "809 500 "
            ]
          },
          "metadata": {
            "tags": []
          }
        }
      ]
    },
    {
      "cell_type": "code",
      "metadata": {
        "id": "i7GQhT8Y2riV",
        "colab_type": "code",
        "colab": {
          "base_uri": "https://localhost:8080/",
          "height": 437
        },
        "outputId": "bd3d35a4-e9b4-4139-d85a-f7d9626ff44e"
      },
      "source": [
        "# 승선객 중 성별(sex) 현황 시각화\n",
        "qplot(titanic$sex)\n"
      ],
      "execution_count": null,
      "outputs": [
        {
          "output_type": "display_data",
          "data": {
            "image/png": "[encoded data removed]",
            "text/plain": [
              "plot without title"
            ]
          },
          "metadata": {
            "tags": [],
            "image/png": {
              "width": 420,
              "height": 420
            }
          }
        }
      ]
    },
    {
      "cell_type": "code",
      "metadata": {
        "id": "qOqUOqxu2vKV",
        "colab_type": "code",
        "colab": {
          "base_uri": "https://localhost:8080/",
          "height": 437
        },
        "outputId": "ce442ccc-bb60-422a-a897-22c9b46d8648"
      },
      "source": [
        "# 승선객 중 승선위치(embarked) 현황 시각화\n",
        "qplot(titanic$embarked)\n",
        "\n"
      ],
      "execution_count": null,
      "outputs": [
        {
          "output_type": "display_data",
          "data": {
            "image/png": "[encoded data removed]",
            "text/plain": [
              "plot without title"
            ]
          },
          "metadata": {
            "tags": [],
            "image/png": {
              "width": 420,
              "height": 420
            }
          }
        }
      ]
    },
    {
      "cell_type": "code",
      "metadata": {
        "id": "E5bh0nWg22aU",
        "colab_type": "code",
        "colab": {
          "base_uri": "https://localhost:8080/",
          "height": 437
        },
        "outputId": "0c143261-e60d-4793-ca75-4be07c5c76e9"
      },
      "source": [
        "# 승선객 중 나이 현황 시각화\n",
        "# qplot(titanic$age)\n",
        "\n",
        "hist(titanic$age, col=rainbow(10))"
      ],
      "execution_count": null,
      "outputs": [
        {
          "output_type": "display_data",
          "data": {
            "image/png": "[encoded data removed]",
            "text/plain": [
              "Plot with title “Histogram of titanic$age”"
            ]
          },
          "metadata": {
            "tags": [],
            "image/png": {
              "width": 420,
              "height": 420
            }
          }
        }
      ]
    }
  ]
}